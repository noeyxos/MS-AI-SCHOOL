{
 "cells": [
  {
   "cell_type": "markdown",
   "id": "398b3b92",
   "metadata": {},
   "source": [
    "#  평균 제곱 오차(MSE) 실습"
   ]
  },
  {
   "cell_type": "code",
   "execution_count": 2,
   "id": "4b481df4",
   "metadata": {},
   "outputs": [],
   "source": [
    "import numpy as np"
   ]
  },
  {
   "cell_type": "code",
   "execution_count": 5,
   "id": "e0cb0fb6",
   "metadata": {
    "scrolled": true
   },
   "outputs": [
    {
     "name": "stdout",
     "output_type": "stream",
     "text": [
      "1.0\n"
     ]
    }
   ],
   "source": [
    "def mean_squared_error(y_true, y_pred):\n",
    "    mse = np.mean((y_true - y_pred) **2)\n",
    "    return mse\n",
    "\n",
    "\"\"\"\n",
    "예시\n",
    "\n",
    "y_true = [1,2,3,4],\n",
    "y_pred = [2,3,4,5]\n",
    "\n",
    "\"\"\"\n",
    "\n",
    "y_true = np.array([1,2,3,4])\n",
    "y_pred = np.array([2,3,4,5])\n",
    "\n",
    "mse = mean_squared_error(y_true, y_pred)\n",
    "print(mse)"
   ]
  },
  {
   "cell_type": "markdown",
   "id": "00e98283",
   "metadata": {},
   "source": [
    "# Binary Cross Entropy Loss 실습"
   ]
  },
  {
   "cell_type": "code",
   "execution_count": 8,
   "id": "8f0b4982",
   "metadata": {
    "scrolled": true
   },
   "outputs": [
    {
     "name": "stdout",
     "output_type": "stream",
     "text": [
      "n value >>>  4\n",
      "0.17380733669106627\n"
     ]
    }
   ],
   "source": [
    "import numpy as np\n",
    "\n",
    "def binary_cross_entropy_loss(y_true, y_pred):\n",
    "    epsilon = 1e-15\n",
    "    n = y_true.shape[0]\n",
    "    print(\"n value >>> \", n)\n",
    "    loss = -np.mean(y_true * np.log(y_pred + epsilon) + (1 - y_true) * np.log(1 - y_pred + epsilon) )\n",
    "    return loss\n",
    "\n",
    "y_true = np.array([1, 0, 1, 1])\n",
    "y_pred = np.array([0.99, 0.1, 0.8, 0.7])\n",
    "\n",
    "loss = binary_cross_entropy_loss(y_true, y_pred)\n",
    "print(loss)"
   ]
  },
  {
   "cell_type": "markdown",
   "id": "8d1087c0",
   "metadata": {},
   "source": [
    "# Cross Entropy Loss 실습"
   ]
  },
  {
   "cell_type": "code",
   "execution_count": 9,
   "id": "8b11d325",
   "metadata": {},
   "outputs": [
    {
     "name": "stdout",
     "output_type": "stream",
     "text": [
      "Cross Entropy Loss:  0.42432189193762915\n"
     ]
    }
   ],
   "source": [
    "import numpy as np\n",
    "\n",
    "def cross_entropy_loss(y_true, y_pred, C):\n",
    "    \"\"\"\n",
    "    y_true : 실제값(크기: (n, C))\n",
    "    y_pred : 예측값(크기: (n, C))\n",
    "    C: 클래스 개수\n",
    "    \n",
    "    \"\"\"\n",
    "    n = y_true.shape[0] # 샘플개수\n",
    "    ce_loss = -1 / n * np.sum(y_true * np.log(y_pred)) # CE Loss 계산 \n",
    "    \n",
    "    return ce_loss\n",
    "\n",
    "y_true = np.array([[1,0,0],[0,1,0],[0,0,1]]) # 실제값\n",
    "y_pred = np.array([[0.7, 0.2, 0.1], [0.1, 0.8, 0.1], [0.2, 0.3, 0.5]]) # 예측값\n",
    "C = 3 # 클래스 개수\n",
    "\n",
    "ce_loss = cross_entropy_loss(y_true, y_pred, C) # Cross Entropy Loss 계산\n",
    "print(\"Cross Entropy Loss: \", ce_loss )"
   ]
  },
  {
   "cell_type": "code",
   "execution_count": null,
   "id": "42377a44",
   "metadata": {},
   "outputs": [],
   "source": []
  }
 ],
 "metadata": {
  "kernelspec": {
   "display_name": "AI",
   "language": "python",
   "name": "ai"
  },
  "language_info": {
   "codemirror_mode": {
    "name": "ipython",
    "version": 3
   },
   "file_extension": ".py",
   "mimetype": "text/x-python",
   "name": "python",
   "nbconvert_exporter": "python",
   "pygments_lexer": "ipython3",
   "version": "3.8.16"
  }
 },
 "nbformat": 4,
 "nbformat_minor": 5
}
