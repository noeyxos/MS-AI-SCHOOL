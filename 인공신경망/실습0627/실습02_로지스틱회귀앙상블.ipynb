{
 "cells": [
  {
   "cell_type": "markdown",
   "id": "abd3eb33",
   "metadata": {},
   "source": [
    "#  로지스틱 회귀 앙상블"
   ]
  },
  {
   "cell_type": "code",
   "execution_count": 1,
   "id": "aa6551db",
   "metadata": {},
   "outputs": [],
   "source": [
    "import torch\n",
    "import torch.nn as nn \n",
    "import torch.optim as optim\n",
    "from torch.utils.data import DataLoader\n",
    "from torchvision.datasets import FashionMNIST\n",
    "from torchvision.transforms import ToTensor\n",
    "from sklearn.model_selection import train_test_split\n",
    "from sklearn.metrics import accuracy_score"
   ]
  },
  {
   "cell_type": "markdown",
   "id": "8641bbc9",
   "metadata": {},
   "source": [
    "모델선언"
   ]
  },
  {
   "cell_type": "code",
   "execution_count": 2,
   "id": "3bd7ec22",
   "metadata": {},
   "outputs": [],
   "source": [
    "class LogisticRegression(nn.Module):\n",
    "    def __init__(self, input_size, num_classes):\n",
    "        super(LogisticRegression, self).__init__()\n",
    "        self.linear = nn.Linear(input_size, num_classes)\n",
    "        \n",
    "    def forward(self, x):\n",
    "        out = self.linear(x)\n",
    "        return out\n"
   ]
  },
  {
   "cell_type": "markdown",
   "id": "2bfa3c16",
   "metadata": {},
   "source": [
    "하이퍼 파라미터 설정"
   ]
  },
  {
   "cell_type": "code",
   "execution_count": 3,
   "id": "3758a3af",
   "metadata": {},
   "outputs": [],
   "source": [
    "input_size = 28 * 28\n",
    "num_classes = 10\n",
    "num_epochs = 10\n",
    "learning_rate = 0.001\n",
    "num_models = 5 # 앙상블에 사용할 모델의 개수"
   ]
  },
  {
   "cell_type": "markdown",
   "id": "bf534da0",
   "metadata": {},
   "source": [
    " 데이터셋, 데이터 로더 생성 "
   ]
  },
  {
   "cell_type": "code",
   "execution_count": 4,
   "id": "5648efcf",
   "metadata": {},
   "outputs": [],
   "source": [
    "dataset = FashionMNIST(root=\"./data/\", train=True, transform=ToTensor(), download=False)\n",
    "train_set, val_set = train_test_split(dataset, test_size=0.2, random_state=42)\n",
    "\n",
    "train_loader = DataLoader(train_set, batch_size=100, shuffle=True)\n",
    "val_loader = DataLoader(val_set, batch_size=100, shuffle=False)"
   ]
  },
  {
   "cell_type": "markdown",
   "id": "2c41dfd7",
   "metadata": {},
   "source": [
    "앙상블"
   ]
  },
  {
   "cell_type": "code",
   "execution_count": 5,
   "id": "fd75dcaa",
   "metadata": {},
   "outputs": [
    {
     "name": "stdout",
     "output_type": "stream",
     "text": [
      "[LogisticRegression(\n",
      "  (linear): Linear(in_features=784, out_features=10, bias=True)\n",
      "), LogisticRegression(\n",
      "  (linear): Linear(in_features=784, out_features=10, bias=True)\n",
      "), LogisticRegression(\n",
      "  (linear): Linear(in_features=784, out_features=10, bias=True)\n",
      "), LogisticRegression(\n",
      "  (linear): Linear(in_features=784, out_features=10, bias=True)\n",
      "), LogisticRegression(\n",
      "  (linear): Linear(in_features=784, out_features=10, bias=True)\n",
      ")]\n"
     ]
    }
   ],
   "source": [
    "# 앙상블 모델 생성 \n",
    "models = [LogisticRegression(input_size, num_classes) for _ in range(num_models)]\n",
    "print(models)"
   ]
  },
  {
   "cell_type": "markdown",
   "id": "ac2202bd",
   "metadata": {},
   "source": [
    "모델, 손실함수, 옵티마이저 정의 "
   ]
  },
  {
   "cell_type": "code",
   "execution_count": 6,
   "id": "4553b50d",
   "metadata": {},
   "outputs": [],
   "source": [
    "criterion = nn.CrossEntropyLoss()\n",
    "optimizers = [optim.SGD(model.parameters(), lr=learning_rate) for model in models ]"
   ]
  },
  {
   "cell_type": "markdown",
   "id": "c386edd3",
   "metadata": {},
   "source": [
    "학습"
   ]
  },
  {
   "cell_type": "code",
   "execution_count": 7,
   "id": "2935de6d",
   "metadata": {
    "scrolled": true
   },
   "outputs": [
    {
     "name": "stdout",
     "output_type": "stream",
     "text": [
      "Epoch [1/10], Validation Accuracy:65.33%\n",
      "Epoch [2/10], Validation Accuracy:66.22%\n",
      "Epoch [3/10], Validation Accuracy:67.20%\n",
      "Epoch [4/10], Validation Accuracy:68.38%\n",
      "Epoch [5/10], Validation Accuracy:69.23%\n",
      "Epoch [6/10], Validation Accuracy:70.35%\n",
      "Epoch [7/10], Validation Accuracy:71.26%\n",
      "Epoch [8/10], Validation Accuracy:72.23%\n",
      "Epoch [9/10], Validation Accuracy:72.95%\n",
      "Epoch [10/10], Validation Accuracy:73.31%\n"
     ]
    }
   ],
   "source": [
    "for epoch in range(num_epochs):\n",
    "    for i, (images, labels) in enumerate(train_loader):\n",
    "        \n",
    "        # 데이터 로드\n",
    "        images = images.reshape(-1, input_size)\n",
    "        labels = labels\n",
    "        \n",
    "        # 순전파 및 손실 계산\n",
    "        for j in range(num_models):\n",
    "            outputs = models[j](images)\n",
    "            loss = criterion(outputs, labels)\n",
    "            \n",
    "            # 역전파 및 가중치 업데이트 \n",
    "            optimizers[j].zero_grad()\n",
    "            loss.backward()\n",
    "            optimizers[j].step()\n",
    "            \n",
    "            \n",
    "    # 검증 \n",
    "    with torch.no_grad():\n",
    "        total, correct = 0, 0\n",
    "        for images, labels in val_loader:\n",
    "            images = images.reshape(-1,  input_size)\n",
    "            outputs = torch.zeros(images.size()[0], num_classes)\n",
    "            \"\"\"\n",
    "            outputs = torch.zeros(images.size()[0], num_classes)\n",
    "            이미지  배치에 대한 출력 텐서 초기화 \n",
    "            >> 후속 단계에서 이미지에 대한 예측값 업데이트 기능 \n",
    "            \n",
    "            \"\"\"\n",
    "\n",
    "            # 앙상블 모델의 예측값을 더함\n",
    "            for j in range(num_models):\n",
    "                outputs += models[j](images)\n",
    "\n",
    "            _, predicted = torch.max(outputs.data, 1)\n",
    "            total += labels.size(0)\n",
    "            correct += (predicted == labels).sum().item()\n",
    "\n",
    "        val_acc = 100 * correct / total\n",
    "        print(f\"Epoch [{epoch+1}/{num_epochs}], Validation Accuracy:{val_acc:.2f}%\")"
   ]
  },
  {
   "cell_type": "code",
   "execution_count": null,
   "id": "c3ea4ec5",
   "metadata": {},
   "outputs": [],
   "source": []
  }
 ],
 "metadata": {
  "kernelspec": {
   "display_name": "AI",
   "language": "python",
   "name": "ai"
  },
  "language_info": {
   "codemirror_mode": {
    "name": "ipython",
    "version": 3
   },
   "file_extension": ".py",
   "mimetype": "text/x-python",
   "name": "python",
   "nbconvert_exporter": "python",
   "pygments_lexer": "ipython3",
   "version": "3.8.16"
  }
 },
 "nbformat": 4,
 "nbformat_minor": 5
}
