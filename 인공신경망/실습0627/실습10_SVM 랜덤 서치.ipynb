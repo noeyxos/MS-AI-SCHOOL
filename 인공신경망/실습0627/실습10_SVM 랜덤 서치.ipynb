{
 "cells": [
  {
   "cell_type": "markdown",
   "id": "cb3280fb",
   "metadata": {},
   "source": [
    "SVM의 하이퍼파라미터 최적화 - 랜덤 서치 실습"
   ]
  },
  {
   "cell_type": "code",
   "execution_count": 1,
   "id": "b7f0148f",
   "metadata": {},
   "outputs": [],
   "source": [
    "from sklearn.model_selection import RandomizedSearchCV\n",
    "from sklearn.svm import SVC\n",
    "from scipy.stats import loguniform\n",
    "\n",
    "from sklearn.datasets import load_digits\n",
    "from sklearn.model_selection import train_test_split\n",
    "from sklearn.metrics import accuracy_score"
   ]
  },
  {
   "cell_type": "markdown",
   "id": "872fe476",
   "metadata": {},
   "source": [
    "데이터 로드"
   ]
  },
  {
   "cell_type": "code",
   "execution_count": 2,
   "id": "8c365639",
   "metadata": {},
   "outputs": [],
   "source": [
    "# 데이터 로드\n",
    "digits = load_digits()\n",
    "\n",
    "# 독립변수, 종속 변수 데이터 지정\n",
    "X = digits.data\n",
    "y = digits.target\n",
    "\n",
    "# 훈련 데이터, 테스트 데이터 분리 \n",
    "X_train, X_test, y_train, y_test = train_test_split(X, y, test_size=0.3, random_state=42)"
   ]
  },
  {
   "cell_type": "code",
   "execution_count": 4,
   "id": "d1e668e7",
   "metadata": {},
   "outputs": [
    {
     "name": "stdout",
     "output_type": "stream",
     "text": [
      "Fitting 5 folds for each of 100 candidates, totalling 500 fits\n",
      "Best hyperparameters:  {'C': 18.45014025130403, 'coef0': 0.0936060650204109, 'degree': 3, 'gamma': 0.0008534597446094079, 'kernel': 'rbf'}\n"
     ]
    }
   ],
   "source": [
    "# SVM 모델 생성\n",
    "svm_model = SVC()\n",
    "\n",
    "\n",
    "# 탐색할 하이퍼파라미터 공간 \n",
    "params = {\n",
    "    'C' : loguniform(1e-4, 100),\n",
    "    'kernel' : ['linear', 'poly','rbf', 'sigmoid'],\n",
    "    'gamma' : ['scale', 'auto'] + list(loguniform(1e-4, 10).rvs(10)),\n",
    "    'degree' : range(1, 6),\n",
    "    'coef0' : loguniform(1e-4, 10).rvs(10),\n",
    "}\n",
    "\n",
    "# 랜덤 서치 객체 생성 \n",
    "random_search = RandomizedSearchCV(svm_model, params, n_iter=100, cv=5, verbose=2, n_jobs=-1)\n",
    "\n",
    "# 랜덤 서치 수행 \n",
    "random_search.fit(X_train, y_train)\n",
    "\n",
    "# 최적 하이퍼 파라미터 출력\n",
    "print(\"Best hyperparameters: \", random_search.best_params_)"
   ]
  },
  {
   "cell_type": "code",
   "execution_count": 5,
   "id": "838e29df",
   "metadata": {},
   "outputs": [
    {
     "name": "stdout",
     "output_type": "stream",
     "text": [
      "Test accuracy:  0.9888888888888889\n"
     ]
    }
   ],
   "source": [
    "# 최적 모델 저장\n",
    "best_model = random_search.best_estimator_\n",
    "\n",
    "# 테스트 데이터에 대한 예측 수행 \n",
    "y_pred = best_model.predict(X_test)\n",
    "\n",
    "#정확도 출력\n",
    "print(\"Test accuracy: \", accuracy_score(y_test, y_pred))"
   ]
  },
  {
   "cell_type": "code",
   "execution_count": null,
   "id": "b9158df8",
   "metadata": {},
   "outputs": [],
   "source": []
  }
 ],
 "metadata": {
  "kernelspec": {
   "display_name": "AI",
   "language": "python",
   "name": "ai"
  },
  "language_info": {
   "codemirror_mode": {
    "name": "ipython",
    "version": 3
   },
   "file_extension": ".py",
   "mimetype": "text/x-python",
   "name": "python",
   "nbconvert_exporter": "python",
   "pygments_lexer": "ipython3",
   "version": "3.8.16"
  }
 },
 "nbformat": 4,
 "nbformat_minor": 5
}
