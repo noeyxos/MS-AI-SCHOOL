{
 "cells": [
  {
   "cell_type": "markdown",
   "id": "6e648b3e",
   "metadata": {},
   "source": [
    "# PyTorch 를 사용하여 소프트맥스 회귀 모델을 학습하고 예측하는 코드"
   ]
  },
  {
   "cell_type": "markdown",
   "id": "b1d654c8",
   "metadata": {},
   "source": [
    "### Iris 데이터셋을 사용하여 소프트맥스 회귀 모델을 학습하고 테스트 실습"
   ]
  },
  {
   "cell_type": "code",
   "execution_count": 2,
   "id": "f35d6cc0",
   "metadata": {},
   "outputs": [],
   "source": [
    "import torch\n",
    "import torch.nn as nn\n",
    "import torch.optim as optim \n",
    "from torch.utils.data import DataLoader, TensorDataset\n",
    "from sklearn.datasets import load_iris\n",
    "from sklearn.model_selection import train_test_split"
   ]
  },
  {
   "cell_type": "markdown",
   "id": "21702d7b",
   "metadata": {},
   "source": [
    "Load iris dataset"
   ]
  },
  {
   "cell_type": "code",
   "execution_count": 4,
   "id": "c6ca813a",
   "metadata": {},
   "outputs": [],
   "source": [
    "iris = load_iris()\n",
    "X = iris.data\n",
    "y = iris.target"
   ]
  },
  {
   "cell_type": "markdown",
   "id": "14ee904a",
   "metadata": {},
   "source": [
    "split dataset into training and testing set"
   ]
  },
  {
   "cell_type": "code",
   "execution_count": 6,
   "id": "e87df5db",
   "metadata": {},
   "outputs": [],
   "source": [
    "X_train, X_test, y_train, y_test = train_test_split(X, y, test_size=0.2, random_state=42)"
   ]
  },
  {
   "cell_type": "markdown",
   "id": "589de1a0",
   "metadata": {},
   "source": [
    "Convert data to pytorch tensors"
   ]
  },
  {
   "cell_type": "code",
   "execution_count": 8,
   "id": "2c52aa0f",
   "metadata": {},
   "outputs": [],
   "source": [
    "X_train = torch.from_numpy(X_train).float()\n",
    "y_train = torch.from_numpy(y_train).long()\n",
    "X_test = torch.from_numpy(X_test).float()\n",
    "y_test = torch.from_numpy(y_test).long()"
   ]
  },
  {
   "cell_type": "markdown",
   "id": "ed20d5ad",
   "metadata": {},
   "source": [
    "create a pytorch dataloader object for the training set"
   ]
  },
  {
   "cell_type": "code",
   "execution_count": 10,
   "id": "4d21ce4d",
   "metadata": {},
   "outputs": [],
   "source": [
    "train_dataset = TensorDataset(X_train, y_train)\n",
    "# TensorDataset() -> 동일한 크기를 가진 텐서들을 첫번째 차원을 기준으로 결합해서 -> 데이터셋 생성\n",
    "train_loader = DataLoader(train_dataset, batch_size=10, shuffle=True)"
   ]
  },
  {
   "cell_type": "markdown",
   "id": "d188b48b",
   "metadata": {},
   "source": [
    "Define the softmax regression model"
   ]
  },
  {
   "cell_type": "code",
   "execution_count": 13,
   "id": "c15ee905",
   "metadata": {},
   "outputs": [],
   "source": [
    "class SoftmaxRegression(nn.Module):\n",
    "    def __init__(self, input_size, num_classes):\n",
    "        super(SoftmaxRegression, self).__init__()\n",
    "        self.linear = nn.Linear(input_size, num_classes)\n",
    "        \n",
    "    def forward(self, x):\n",
    "        out = self.linear(x)\n",
    "        return out"
   ]
  },
  {
   "cell_type": "markdown",
   "id": "04d2f35c",
   "metadata": {},
   "source": [
    "set the hyperparameters"
   ]
  },
  {
   "cell_type": "code",
   "execution_count": 14,
   "id": "3361d25c",
   "metadata": {},
   "outputs": [],
   "source": [
    "input_size = 4\n",
    "num_classes = 3\n",
    "learning_rate =0.01\n",
    "num_epochs = 100"
   ]
  },
  {
   "cell_type": "markdown",
   "id": "11ee4363",
   "metadata": {},
   "source": [
    "create the softmax regression model and optimizer"
   ]
  },
  {
   "cell_type": "code",
   "execution_count": 15,
   "id": "cabc921c",
   "metadata": {},
   "outputs": [],
   "source": [
    "model = SoftmaxRegression(input_size, num_classes)\n",
    "criterion = nn.CrossEntropyLoss()\n",
    "optimizer = optim.SGD(model.parameters(), lr=learning_rate)"
   ]
  },
  {
   "cell_type": "markdown",
   "id": "c9a44556",
   "metadata": {},
   "source": [
    "train the model"
   ]
  },
  {
   "cell_type": "code",
   "execution_count": 16,
   "id": "ac1685f6",
   "metadata": {
    "scrolled": true
   },
   "outputs": [
    {
     "name": "stdout",
     "output_type": "stream",
     "text": [
      "Epoch [1/100], Step [10/12], Loss: 1.3638\n",
      "Epoch [2/100], Step [10/12], Loss: 0.9858\n",
      "Epoch [3/100], Step [10/12], Loss: 0.8894\n",
      "Epoch [4/100], Step [10/12], Loss: 0.8957\n",
      "Epoch [5/100], Step [10/12], Loss: 0.7907\n",
      "Epoch [6/100], Step [10/12], Loss: 0.7540\n",
      "Epoch [7/100], Step [10/12], Loss: 0.7273\n",
      "Epoch [8/100], Step [10/12], Loss: 0.7314\n",
      "Epoch [9/100], Step [10/12], Loss: 0.7192\n",
      "Epoch [10/100], Step [10/12], Loss: 0.9307\n",
      "Epoch [11/100], Step [10/12], Loss: 0.6956\n",
      "Epoch [12/100], Step [10/12], Loss: 0.5554\n",
      "Epoch [13/100], Step [10/12], Loss: 0.5381\n",
      "Epoch [14/100], Step [10/12], Loss: 0.5423\n",
      "Epoch [15/100], Step [10/12], Loss: 0.6274\n",
      "Epoch [16/100], Step [10/12], Loss: 0.4828\n",
      "Epoch [17/100], Step [10/12], Loss: 0.5878\n",
      "Epoch [18/100], Step [10/12], Loss: 0.5454\n",
      "Epoch [19/100], Step [10/12], Loss: 0.5565\n",
      "Epoch [20/100], Step [10/12], Loss: 0.5636\n",
      "Epoch [21/100], Step [10/12], Loss: 0.5382\n",
      "Epoch [22/100], Step [10/12], Loss: 0.4742\n",
      "Epoch [23/100], Step [10/12], Loss: 0.5484\n",
      "Epoch [24/100], Step [10/12], Loss: 0.4347\n",
      "Epoch [25/100], Step [10/12], Loss: 0.5068\n",
      "Epoch [26/100], Step [10/12], Loss: 0.4744\n",
      "Epoch [27/100], Step [10/12], Loss: 0.4067\n",
      "Epoch [28/100], Step [10/12], Loss: 0.5663\n",
      "Epoch [29/100], Step [10/12], Loss: 0.3930\n",
      "Epoch [30/100], Step [10/12], Loss: 0.5978\n",
      "Epoch [31/100], Step [10/12], Loss: 0.4013\n",
      "Epoch [32/100], Step [10/12], Loss: 0.4310\n",
      "Epoch [33/100], Step [10/12], Loss: 0.5913\n",
      "Epoch [34/100], Step [10/12], Loss: 0.3836\n",
      "Epoch [35/100], Step [10/12], Loss: 0.3916\n",
      "Epoch [36/100], Step [10/12], Loss: 0.4545\n",
      "Epoch [37/100], Step [10/12], Loss: 0.5414\n",
      "Epoch [38/100], Step [10/12], Loss: 0.4358\n",
      "Epoch [39/100], Step [10/12], Loss: 0.5178\n",
      "Epoch [40/100], Step [10/12], Loss: 0.4678\n",
      "Epoch [41/100], Step [10/12], Loss: 0.4509\n",
      "Epoch [42/100], Step [10/12], Loss: 0.4646\n",
      "Epoch [43/100], Step [10/12], Loss: 0.3007\n",
      "Epoch [44/100], Step [10/12], Loss: 0.3445\n",
      "Epoch [45/100], Step [10/12], Loss: 0.4954\n",
      "Epoch [46/100], Step [10/12], Loss: 0.4407\n",
      "Epoch [47/100], Step [10/12], Loss: 0.4370\n",
      "Epoch [48/100], Step [10/12], Loss: 0.3165\n",
      "Epoch [49/100], Step [10/12], Loss: 0.3223\n",
      "Epoch [50/100], Step [10/12], Loss: 0.4138\n",
      "Epoch [51/100], Step [10/12], Loss: 0.4738\n",
      "Epoch [52/100], Step [10/12], Loss: 0.4885\n",
      "Epoch [53/100], Step [10/12], Loss: 0.3202\n",
      "Epoch [54/100], Step [10/12], Loss: 0.4779\n",
      "Epoch [55/100], Step [10/12], Loss: 0.3328\n",
      "Epoch [56/100], Step [10/12], Loss: 0.3039\n",
      "Epoch [57/100], Step [10/12], Loss: 0.5189\n",
      "Epoch [58/100], Step [10/12], Loss: 0.4291\n",
      "Epoch [59/100], Step [10/12], Loss: 0.2651\n",
      "Epoch [60/100], Step [10/12], Loss: 0.4194\n",
      "Epoch [61/100], Step [10/12], Loss: 0.3481\n",
      "Epoch [62/100], Step [10/12], Loss: 0.3049\n",
      "Epoch [63/100], Step [10/12], Loss: 0.3364\n",
      "Epoch [64/100], Step [10/12], Loss: 0.4634\n",
      "Epoch [65/100], Step [10/12], Loss: 0.3484\n",
      "Epoch [66/100], Step [10/12], Loss: 0.4348\n",
      "Epoch [67/100], Step [10/12], Loss: 0.2408\n",
      "Epoch [68/100], Step [10/12], Loss: 0.2952\n",
      "Epoch [69/100], Step [10/12], Loss: 0.4126\n",
      "Epoch [70/100], Step [10/12], Loss: 0.3547\n",
      "Epoch [71/100], Step [10/12], Loss: 0.4902\n",
      "Epoch [72/100], Step [10/12], Loss: 0.5100\n",
      "Epoch [73/100], Step [10/12], Loss: 0.3061\n",
      "Epoch [74/100], Step [10/12], Loss: 0.4160\n",
      "Epoch [75/100], Step [10/12], Loss: 0.3279\n",
      "Epoch [76/100], Step [10/12], Loss: 0.3559\n",
      "Epoch [77/100], Step [10/12], Loss: 0.4052\n",
      "Epoch [78/100], Step [10/12], Loss: 0.3092\n",
      "Epoch [79/100], Step [10/12], Loss: 0.4540\n",
      "Epoch [80/100], Step [10/12], Loss: 0.3383\n",
      "Epoch [81/100], Step [10/12], Loss: 0.6580\n",
      "Epoch [82/100], Step [10/12], Loss: 0.3384\n",
      "Epoch [83/100], Step [10/12], Loss: 0.3409\n",
      "Epoch [84/100], Step [10/12], Loss: 0.3853\n",
      "Epoch [85/100], Step [10/12], Loss: 0.3516\n",
      "Epoch [86/100], Step [10/12], Loss: 0.4092\n",
      "Epoch [87/100], Step [10/12], Loss: 0.3395\n",
      "Epoch [88/100], Step [10/12], Loss: 0.2444\n",
      "Epoch [89/100], Step [10/12], Loss: 0.3681\n",
      "Epoch [90/100], Step [10/12], Loss: 0.3634\n",
      "Epoch [91/100], Step [10/12], Loss: 0.3339\n",
      "Epoch [92/100], Step [10/12], Loss: 0.3138\n",
      "Epoch [93/100], Step [10/12], Loss: 0.3336\n",
      "Epoch [94/100], Step [10/12], Loss: 0.3203\n",
      "Epoch [95/100], Step [10/12], Loss: 0.3314\n",
      "Epoch [96/100], Step [10/12], Loss: 0.2904\n",
      "Epoch [97/100], Step [10/12], Loss: 0.4346\n",
      "Epoch [98/100], Step [10/12], Loss: 0.3499\n",
      "Epoch [99/100], Step [10/12], Loss: 0.3062\n",
      "Epoch [100/100], Step [10/12], Loss: 0.2299\n",
      "Test Accuracy: 96.67%\n"
     ]
    }
   ],
   "source": [
    "total_step = len(train_loader)\n",
    "for epoch in range(num_epochs):\n",
    "    for i, (inputs, labels) in enumerate(train_loader):\n",
    "        \n",
    "        # forward pass\n",
    "        outputs = model(inputs)\n",
    "        loss = criterion(outputs, labels)\n",
    "        \n",
    "        # backward and optimize\n",
    "        optimizer.zero_grad()\n",
    "        loss.backward()\n",
    "        optimizer.step()\n",
    "        \n",
    "        # print the loss every 10 batches\n",
    "        if (i+1) % 10 == 0:\n",
    "            print('Epoch [{}/{}], Step [{}/{}], Loss: {:.4f}'.format(epoch+1, num_epochs, i+1, total_step, loss.item()))\n",
    "            \n",
    "# evaluate the model on the testing set\n",
    "model.eval()\n",
    "with torch.no_grad():\n",
    "    outputs = model(X_test)\n",
    "    _, predicted = torch.max(outputs.data, 1)\n",
    "    accuracy = (predicted == y_test).sum().item() / len(y_test)\n",
    "    print('Test Accuracy: {:.2f}%'.format(accuracy * 100))"
   ]
  },
  {
   "cell_type": "code",
   "execution_count": null,
   "id": "88465102",
   "metadata": {},
   "outputs": [],
   "source": []
  }
 ],
 "metadata": {
  "kernelspec": {
   "display_name": "AI",
   "language": "python",
   "name": "ai"
  },
  "language_info": {
   "codemirror_mode": {
    "name": "ipython",
    "version": 3
   },
   "file_extension": ".py",
   "mimetype": "text/x-python",
   "name": "python",
   "nbconvert_exporter": "python",
   "pygments_lexer": "ipython3",
   "version": "3.8.16"
  }
 },
 "nbformat": 4,
 "nbformat_minor": 5
}
