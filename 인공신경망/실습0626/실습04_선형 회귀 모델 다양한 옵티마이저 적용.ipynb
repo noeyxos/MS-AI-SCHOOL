{
 "cells": [
  {
   "cell_type": "markdown",
   "id": "8c711a45",
   "metadata": {},
   "source": [
    "# 선형 회귀 모델의 학습에서 다양한 옵티마이저를 적용해보기"
   ]
  },
  {
   "cell_type": "code",
   "execution_count": 1,
   "id": "0c972a93",
   "metadata": {},
   "outputs": [],
   "source": [
    "import torch\n",
    "import torch.nn as nn\n",
    "import torch.optim as optim\n",
    "from sklearn.datasets import load_boston\n",
    "from sklearn.preprocessing import StandardScaler\n",
    "from sklearn.model_selection import train_test_split"
   ]
  },
  {
   "cell_type": "markdown",
   "id": "020ffae3",
   "metadata": {},
   "source": [
    "### Boston data loader"
   ]
  },
  {
   "cell_type": "code",
   "execution_count": 2,
   "id": "6d509e39",
   "metadata": {},
   "outputs": [
    {
     "name": "stdout",
     "output_type": "stream",
     "text": [
      "X_train len >>  354\n",
      "X_test len >>  152\n",
      "y_train len >>  354\n",
      "y_test len >>  152\n"
     ]
    },
    {
     "name": "stderr",
     "output_type": "stream",
     "text": [
      "C:\\Users\\noeyx\\anaconda3\\envs\\AI\\lib\\site-packages\\sklearn\\utils\\deprecation.py:87: FutureWarning: Function load_boston is deprecated; `load_boston` is deprecated in 1.0 and will be removed in 1.2.\n",
      "\n",
      "    The Boston housing prices dataset has an ethical problem. You can refer to\n",
      "    the documentation of this function for further details.\n",
      "\n",
      "    The scikit-learn maintainers therefore strongly discourage the use of this\n",
      "    dataset unless the purpose of the code is to study and educate about\n",
      "    ethical issues in data science and machine learning.\n",
      "\n",
      "    In this special case, you can fetch the dataset from the original\n",
      "    source::\n",
      "\n",
      "        import pandas as pd\n",
      "        import numpy as np\n",
      "\n",
      "        data_url = \"http://lib.stat.cmu.edu/datasets/boston\"\n",
      "        raw_df = pd.read_csv(data_url, sep=\"\\s+\", skiprows=22, header=None)\n",
      "        data = np.hstack([raw_df.values[::2, :], raw_df.values[1::2, :2]])\n",
      "        target = raw_df.values[1::2, 2]\n",
      "\n",
      "    Alternative datasets include the California housing dataset (i.e.\n",
      "    :func:`~sklearn.datasets.fetch_california_housing`) and the Ames housing\n",
      "    dataset. You can load the datasets as follows::\n",
      "\n",
      "        from sklearn.datasets import fetch_california_housing\n",
      "        housing = fetch_california_housing()\n",
      "\n",
      "    for the California housing dataset and::\n",
      "\n",
      "        from sklearn.datasets import fetch_openml\n",
      "        housing = fetch_openml(name=\"house_prices\", as_frame=True)\n",
      "\n",
      "    for the Ames housing dataset.\n",
      "  warnings.warn(msg, category=FutureWarning)\n"
     ]
    }
   ],
   "source": [
    "# 데이터 로드 \n",
    "boston = load_boston()\n",
    "X = boston.data # 학습데이터\n",
    "y = boston.target # 라벨데이터\n",
    "\n",
    "# 데이터 스케일링\n",
    "scaler = StandardScaler()\n",
    "X = scaler.fit_transform(X)\n",
    "\n",
    "# 데이터 분할\n",
    "X_train, X_test, y_train, y_test = train_test_split(X, y, test_size=0.3, random_state=42)\n",
    "print(\"X_train len >> \",len(X_train))\n",
    "print(\"X_test len >> \",len(X_test))\n",
    "print(\"y_train len >> \",len(y_train))\n",
    "print(\"y_test len >> \",len(y_test))"
   ]
  },
  {
   "cell_type": "markdown",
   "id": "30306ba7",
   "metadata": {},
   "source": [
    "## 모델 생성 및 하이퍼파라미터 설정"
   ]
  },
  {
   "cell_type": "code",
   "execution_count": 3,
   "id": "710dfccb",
   "metadata": {},
   "outputs": [],
   "source": [
    "input_dim = X.shape[1]\n",
    "output_dim = 1\n",
    "learning_rate = 0.0001\n",
    "num_epochs = 1000\n",
    "\n",
    "# 모델 생성\n",
    "model = nn.Linear(input_dim, output_dim)"
   ]
  },
  {
   "cell_type": "markdown",
   "id": "65aaa91b",
   "metadata": {},
   "source": [
    "### 다양한 옵티마이저 설정"
   ]
  },
  {
   "cell_type": "code",
   "execution_count": 4,
   "id": "b21008b6",
   "metadata": {},
   "outputs": [],
   "source": [
    "optimizers = {\"SGD\" : optim.SGD(model.parameters(), lr = learning_rate),\n",
    "             \"Momentum\": optim.SGD(model.parameters(), lr = learning_rate, momentum = 0.9),\n",
    "             \"Adagrad\": optim.Adagrad(model.parameters(), lr = learning_rate),\n",
    "             \"RMSprop\": optim.RMSprop(model.parameters(), lr = learning_rate),\n",
    "             \"Adam\": optim.Adam(model.parameters(), lr = learning_rate)}"
   ]
  },
  {
   "cell_type": "code",
   "execution_count": 5,
   "id": "b73dc58a",
   "metadata": {},
   "outputs": [
    {
     "name": "stderr",
     "output_type": "stream",
     "text": [
      "C:\\Users\\noeyx\\anaconda3\\envs\\AI\\lib\\site-packages\\torch\\nn\\modules\\loss.py:520: UserWarning: Using a target size (torch.Size([354])) that is different to the input size (torch.Size([354, 1])). This will likely lead to incorrect results due to broadcasting. Please ensure they have the same size.\n",
      "  return F.mse_loss(input, target, reduction=self.reduction)\n"
     ]
    },
    {
     "name": "stdout",
     "output_type": "stream",
     "text": [
      "SGD - Epoch[100/1000], Loss:104.9936\n",
      "SGD - Epoch[200/1000], Loss:565.5245\n",
      "SGD - Epoch[300/1000], Loss:218.5592\n",
      "SGD - Epoch[400/1000], Loss:417.5939\n",
      "SGD - Epoch[500/1000], Loss:382.2391\n",
      "SGD - Epoch[600/1000], Loss:256.2150\n",
      "SGD - Epoch[700/1000], Loss:525.0541\n",
      "SGD - Epoch[800/1000], Loss:145.6483\n",
      "SGD - Epoch[900/1000], Loss:592.8229\n",
      "SGD - Epoch[1000/1000], Loss:127.4958\n",
      "Momentum - Epoch[100/1000], Loss:152.6374\n",
      "Momentum - Epoch[200/1000], Loss:182.0156\n",
      "Momentum - Epoch[300/1000], Loss:46139.2109\n",
      "Momentum - Epoch[400/1000], Loss:11078895.0000\n",
      "Momentum - Epoch[500/1000], Loss:817977408.0000\n",
      "Momentum - Epoch[600/1000], Loss:2258617856.0000\n",
      "Momentum - Epoch[700/1000], Loss:8778222665728.0000\n",
      "Momentum - Epoch[800/1000], Loss:3207783029669888.0000\n",
      "Momentum - Epoch[900/1000], Loss:327495001531482112.0000\n",
      "Momentum - Epoch[1000/1000], Loss:5116460811623071744.0000\n",
      "Adagrad - Epoch[100/1000], Loss:8742050926191181824.0000\n",
      "Adagrad - Epoch[200/1000], Loss:8742050926191181824.0000\n",
      "Adagrad - Epoch[300/1000], Loss:8742050926191181824.0000\n",
      "Adagrad - Epoch[400/1000], Loss:8742050926191181824.0000\n",
      "Adagrad - Epoch[500/1000], Loss:8742050926191181824.0000\n",
      "Adagrad - Epoch[600/1000], Loss:8742050926191181824.0000\n",
      "Adagrad - Epoch[700/1000], Loss:8742050926191181824.0000\n",
      "Adagrad - Epoch[800/1000], Loss:8742050926191181824.0000\n",
      "Adagrad - Epoch[900/1000], Loss:8742050926191181824.0000\n",
      "Adagrad - Epoch[1000/1000], Loss:8742050926191181824.0000\n",
      "RMSprop - Epoch[100/1000], Loss:8742050926191181824.0000\n",
      "RMSprop - Epoch[200/1000], Loss:8742050926191181824.0000\n",
      "RMSprop - Epoch[300/1000], Loss:8742050926191181824.0000\n",
      "RMSprop - Epoch[400/1000], Loss:8742050926191181824.0000\n",
      "RMSprop - Epoch[500/1000], Loss:8742050926191181824.0000\n",
      "RMSprop - Epoch[600/1000], Loss:8742050926191181824.0000\n",
      "RMSprop - Epoch[700/1000], Loss:8742050926191181824.0000\n",
      "RMSprop - Epoch[800/1000], Loss:8742050926191181824.0000\n",
      "RMSprop - Epoch[900/1000], Loss:8742050926191181824.0000\n",
      "RMSprop - Epoch[1000/1000], Loss:8742050926191181824.0000\n",
      "Adam - Epoch[100/1000], Loss:8742050926191181824.0000\n",
      "Adam - Epoch[200/1000], Loss:8742050926191181824.0000\n",
      "Adam - Epoch[300/1000], Loss:8742050926191181824.0000\n",
      "Adam - Epoch[400/1000], Loss:8742050926191181824.0000\n",
      "Adam - Epoch[500/1000], Loss:8742050926191181824.0000\n",
      "Adam - Epoch[600/1000], Loss:8742050926191181824.0000\n",
      "Adam - Epoch[700/1000], Loss:8742050926191181824.0000\n",
      "Adam - Epoch[800/1000], Loss:8742050926191181824.0000\n",
      "Adam - Epoch[900/1000], Loss:8742050926191181824.0000\n",
      "Adam - Epoch[1000/1000], Loss:8742050926191181824.0000\n"
     ]
    }
   ],
   "source": [
    "# 모델 학습\n",
    "for optimizer_name, optimizer in optimizers.items():\n",
    "    criterion = nn.MSELoss()\n",
    "    optimizer.zero_grad()\n",
    "    \n",
    "    for epoch in range(num_epochs):\n",
    "        inputs = torch.tensor(X_train, dtype=torch.float32)\n",
    "        labels = torch.tensor(y_train, dtype=torch.float32)\n",
    "#         print(inputs)\n",
    "#         print(labels)\n",
    "        \n",
    "        # Forward pass\n",
    "        outputs = model(inputs)\n",
    "        loss = criterion(outputs, labels)\n",
    "        \n",
    "        # Backward and optimize\n",
    "        loss.backward()\n",
    "        optimizer.step()\n",
    "        \n",
    "        # Print progress\n",
    "        if (epoch+1) % 100 == 0:\n",
    "            print(f\"{optimizer_name} - Epoch[{epoch+1}/{num_epochs}], Loss:{loss.item():.4f}\")"
   ]
  },
  {
   "cell_type": "code",
   "execution_count": null,
   "id": "a7a6189f",
   "metadata": {},
   "outputs": [],
   "source": []
  }
 ],
 "metadata": {
  "kernelspec": {
   "display_name": "AI",
   "language": "python",
   "name": "ai"
  },
  "language_info": {
   "codemirror_mode": {
    "name": "ipython",
    "version": 3
   },
   "file_extension": ".py",
   "mimetype": "text/x-python",
   "name": "python",
   "nbconvert_exporter": "python",
   "pygments_lexer": "ipython3",
   "version": "3.8.16"
  }
 },
 "nbformat": 4,
 "nbformat_minor": 5
}
