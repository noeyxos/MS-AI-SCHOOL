{
 "cells": [
  {
   "cell_type": "markdown",
   "id": "a3917192",
   "metadata": {},
   "source": [
    "# 다중선형 - 경사하강법을 이용한 다중 선형 회귀 구현"
   ]
  },
  {
   "cell_type": "code",
   "execution_count": 1,
   "id": "a5f93701",
   "metadata": {},
   "outputs": [],
   "source": [
    "import numpy as np"
   ]
  },
  {
   "cell_type": "markdown",
   "id": "a9fce5f1",
   "metadata": {},
   "source": [
    "### 데이터 생성"
   ]
  },
  {
   "cell_type": "code",
   "execution_count": 2,
   "id": "68f4bd67",
   "metadata": {},
   "outputs": [],
   "source": [
    "x1 = np.array([1, 2, 3, 4, 5])\n",
    "x2 = np.array([0, 1, 0, 1, 0])\n",
    "y = np.array([3, 5, 7, 9, 11])"
   ]
  },
  {
   "cell_type": "code",
   "execution_count": 5,
   "id": "1a87b297",
   "metadata": {},
   "outputs": [],
   "source": [
    "def gradient_descent(x1, x2, y, lr, iterations):\n",
    "    \n",
    "    # 초기값 설정\n",
    "    n = len(y)\n",
    "    beta_0 = 0 \n",
    "    beta_1 = 0\n",
    "    beta_2 = 0\n",
    "    \n",
    "    # 경사 하강법 수행\n",
    "    for i in range(iterations):\n",
    "        y_pred = beta_0 + beta_1 * x1 + beta_2 * x2\n",
    "        error = y_pred - y # y - y_pred는 안된다! \n",
    "        \n",
    "        # 업데이트\n",
    "        beta_0 -= lr * (1/n) * np.sum(error)\n",
    "        beta_1 -= lr * (1/n) * np.sum(error * x1)\n",
    "        beta_2 -= lr * (1/n) * np.sum(error * x2)\n",
    "        \n",
    "    return beta_0, beta_1, beta_2"
   ]
  },
  {
   "cell_type": "code",
   "execution_count": 7,
   "id": "8e9ba7b6",
   "metadata": {},
   "outputs": [
    {
     "name": "stdout",
     "output_type": "stream",
     "text": [
      "beta_0:  0.8907546215358821\n",
      "beta_1:  2.0237699271134932\n",
      "beta_2:  0.057888309859129156\n"
     ]
    }
   ],
   "source": [
    "beta_0, beta_1, beta_2 = gradient_descent(x1, x2, y, 0.01, 1000)\n",
    "print(\"beta_0: \", beta_0)\n",
    "print(\"beta_1: \", beta_1)\n",
    "print(\"beta_2: \", beta_2)"
   ]
  },
  {
   "cell_type": "code",
   "execution_count": 8,
   "id": "d998ff60",
   "metadata": {},
   "outputs": [
    {
     "name": "stdout",
     "output_type": "stream",
     "text": [
      "Predicted y value :  2.9145245486493754\n"
     ]
    }
   ],
   "source": [
    "x1_new = 1\n",
    "x2_new = 0\n",
    "\n",
    "# 예측되어야 하는 값\n",
    "\n",
    "y_pred = beta_0 + beta_1 * x1_new + beta_2 * x2_new\n",
    "\n",
    "print(\"Predicted y value : \", y_pred)"
   ]
  },
  {
   "cell_type": "code",
   "execution_count": null,
   "id": "11466989",
   "metadata": {},
   "outputs": [],
   "source": []
  }
 ],
 "metadata": {
  "kernelspec": {
   "display_name": "AI",
   "language": "python",
   "name": "ai"
  },
  "language_info": {
   "codemirror_mode": {
    "name": "ipython",
    "version": 3
   },
   "file_extension": ".py",
   "mimetype": "text/x-python",
   "name": "python",
   "nbconvert_exporter": "python",
   "pygments_lexer": "ipython3",
   "version": "3.8.16"
  }
 },
 "nbformat": 4,
 "nbformat_minor": 5
}
