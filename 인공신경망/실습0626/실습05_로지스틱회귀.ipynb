{
 "cells": [
  {
   "cell_type": "code",
   "execution_count": 1,
   "id": "de162a6e",
   "metadata": {},
   "outputs": [],
   "source": [
    "import torch\n",
    "import torch.nn as nn\n",
    "import torch.optim as optim\n",
    "from sklearn.datasets import make_classification\n",
    "from sklearn.model_selection import train_test_split\n",
    "from torch.utils.data import Dataset, DataLoader"
   ]
  },
  {
   "cell_type": "markdown",
   "id": "04e523d9",
   "metadata": {},
   "source": [
    "### Make_ classification 함수 사용하여 데이터 셋 만들기"
   ]
  },
  {
   "cell_type": "code",
   "execution_count": 2,
   "id": "321fca97",
   "metadata": {},
   "outputs": [
    {
     "name": "stdout",
     "output_type": "stream",
     "text": [
      "[[ 0.36754094  0.84477438 -0.00556029 -2.3919562   1.73937892]\n",
      " [ 1.64097346 -0.37231905  0.43731319 -1.88315021 -0.56791512]\n",
      " [ 0.70233177 -1.81797923  0.7597123   0.14358794 -1.16508298]\n",
      " ...\n",
      " [ 1.19518427  0.58529944  0.5148836   0.14583647  1.78516406]\n",
      " [ 1.76203985 -0.39201264  1.05993638  0.69347891 -0.64572681]\n",
      " [ 2.19524995  0.63732468  1.61630004  1.38902436 -0.36926219]]\n",
      "[1 0 0 0 0 0 0 1 0 1 0 0 0 1 0 0 0 0 0 1 0 0 1 0 0 0 1 1 0 0 1 1 0 0 0 0 0\n",
      " 1 0 1 0 1 0 1 1 1 1 1 1 1 1 0 0 1 1 0 1 1 0 0 0 0 1 1 1 1 1 1 0 1 0 1 1 1\n",
      " 1 1 0 1 1 1 1 0 1 0 1 1 1 0 1 0 0 0 0 1 1 1 0 1 0 0 1 0 0 0 1 0 0 1 1 1 1\n",
      " 1 1 0 0 0 0 0 0 0 1 0 0 0 1 0 1 1 0 0 0 0 0 1 0 0 0 1 1 1 0 0 1 1 1 1 1 1\n",
      " 0 1 1 0 0 0 0 0 1 1 0 1 0 1 1 0 1 1 1 0 0 0 1 0 1 0 0 1 1 0 1 0 0 0 0 0 0\n",
      " 0 1 1 1 0 0 1 0 0 0 0 1 1 0 0 1 1 1 1 1 1 1 0 0 0 0 0 0 0 0 0 0 1 1 1 0 1\n",
      " 1 1 0 0 1 0 0 1 0 1 0 0 0 0 0 1 1 0 0 0 1 0 1 1 0 0 0 1 1 1 0 0 1 0 0 0 0\n",
      " 0 1 1 0 1 0 1 0 0 1 1 1 0 1 1 0 0 0 1 1 0 1 0 1 0 0 1 0 0 0 1 1 0 1 0 1 0\n",
      " 1 1 0 1 1 1 1 1 1 0 0 0 1 0 1 1 1 0 1 1 0 1 1 0 0 0 1 0 1 0 1 0 1 1 0 0 1\n",
      " 1 0 0 0 1 0 0 0 1 1 1 1 0 0 0 0 0 0 1 0 1 0 1 0 0 0 1 1 0 1 0 0 0 0 1 0 1\n",
      " 0 1 0 1 1 0 1 0 1 1 1 1 0 0 1 1 0 1 1 1 1 0 1 1 0 1 0 1 1 1 0 1 1 0 0 0 0\n",
      " 0 1 0 0 1 0 1 1 1 1 0 0 1 1 1 0 1 1 0 1 1 1 0 0 0 1 0 0 1 0 0 1 1 0 0 1 0\n",
      " 1 0 1 0 1 0 1 1 0 0 0 1 1 0 0 1 0 0 0 0 0 1 1 0 0 0 0 1 0 1 0 1 0 0 1 0 0\n",
      " 1 1 0 0 1 0 0 0 0 1 1 1 1 1 1 1 0 1 1 1 1 0 0 0 0 1 1 1 0 0 1 1 1 1 1 0 0\n",
      " 1 1 0 0 0 0 0 1 0 0 0 0 1 1 0 0 1 1 1 0 0 1 0 0 0 1 1 1 0 1 1 0 1 1 1 0 1\n",
      " 0 1 0 1 0 1 1 1 1 1 0 1 0 1 0 1 1 1 0 1 0 1 1 1 1 1 0 0 1 1 0 0 0 1 1 1 0\n",
      " 0 1 0 1 0 1 1 1 1 1 1 0 0 0 0 0 0 0 0 0 1 0 1 1 1 0 1 0 0 0 0 1 0 1 1 0 1\n",
      " 0 1 0 0 0 1 1 0 0 0 1 0 1 1 1 0 1 0 0 1 0 1 1 1 0 1 0 1 1 1 0 0 0 0 1 1 0\n",
      " 0 1 1 0 0 0 1 1 1 0 0 0 1 1 1 0 0 0 0 1 0 1 0 0 1 0 0 1 1 0 1 0 0 1 0 0 1\n",
      " 1 1 1 0 1 1 1 0 0 0 0 1 1 1 1 0 1 1 1 1 0 0 0 0 0 0 0 0 1 1 1 1 0 0 0 1 1\n",
      " 1 0 1 0 0 0 0 0 0 1 0 0 0 0 1 0 1 1 0 0 1 0 1 1 0 1 0 1 1 1 1 0 0 1 1 1 1\n",
      " 1 1 0 1 1 1 1 1 0 0 1 1 1 0 1 1 0 0 0 0 0 0 0 0 0 0 1 1 1 1 0 1 1 0 1 1 0\n",
      " 1 0 0 1 0 0 0 1 1 0 0 0 1 0 0 0 0 1 1 1 0 0 1 0 1 1 0 0 1 1 1 1 0 1 0 0 1\n",
      " 1 0 0 1 1 0 1 1 1 1 1 0 1 0 1 0 1 0 1 0 1 1 1 0 1 0 0 0 0 1 1 0 1 0 0 1 1\n",
      " 0 0 1 1 0 0 0 1 1 1 0 1 1 1 1 1 1 1 0 0 0 1 1 1 1 0 1 0 0 0 1 1 1 0 0 1 0\n",
      " 1 0 0 1 1 0 0 0 1 1 1 1 1 1 1 1 0 0 1 1 0 0 0 1 0 0 1 1 0 0 1 0 0 1 0 0 0\n",
      " 0 1 1 1 0 1 1 0 0 0 1 0 0 1 1 0 1 0 1 1 1 0 0 0 1 0 0 1 1 0 1 1 1 1 1 1 0\n",
      " 1]\n"
     ]
    }
   ],
   "source": [
    "X, y = make_classification(n_samples=1000,\n",
    "                          n_features=5, \n",
    "                          n_informative=2,\n",
    "                          n_redundant=0,\n",
    "                          n_clusters_per_class= 1,\n",
    "                          random_state =42)\n",
    "print(X)\n",
    "print(y)"
   ]
  },
  {
   "cell_type": "markdown",
   "id": "46bf8079",
   "metadata": {},
   "source": [
    "### 데이터셋을 train set 과 test set 으로 나누기"
   ]
  },
  {
   "cell_type": "code",
   "execution_count": 3,
   "id": "4c79e505",
   "metadata": {},
   "outputs": [
    {
     "name": "stdout",
     "output_type": "stream",
     "text": [
      "X_train 데이터 개수 :  700\n",
      "X_test 데이터 개수 :  300\n",
      "y_train 데이터 개수 :  700\n",
      "y_test 데이터 개수 :  300\n"
     ]
    }
   ],
   "source": [
    "X_train, X_test, y_train, y_test = train_test_split(X, y, test_size=0.3, random_state=42)\n",
    "\n",
    "print(\"X_train 데이터 개수 : \", len(X_train))\n",
    "print(\"X_test 데이터 개수 : \", len(X_test))\n",
    "print(\"y_train 데이터 개수 : \", len(y_train))\n",
    "print(\"y_test 데이터 개수 : \", len(y_test))"
   ]
  },
  {
   "cell_type": "markdown",
   "id": "febf9be7",
   "metadata": {},
   "source": [
    "### 데이터셋 로딩"
   ]
  },
  {
   "cell_type": "code",
   "execution_count": 4,
   "id": "f3c24623",
   "metadata": {},
   "outputs": [],
   "source": [
    "class CustomDataset(Dataset):\n",
    "    def __init__(self, X, y):\n",
    "        self.X = torch.tensor(X, dtype=torch.float32)\n",
    "        self.y = torch.tensor(y, dtype=torch.float32)\n",
    "        \n",
    "    def __len__(self):\n",
    "        return len(self.X)\n",
    "    \n",
    "    def __getitem__(self, idx):\n",
    "        return self.X[idx], self.y[idx]\n",
    "    \n",
    "train_dataset = CustomDataset(X_train, y_train)\n",
    "test_dataset = CustomDataset(X_test, y_test)\n",
    "\n",
    "train_loader = DataLoader(train_dataset, batch_size=32, shuffle=True)\n",
    "test_loader = DataLoader(test_dataset, batch_size=32, shuffle = False)"
   ]
  },
  {
   "cell_type": "markdown",
   "id": "f4cf7656",
   "metadata": {},
   "source": [
    "### 모델 정의 \n",
    "* 5개의 특성을 가진 데이터셋 가정, 1개의 뉴런을 가진 출력층 만들기"
   ]
  },
  {
   "cell_type": "code",
   "execution_count": 5,
   "id": "c4bfb42a",
   "metadata": {},
   "outputs": [],
   "source": [
    "class LogisticRegression(nn.Module):\n",
    "    def __init__(self, input_dim):\n",
    "        super(LogisticRegression, self).__init__()\n",
    "        self.linear = nn.Linear(input_dim, 1)\n",
    "        \n",
    "    def forward(self, x):\n",
    "        out = self.linear(x)\n",
    "        out = torch.sigmoid(out)\n",
    "        return out\n",
    "    \n",
    "model = LogisticRegression(input_dim=5)"
   ]
  },
  {
   "cell_type": "markdown",
   "id": "76638a85",
   "metadata": {},
   "source": [
    "### 모델을 학습시키기 전에, 학습에 필요한 Loss function, optimizer 선언 "
   ]
  },
  {
   "cell_type": "code",
   "execution_count": 7,
   "id": "2e1d9ad1",
   "metadata": {},
   "outputs": [
    {
     "name": "stdout",
     "output_type": "stream",
     "text": [
      "SGD (\n",
      "Parameter Group 0\n",
      "    dampening: 0\n",
      "    lr: 0.01\n",
      "    momentum: 0\n",
      "    nesterov: False\n",
      "    weight_decay: 0\n",
      ")\n"
     ]
    }
   ],
   "source": [
    "from adamp import SGDP\n",
    "\n",
    "\"\"\"\n",
    "# define your params\n",
    "optimizer = SGDP(params, lr=0.1, weigth_decay=le-5, momentum=0.9 , neaterov=True)\n",
    "\"\"\"\n",
    "\n",
    "criterion = nn.BCELoss()\n",
    "optimizer = optim.SGD(model.parameters(), lr = 0.01)\n",
    "print(optimizer)\n",
    "\n",
    "# 왜 BCELoss() 사용했을까요??  => 0과 1 분류 이진 분류라서! "
   ]
  },
  {
   "cell_type": "markdown",
   "id": "8addf1bb",
   "metadata": {},
   "source": [
    "### Train loop 구현"
   ]
  },
  {
   "cell_type": "code",
   "execution_count": 8,
   "id": "7308578f",
   "metadata": {},
   "outputs": [
    {
     "name": "stdout",
     "output_type": "stream",
     "text": [
      "Epoch [1/100], Loss:0.8144\n",
      "Epoch [11/100], Loss:0.4019\n",
      "Epoch [21/100], Loss:0.3072\n",
      "Epoch [31/100], Loss:0.2677\n",
      "Epoch [41/100], Loss:0.2835\n",
      "Epoch [51/100], Loss:0.1820\n",
      "Epoch [61/100], Loss:0.2643\n",
      "Epoch [71/100], Loss:0.2723\n",
      "Epoch [81/100], Loss:0.2875\n",
      "Epoch [91/100], Loss:0.3213\n"
     ]
    }
   ],
   "source": [
    "num_epochs = 100\n",
    "\n",
    "for epoch in range(num_epochs):\n",
    "    for inputs, targets in train_loader:\n",
    "        optimizer.zero_grad()\n",
    "        outputs = model(inputs)\n",
    "        loss = criterion(outputs, targets.unsqueeze(1))\n",
    "        loss.backward()\n",
    "        optimizer.step()\n",
    "        \n",
    "    if epoch % 10 == 0: \n",
    "        print(f'Epoch [{epoch+1}/{num_epochs}], Loss:{loss.item():.4f}')\n",
    "        \n",
    "        \n",
    "        \"\"\"\n",
    "        SGDP \n",
    "        Epoch [1/100], Loss:0.8144\n",
    "        Epoch [11/100], Loss:0.4019\n",
    "        Epoch [21/100], Loss:0.3072\n",
    "        Epoch [31/100], Loss:0.2677\n",
    "        Epoch [41/100], Loss:0.2835\n",
    "        Epoch [51/100], Loss:0.1820\n",
    "        Epoch [61/100], Loss:0.2643\n",
    "        Epoch [71/100], Loss:0.2723\n",
    "        Epoch [81/100], Loss:0.2875\n",
    "        Epoch [91/100], Loss:0.3213\n",
    "        \"\"\""
   ]
  },
  {
   "cell_type": "markdown",
   "id": "f0986190",
   "metadata": {},
   "source": [
    "### 평가 코드 작성"
   ]
  },
  {
   "cell_type": "code",
   "execution_count": 12,
   "id": "58ca7615",
   "metadata": {},
   "outputs": [
    {
     "name": "stdout",
     "output_type": "stream",
     "text": [
      "Using device:  cpu\n",
      "Accuracy of the network on the test images: 50 %\n"
     ]
    }
   ],
   "source": [
    "# setting device on GPU if available, else CPU\n",
    "device = torch.device('cuda' if torch.cuda.is_available() else 'cpu')\n",
    "print(\"Using device: \", device)\n",
    "\n",
    "model.eval()\n",
    "with torch.no_grad():\n",
    "    correct = 0\n",
    "    total = 0 \n",
    "    for inputs, targets in test_loader:\n",
    "        inputs, targets = inputs.to(device), targets.to(device)\n",
    "        outputs = model(inputs)\n",
    "        _, predicted = torch.max(outputs.data, 1)\n",
    "        total += targets.size(0)\n",
    "        correct += (predicted == targets).sum().item()\n",
    "        \n",
    "    print('Accuracy of the network on the test images: %d %%' % (100 * correct / total))"
   ]
  },
  {
   "cell_type": "code",
   "execution_count": null,
   "id": "10308a3c",
   "metadata": {},
   "outputs": [],
   "source": []
  }
 ],
 "metadata": {
  "kernelspec": {
   "display_name": "AI",
   "language": "python",
   "name": "ai"
  },
  "language_info": {
   "codemirror_mode": {
    "name": "ipython",
    "version": 3
   },
   "file_extension": ".py",
   "mimetype": "text/x-python",
   "name": "python",
   "nbconvert_exporter": "python",
   "pygments_lexer": "ipython3",
   "version": "3.8.16"
  }
 },
 "nbformat": 4,
 "nbformat_minor": 5
}
