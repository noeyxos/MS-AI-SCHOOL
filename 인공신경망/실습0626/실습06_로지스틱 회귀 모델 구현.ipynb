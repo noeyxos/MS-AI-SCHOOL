{
 "cells": [
  {
   "cell_type": "markdown",
   "id": "4e8fd5f3",
   "metadata": {},
   "source": [
    "## 공개되어 있는 데이터를 가지고 로지스틱 회귀 진행\n",
    "* Fashion-MNIST 데이터셋을 활용하여 로지스틱 회귀 모델을 구현\n",
    "* 각 이미지 크기를 28 X 28 / 흑백이미지 / 총 10개의 클래스"
   ]
  },
  {
   "cell_type": "code",
   "execution_count": 1,
   "id": "e199fe65",
   "metadata": {},
   "outputs": [
    {
     "data": {
      "text/plain": [
       "'\\nFashion-MNIST 라벨 구성 요소\\n0 - 티셔츠 \\n1 - 바지\\n2 - 스웨터 \\n3 - 드레스 \\n4 - 코트 \\n5 - 샌들 \\n6 - 셔츠 \\n7 - 운동화 \\n8 - 가방\\n9 - 앵글 부츠 \\n'"
      ]
     },
     "execution_count": 1,
     "metadata": {},
     "output_type": "execute_result"
    }
   ],
   "source": [
    "\"\"\"\n",
    "Fashion-MNIST 라벨 구성 요소\n",
    "0 - 티셔츠 \n",
    "1 - 바지\n",
    "2 - 스웨터 \n",
    "3 - 드레스 \n",
    "4 - 코트 \n",
    "5 - 샌들 \n",
    "6 - 셔츠 \n",
    "7 - 운동화 \n",
    "8 - 가방\n",
    "9 - 앵글 부츠 \n",
    "\"\"\""
   ]
  },
  {
   "cell_type": "code",
   "execution_count": 2,
   "id": "0a49613d",
   "metadata": {},
   "outputs": [],
   "source": [
    "import torch \n",
    "import torch.nn as nn \n",
    "import torch.optim as optim\n",
    "import torchvision.datasets as dsets\n",
    "import torchvision.transforms as transforms\n",
    "import matplotlib.pyplot as plt"
   ]
  },
  {
   "cell_type": "markdown",
   "id": "c30ebb47",
   "metadata": {},
   "source": [
    "### 데이터셋 다운로드 및 DataLoader 생성"
   ]
  },
  {
   "cell_type": "code",
   "execution_count": 3,
   "id": "a87b3374",
   "metadata": {},
   "outputs": [],
   "source": [
    "train_dataset = dsets.FashionMNIST(root ='./data',\n",
    "                                  train = True, \n",
    "                                  transform = transforms.ToTensor(),\n",
    "                                  download=False)\n",
    "\n",
    "test_dataset = dsets.FashionMNIST(root='./data',\n",
    "                                 train=False,\n",
    "                                 transform = transforms.ToTensor(),\n",
    "                                 download=False)"
   ]
  },
  {
   "cell_type": "markdown",
   "id": "63a51f13",
   "metadata": {},
   "source": [
    "### train Loader, test Loader 생성"
   ]
  },
  {
   "cell_type": "code",
   "execution_count": 4,
   "id": "2dec3155",
   "metadata": {},
   "outputs": [],
   "source": [
    "batch_size = 100\n",
    "\n",
    "train_loader = torch.utils.data.DataLoader(dataset=train_dataset,\n",
    "                                          batch_size=batch_size,\n",
    "                                          shuffle=True)\n",
    "test_loader = torch.utils.data.DataLoader(dataset=test_dataset,\n",
    "                                         batch_size=batch_size,\n",
    "                                         shuffle=False)"
   ]
  },
  {
   "cell_type": "markdown",
   "id": "e7659a5e",
   "metadata": {},
   "source": [
    "## 모델 정의"
   ]
  },
  {
   "cell_type": "code",
   "execution_count": 5,
   "id": "8424be94",
   "metadata": {},
   "outputs": [],
   "source": [
    "class LogisticRegression(nn.Module):\n",
    "    def __init__(self, input_size, num_classes):\n",
    "        super(LogisticRegression, self).__init__()\n",
    "        self.linear = nn.Linear(input_size, num_classes)\n",
    "        \n",
    "    def forward(self, x):\n",
    "        out = self.linear(x)\n",
    "        return out"
   ]
  },
  {
   "cell_type": "code",
   "execution_count": 6,
   "id": "f74b5440",
   "metadata": {},
   "outputs": [],
   "source": [
    "# 하이퍼파라미터 설정\n",
    "input_size = 28 * 28 # 이미지 크기의 값\n",
    "num_classes = 10\n",
    "num_epochs = 10\n",
    "learning_rate = 0.001\n",
    "\n",
    "total_step = len(train_loader)"
   ]
  },
  {
   "cell_type": "markdown",
   "id": "f7ab8bf0",
   "metadata": {},
   "source": [
    "### 모델, 손실함수, 옵티마이저 정의"
   ]
  },
  {
   "cell_type": "code",
   "execution_count": 7,
   "id": "8d15cda2",
   "metadata": {},
   "outputs": [],
   "source": [
    "model = LogisticRegression(input_size, num_classes)\n",
    "criterion = nn.CrossEntropyLoss()\n",
    "optimizer = optim.SGD(model.parameters(), lr = learning_rate)"
   ]
  },
  {
   "cell_type": "code",
   "execution_count": 8,
   "id": "00d6007f",
   "metadata": {},
   "outputs": [
    {
     "name": "stdout",
     "output_type": "stream",
     "text": [
      "Using device:  cpu\n"
     ]
    },
    {
     "data": {
      "text/plain": [
       "LogisticRegression(\n",
       "  (linear): Linear(in_features=784, out_features=10, bias=True)\n",
       ")"
      ]
     },
     "execution_count": 8,
     "metadata": {},
     "output_type": "execute_result"
    }
   ],
   "source": [
    "#setting device on GPU if available, else CPU\n",
    "device = torch.device('cuda' if torch.cuda.is_available() else 'cpu')\n",
    "print('Using device: ', device)\n",
    "model.to(device)"
   ]
  },
  {
   "cell_type": "markdown",
   "id": "e0a42940",
   "metadata": {},
   "source": [
    "### 모델 학습"
   ]
  },
  {
   "cell_type": "code",
   "execution_count": 9,
   "id": "080028cf",
   "metadata": {},
   "outputs": [
    {
     "name": "stdout",
     "output_type": "stream",
     "text": [
      "Epoch [1/10], Step [100/600], Loss: 2.1164, Train Acc: 0.2900\n",
      "Epoch [1/10], Step [200/600], Loss: 1.9502, Train Acc: 0.4200\n",
      "Epoch [1/10], Step [300/600], Loss: 1.7797, Train Acc: 0.4900\n",
      "Epoch [1/10], Step [400/600], Loss: 1.7257, Train Acc: 0.5075\n",
      "Epoch [1/10], Step [500/600], Loss: 1.6510, Train Acc: 0.5360\n",
      "Epoch [1/10], Step [600/600], Loss: 1.6326, Train Acc: 0.5433\n",
      "Epoch [2/10], Step [100/600], Loss: 1.4585, Train Acc: 0.6600\n",
      "Epoch [2/10], Step [200/600], Loss: 1.3370, Train Acc: 0.6900\n",
      "Epoch [2/10], Step [300/600], Loss: 1.4023, Train Acc: 0.6400\n",
      "Epoch [2/10], Step [400/600], Loss: 1.3391, Train Acc: 0.6375\n",
      "Epoch [2/10], Step [500/600], Loss: 1.2363, Train Acc: 0.6500\n",
      "Epoch [2/10], Step [600/600], Loss: 1.3495, Train Acc: 0.6433\n",
      "Epoch [3/10], Step [100/600], Loss: 1.2022, Train Acc: 0.6600\n",
      "Epoch [3/10], Step [200/600], Loss: 1.1506, Train Acc: 0.6850\n",
      "Epoch [3/10], Step [300/600], Loss: 1.1581, Train Acc: 0.6833\n",
      "Epoch [3/10], Step [400/600], Loss: 1.1299, Train Acc: 0.6800\n",
      "Epoch [3/10], Step [500/600], Loss: 1.2812, Train Acc: 0.6640\n",
      "Epoch [3/10], Step [600/600], Loss: 1.1105, Train Acc: 0.6600\n",
      "Epoch [4/10], Step [100/600], Loss: 1.0690, Train Acc: 0.7400\n",
      "Epoch [4/10], Step [200/600], Loss: 1.0291, Train Acc: 0.7450\n",
      "Epoch [4/10], Step [300/600], Loss: 1.0371, Train Acc: 0.7300\n",
      "Epoch [4/10], Step [400/600], Loss: 1.0889, Train Acc: 0.7150\n",
      "Epoch [4/10], Step [500/600], Loss: 0.9123, Train Acc: 0.7300\n",
      "Epoch [4/10], Step [600/600], Loss: 0.9904, Train Acc: 0.7200\n",
      "Epoch [5/10], Step [100/600], Loss: 0.9984, Train Acc: 0.7300\n",
      "Epoch [5/10], Step [200/600], Loss: 1.0237, Train Acc: 0.7200\n",
      "Epoch [5/10], Step [300/600], Loss: 0.9185, Train Acc: 0.7333\n",
      "Epoch [5/10], Step [400/600], Loss: 0.8913, Train Acc: 0.7400\n",
      "Epoch [5/10], Step [500/600], Loss: 0.9240, Train Acc: 0.7360\n",
      "Epoch [5/10], Step [600/600], Loss: 0.9381, Train Acc: 0.7283\n",
      "Epoch [6/10], Step [100/600], Loss: 1.0601, Train Acc: 0.6700\n",
      "Epoch [6/10], Step [200/600], Loss: 0.9481, Train Acc: 0.7050\n",
      "Epoch [6/10], Step [300/600], Loss: 0.9047, Train Acc: 0.7100\n",
      "Epoch [6/10], Step [400/600], Loss: 0.9571, Train Acc: 0.7000\n",
      "Epoch [6/10], Step [500/600], Loss: 0.8425, Train Acc: 0.7140\n",
      "Epoch [6/10], Step [600/600], Loss: 0.9555, Train Acc: 0.7100\n",
      "Epoch [7/10], Step [100/600], Loss: 0.9566, Train Acc: 0.7200\n",
      "Epoch [7/10], Step [200/600], Loss: 0.8762, Train Acc: 0.7150\n",
      "Epoch [7/10], Step [300/600], Loss: 0.9449, Train Acc: 0.7067\n",
      "Epoch [7/10], Step [400/600], Loss: 0.9731, Train Acc: 0.6975\n",
      "Epoch [7/10], Step [500/600], Loss: 0.8259, Train Acc: 0.7000\n",
      "Epoch [7/10], Step [600/600], Loss: 0.8657, Train Acc: 0.7033\n",
      "Epoch [8/10], Step [100/600], Loss: 0.8096, Train Acc: 0.8200\n",
      "Epoch [8/10], Step [200/600], Loss: 0.9377, Train Acc: 0.7500\n",
      "Epoch [8/10], Step [300/600], Loss: 0.7509, Train Acc: 0.7667\n",
      "Epoch [8/10], Step [400/600], Loss: 0.9850, Train Acc: 0.7525\n",
      "Epoch [8/10], Step [500/600], Loss: 0.7594, Train Acc: 0.7540\n",
      "Epoch [8/10], Step [600/600], Loss: 0.8710, Train Acc: 0.7500\n",
      "Epoch [9/10], Step [100/600], Loss: 0.8065, Train Acc: 0.7100\n",
      "Epoch [9/10], Step [200/600], Loss: 0.8432, Train Acc: 0.7100\n",
      "Epoch [9/10], Step [300/600], Loss: 0.7468, Train Acc: 0.7367\n",
      "Epoch [9/10], Step [400/600], Loss: 0.8159, Train Acc: 0.7500\n",
      "Epoch [9/10], Step [500/600], Loss: 0.8203, Train Acc: 0.7560\n",
      "Epoch [9/10], Step [600/600], Loss: 0.7795, Train Acc: 0.7567\n",
      "Epoch [10/10], Step [100/600], Loss: 0.8514, Train Acc: 0.7300\n",
      "Epoch [10/10], Step [200/600], Loss: 0.7643, Train Acc: 0.7350\n",
      "Epoch [10/10], Step [300/600], Loss: 0.9941, Train Acc: 0.7200\n",
      "Epoch [10/10], Step [400/600], Loss: 0.7445, Train Acc: 0.7275\n",
      "Epoch [10/10], Step [500/600], Loss: 0.7248, Train Acc: 0.7400\n",
      "Epoch [10/10], Step [600/600], Loss: 0.7063, Train Acc: 0.7500\n"
     ]
    },
    {
     "data": {
      "image/png": "[encoded data removed]",
      "text/plain": [
       "<Figure size 640x480 with 1 Axes>"
      ]
     },
     "metadata": {},
     "output_type": "display_data"
    }
   ],
   "source": [
    "total_step = len(train_loader)\n",
    "loss_list = []\n",
    "acc_list = []\n",
    "for epoch in range(num_epochs):\n",
    "    correct = 0 \n",
    "    total = 0\n",
    "    for i, (images, labels) in enumerate(train_loader):\n",
    "        \n",
    "        # 데이터 로드 \n",
    "        images = images.reshape(-1, input_size).to(device)\n",
    "        labels =labels.to(device)\n",
    "\n",
    "        # 순전파 및 Loss 계산\n",
    "        outputs = model(images)\n",
    "        loss = criterion(outputs, labels)\n",
    "\n",
    "        # 역전파 및 가중치 업데이트\n",
    "        optimizer.zero_grad()\n",
    "        loss.backward()\n",
    "        optimizer.step()\n",
    "\n",
    "        # 로그 출력\n",
    "        if (i+1) % 100 == 0 :\n",
    "            loss_list.append(loss.item())\n",
    "            _, predicted = torch.max(outputs.data, 1)\n",
    "            total += labels.size(0)\n",
    "            correct += (predicted == labels).sum().item()\n",
    "            acc_list.append(correct / total)\n",
    "            print(\"Epoch [{}/{}], Step [{}/{}], Loss: {:.4f}, Train Acc: {:.4f}\".format(epoch+1, num_epochs, i+1, total_step, loss.item(), acc_list[-1]))\n",
    "\n",
    "            \n",
    "# 손실 및 정확도 그래프 출력\n",
    "plt.plot(loss_list, label = 'Training Loss')\n",
    "plt.plot(acc_list, label='Training Accuracy')\n",
    "plt.xlabel('Iterations')\n",
    "plt.ylabel('Loss/Accuracy')\n",
    "plt.title('Training Loss and Accuracy')\n",
    "plt.legend()\n",
    "plt.show()"
   ]
  },
  {
   "cell_type": "code",
   "execution_count": null,
   "id": "f2ddc465",
   "metadata": {},
   "outputs": [],
   "source": []
  }
 ],
 "metadata": {
  "kernelspec": {
   "display_name": "AI",
   "language": "python",
   "name": "ai"
  },
  "language_info": {
   "codemirror_mode": {
    "name": "ipython",
    "version": 3
   },
   "file_extension": ".py",
   "mimetype": "text/x-python",
   "name": "python",
   "nbconvert_exporter": "python",
   "pygments_lexer": "ipython3",
   "version": "3.8.16"
  }
 },
 "nbformat": 4,
 "nbformat_minor": 5
}
