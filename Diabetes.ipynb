{
  "cells": [
    {
      "cell_type": "code",
      "execution_count": 22,
      "metadata": {
        "gather": {
          "logged": 1683189027491
        }
      },
      "outputs": [
        {
          "name": "stdout",
          "output_type": "stream",
          "text": [
            "Workspace name: labuser72ml Azure region: eastus Subscription ID: 27db5ec6-d206-4028-b5e1-6004dca5eeef Resource group: rg72\n"
          ]
        }
      ],
      "source": [
        "from azureml.core import Workspace  # workspace = 작업공간\n",
        "ws = Workspace.from_config()   # workspace에 대한 정보\n",
        "print('Workspace name: '+ ws.name,  # 이름\n",
        "'Azure region: ' + ws.location,     # 위치\n",
        "'Subscription ID: '+ws.subscription_id,# 구독 아이디\n",
        "'Resource group: '+ ws.resource_group)  #리소스 그룹"
      ]
    },
    {
      "cell_type": "code",
      "execution_count": 24,
      "metadata": {
        "gather": {
          "logged": 1683189034995
        },
        "jupyter": {
          "outputs_hidden": false,
          "source_hidden": false
        },
        "nteract": {
          "transient": {
            "deleting": false
          }
        }
      },
      "outputs": [],
      "source": [
        "# 실험공간을 준비\n",
        "from azureml.core import Experiment # 실험공간이란 workspace안에 실험공간이 있고 그 안에 파이썬 코드를 짜는 계층적 구조\n",
        "experiment = Experiment(workspace=ws, name ='diabetes-experiment') #실험의 위치와 실험 이름 지정"
      ]
    },
    {
      "cell_type": "code",
      "execution_count": 25,
      "metadata": {
        "gather": {
          "logged": 1683189038254
        },
        "jupyter": {
          "outputs_hidden": false,
          "source_hidden": false
        },
        "nteract": {
          "transient": {
            "deleting": false
          }
        }
      },
      "outputs": [
        {
          "name": "stdout",
          "output_type": "stream",
          "text": [
            "     AGE  SEX   BMI     BP   S1     S2    S3    S4      S5   S6\n",
            "440   36    1  30.0   95.0  201  125.2  42.0  4.79  5.1299   85\n",
            "389   47    2  26.5   70.0  181  104.8  63.0  3.00  4.1897   70\n",
            "5     23    1  22.6   89.0  139   64.8  61.0  2.00  4.1897   68\n",
            "289   28    2  31.5   83.0  228  149.4  38.0  6.00  5.3132   83\n",
            "101   53    2  22.2  113.0  197  115.2  67.0  3.00  4.3041  100\n",
            "..   ...  ...   ...    ...  ...    ...   ...   ...     ...  ...\n",
            "122   62    2  33.9  101.0  221  156.4  35.0  6.00  4.9972  103\n",
            "51    65    2  27.9  103.0  159   96.8  42.0  4.00  4.6151   86\n",
            "119   53    1  22.0   94.0  175   88.0  59.0  3.00  4.9416   98\n",
            "316   53    2  27.7   95.0  190  101.8  41.0  5.00  5.4638  101\n",
            "20    35    1  21.1   82.0  156   87.8  50.0  3.00  4.5109   95\n",
            "\n",
            "[353 rows x 10 columns]\n"
          ]
        }
      ],
      "source": [
        "# 데이터를 준비한다.\n",
        "from azureml.opendatasets import Diabetes       #Diabetes 데이터 가져오기\n",
        "from sklearn.model_selection import train_test_split    # 데이터를 분류하는 모듈 가져오기\n",
        "\n",
        "x_df = Diabetes.get_tabular_dataset().to_pandas_dataframe().dropna() #get_tabular_dataset(): 표 형태로 가져오기,to_pandas_dataframe(): pandas형태로 불러오기, dropna(): NaN값이 있는 행 제외\n",
        "y_df = x_df.pop('Y')    # Y(label값) pop하기 ( 학습용 데이터와 테스트용 데이터를 분류하기위해 )\n",
        "\n",
        "X_train, X_test, y_train, y_test = train_test_split(x_df, y_df, test_size=0.2, random_state=66) #train 80%, test 20%로 나누기\n",
        "print(X_train)"
      ]
    },
    {
      "cell_type": "code",
      "execution_count": 26,
      "metadata": {
        "gather": {
          "logged": 1683189123043
        },
        "jupyter": {
          "outputs_hidden": false,
          "source_hidden": false
        },
        "nteract": {
          "transient": {
            "deleting": false
          }
        }
      },
      "outputs": [
        {
          "name": "stdout",
          "output_type": "stream",
          "text": [
            "model_alpha=0.1, rmse=56.605203313391435\n",
            "0.1 experiment completed\n",
            "model_alpha=0.2, rmse=56.61060264545031\n",
            "0.2 experiment completed\n",
            "model_alpha=0.3, rmse=56.61624324548362\n",
            "0.3 experiment completed\n",
            "model_alpha=0.4, rmse=56.62210708871013\n",
            "0.4 experiment completed\n",
            "model_alpha=0.5, rmse=56.628177342751385\n",
            "0.5 experiment completed\n",
            "model_alpha=0.6, rmse=56.63443828302744\n",
            "0.6 experiment completed\n",
            "model_alpha=0.7, rmse=56.64087521475942\n",
            "0.7 experiment completed\n",
            "model_alpha=0.8, rmse=56.64747440101076\n",
            "0.8 experiment completed\n",
            "model_alpha=0.9, rmse=56.65422299625313\n",
            "0.9 experiment completed\n",
            "model_alpha=1, rmse=56.661108984990555\n",
            "1 experiment completed\n"
          ]
        }
      ],
      "source": [
        "# 모델 훈련, 로그, 모델 파일 관리\n",
        "from sklearn.linear_model import Ridge  # Ridge 알고리즘\n",
        "from sklearn.metrics import mean_squared_error  #MSE 모듈 가져오기\n",
        "from sklearn.externals import joblib #사이킷 런으로 학습시킨 것을 파일(pkl)로 저장하는 모듈\n",
        "import math \n",
        "\n",
        "alphas  = [0.1, 0.2, 0.3, 0.4, 0.5, 0.6, 0.7, 0.8, 0.9, 1] #Ridge에서는 alpha값을 바꿔가면서 훈련을 시킨다.\n",
        "for alpha in alphas:\n",
        "\n",
        "    #실험의 기록\n",
        "    run = experiment.start_logging()  # 실험에 대한 로그를 남긴다\n",
        "    run.log('alpha_value', alpha)   # alpha 에 대한 로그 남기기\n",
        "\n",
        "    model = Ridge(alpha=alpha)  # alpha값을 for문으로 돌려보며 값에 따른 모델의 성능을 비교해보려고 한다.\n",
        "    model.fit(X_train, y_train)     #모델 학습시키기    \n",
        "    y_pred = model.predict(X_test)  # 예측 값 집어넣기\n",
        "    rmse = math.sqrt(mean_squared_error(y_test, y_pred)) # 예측 값과 훈련 값 두 개의 값을 비교해서 RMSE값을 구함  RMSE:(MSE에다가 루트 씌움)\n",
        "\n",
        "    run.log('rmse',rmse)    # rmse 에 대한 로그 남기기\n",
        "\n",
        "    print('model_alpha={0}, rmse={1}'.format(alpha,rmse))    \n",
        "\n",
        "    #모델을 파일로 저장하는 부분\n",
        "    model_name = 'model_alpha_'+str(alpha)+'.pkl'   # 저장할 모델 파일의 이름 지정\n",
        "    filename = 'outputs/' + model_name              # 파일의 경로 지정\n",
        "\n",
        "    joblib.dump(value=model, filename=filename)     #joblib 패키지에서 저장하는 메소드 dump\n",
        "\n",
        "    #Azure ML Service에 모델 파일을 업로드 하는 부분\n",
        "    run.upload_file(name=model_name, path_or_stream=filename) #저장한 파일을 바로 업로드 할 수 있다.\n",
        "\n",
        "    run.complete() # 로그 남기기 종료\n",
        "\n",
        "    print(f'{alpha} experiment completed')"
      ]
    },
    {
      "cell_type": "code",
      "execution_count": 27,
      "metadata": {
        "gather": {
          "logged": 1683189124129
        },
        "jupyter": {
          "outputs_hidden": false,
          "source_hidden": false
        },
        "nteract": {
          "transient": {
            "deleting": false
          }
        }
      },
      "outputs": [
        {
          "data": {
            "text/html": [
              "<table style=\"width:100%\"><tr><th>Name</th><th>Workspace</th><th>Report Page</th><th>Docs Page</th></tr><tr><td>diabetes-experiment</td><td>labuser72ml</td><td><a href=\"https://ml.azure.com/experiments/id/2ecedbca-8f45-4718-9981-34eb5a2069d9?wsid=/subscriptions/27db5ec6-d206-4028-b5e1-6004dca5eeef/resourcegroups/rg72/workspaces/labuser72ml&amp;tid=5fb256f0-fbf2-40d2-81d5-bac1b32c419d\" target=\"_blank\" rel=\"noopener\">Link to Azure Machine Learning studio</a></td><td><a href=\"https://docs.microsoft.com/en-us/python/api/azureml-core/azureml.core.experiment.Experiment?view=azure-ml-py\" target=\"_blank\" rel=\"noopener\">Link to Documentation</a></td></tr></table>"
            ],
            "text/plain": [
              "Experiment(Name: diabetes-experiment,\n",
              "Workspace: labuser72ml)"
            ]
          },
          "execution_count": 27,
          "metadata": {},
          "output_type": "execute_result"
        }
      ],
      "source": [
        "experiment"
      ]
    },
    {
      "cell_type": "code",
      "execution_count": 28,
      "metadata": {
        "gather": {
          "logged": 1683189130886
        },
        "jupyter": {
          "outputs_hidden": false,
          "source_hidden": false
        },
        "nteract": {
          "transient": {
            "deleting": false
          }
        }
      },
      "outputs": [
        {
          "name": "stdout",
          "output_type": "stream",
          "text": [
            "Best run_id: 6b8431d8-09ea-40c3-a317-ddd070adb9b1\n",
            "Best run_id_rmse: 56.605203313391435\n"
          ]
        }
      ],
      "source": [
        "# Best Model을 탐색 후 다운로드\n",
        "minimum_rmse = None # 초기값 설정\n",
        "minimum_rmse_runid = None\n",
        "\n",
        "for exp in experiment.get_runs():\n",
        "    run_metrics = exp.get_metrics() # 실행한 metrics값 가져오기\n",
        "    run_details = exp.get_details() # 세부사항 가져오기\n",
        "\n",
        "    run_rmse = run_metrics['rmse']  #RMSE값 가져오기\n",
        "    run_id = run_details['runId']   #실행 ID 가져오기\n",
        "\n",
        "    #가장 낮은 RMSE 값을 가진 실행 ID를 구하는 부분\n",
        "    if minimum_rmse is None:            # 현재 실행중인 값(rmse)이 최솟값과 같다는 뜻\n",
        "        minimum_rmse = run_rmse\n",
        "        minimum_rmse_runid = run_id\n",
        "    else:\n",
        "        if run_rmse < minimum_rmse:        # 현재 실행중인 값(rmse)이 최솟값이라는 뜻\n",
        "            minimum_rmse = run_rmse\n",
        "            minimum_rmse_runid = run_id\n",
        "\n",
        "print('Best run_id: '+ minimum_rmse_runid)\n",
        "print('Best run_id_rmse: '+ str(minimum_rmse))"
      ]
    },
    {
      "cell_type": "code",
      "execution_count": 29,
      "metadata": {
        "gather": {
          "logged": 1683189131453
        },
        "jupyter": {
          "outputs_hidden": false,
          "source_hidden": false
        },
        "nteract": {
          "transient": {
            "deleting": false
          }
        }
      },
      "outputs": [
        {
          "name": "stdout",
          "output_type": "stream",
          "text": [
            "['model_alpha_0.1.pkl', 'outputs/.amlignore', 'outputs/.amlignore.amltmp', 'outputs/model_alpha_0.1.pkl', 'outputs/model_alpha_0.2.pkl', 'outputs/model_alpha_0.3.pkl', 'outputs/model_alpha_0.4.pkl', 'outputs/model_alpha_0.5.pkl', 'outputs/model_alpha_0.6.pkl', 'outputs/model_alpha_0.7.pkl', 'outputs/model_alpha_0.8.pkl', 'outputs/model_alpha_0.9.pkl', 'outputs/model_alpha_1.pkl']\n"
          ]
        }
      ],
      "source": [
        "from azureml.core import Run \n",
        "best_run = Run(experiment=experiment, run_id=minimum_rmse_runid)\n",
        "print(best_run.get_file_names())    # best 실제 파일 이름 출력하기\n",
        "\n",
        "best_run.download_file(name=str(best_run.get_file_names()[0]))  #best_run인 실제 파일 다운로드"
      ]
    }
  ],
  "metadata": {
    "kernel_info": {
      "name": "python38-azureml"
    },
    "kernelspec": {
      "display_name": "Python 3.8 - AzureML",
      "language": "python",
      "name": "python38-azureml"
    },
    "language_info": {
      "codemirror_mode": {
        "name": "ipython",
        "version": 3
      },
      "file_extension": ".py",
      "mimetype": "text/x-python",
      "name": "python",
      "nbconvert_exporter": "python",
      "pygments_lexer": "ipython3",
      "version": "3.8.5"
    },
    "microsoft": {
      "host": {
        "AzureML": {
          "notebookHasBeenCompleted": true
        }
      },
      "ms_spell_check": {
        "ms_spell_check_language": "en"
      }
    },
    "nteract": {
      "version": "nteract-front-end@1.0.0"
    }
  },
  "nbformat": 4,
  "nbformat_minor": 2
}
