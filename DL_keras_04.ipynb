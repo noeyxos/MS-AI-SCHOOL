{
  "nbformat": 4,
  "nbformat_minor": 0,
  "metadata": {
    "colab": {
      "provenance": [],
      "authorship_tag": "ABX9TyOIEVajqjmXyUtbcR6Tu3Qp",
      "include_colab_link": true
    },
    "kernelspec": {
      "name": "python3",
      "display_name": "Python 3"
    },
    "language_info": {
      "name": "python"
    }
  },
  "cells": [
    {
      "cell_type": "markdown",
      "metadata": {
        "id": "view-in-github",
        "colab_type": "text"
      },
      "source": [
        "<a href=\"https://colab.research.google.com/github/noeyxos/MS-AI-SCHOOL/blob/main/DL_keras_04.ipynb\" target=\"_parent\"><img src=\"https://colab.research.google.com/assets/colab-badge.svg\" alt=\"Open In Colab\"/></a>"
      ]
    },
    {
      "cell_type": "code",
      "execution_count": null,
      "metadata": {
        "colab": {
          "base_uri": "https://localhost:8080/"
        },
        "id": "9UmI8wnHdez3",
        "outputId": "11b4c94b-ac35-4581-c23b-8b6c5de459e8"
      },
      "outputs": [
        {
          "output_type": "stream",
          "name": "stdout",
          "text": [
            "Downloading data from https://storage.googleapis.com/tensorflow/tf-keras-datasets/boston_housing.npz\n",
            "57026/57026 [==============================] - 0s 0us/step\n"
          ]
        }
      ],
      "source": [
        "# 데이터를 가져오는 부분 \n",
        "from keras.datasets import boston_housing\n",
        "(train_data, train_labels), (test_data, test_labels) = boston_housing.load_data()"
      ]
    },
    {
      "cell_type": "code",
      "source": [
        "print(train_data.shape)\n",
        "print(test_data.shape)"
      ],
      "metadata": {
        "colab": {
          "base_uri": "https://localhost:8080/"
        },
        "id": "l7JsvlQ_eNBw",
        "outputId": "be972e99-cfe7-40e6-cd26-b4a562637858"
      },
      "execution_count": null,
      "outputs": [
        {
          "output_type": "stream",
          "name": "stdout",
          "text": [
            "(404, 13)\n",
            "(102, 13)\n"
          ]
        }
      ]
    },
    {
      "cell_type": "code",
      "source": [
        "print(train_labels[0])"
      ],
      "metadata": {
        "colab": {
          "base_uri": "https://localhost:8080/"
        },
        "id": "n5q3NqqreTml",
        "outputId": "97bc11f8-4b5a-4856-e36e-9fe48744771c"
      },
      "execution_count": null,
      "outputs": [
        {
          "output_type": "stream",
          "name": "stdout",
          "text": [
            "15.2\n"
          ]
        }
      ]
    },
    {
      "cell_type": "code",
      "source": [
        "print(train_data[0])"
      ],
      "metadata": {
        "colab": {
          "base_uri": "https://localhost:8080/"
        },
        "id": "KEMotZzJel9B",
        "outputId": "dc6abe5c-4c44-4518-9654-ef32577828f0"
      },
      "execution_count": null,
      "outputs": [
        {
          "output_type": "stream",
          "name": "stdout",
          "text": [
            "[  1.23247   0.        8.14      0.        0.538     6.142    91.7\n",
            "   3.9769    4.      307.       21.      396.9      18.72   ]\n"
          ]
        }
      ]
    },
    {
      "cell_type": "code",
      "source": [
        "# 데이터 전처리 (Scaling)\n",
        "\n",
        "mean = train_data.mean(axis =0)   # 각 항목별로 평균을 구한다. \n",
        "# 평균치를 다 빼주는 작업\n",
        "train_data -= mean  # train_data = train_data - mean 과 같은 표현\n",
        "\n",
        "#표준 편차 구하기\n",
        "std = train_data.std(axis = 0)  # 각 컬럼별로 표준편차 구하기\n",
        "train_data /= std\n",
        "\n",
        "train_data[0]"
      ],
      "metadata": {
        "colab": {
          "base_uri": "https://localhost:8080/"
        },
        "id": "qF71bRy_eowT",
        "outputId": "9a403a56-40a8-46ef-8446-47824939d449"
      },
      "execution_count": null,
      "outputs": [
        {
          "output_type": "execute_result",
          "data": {
            "text/plain": [
              "array([-0.27224633, -0.48361547, -0.43576161, -0.25683275, -0.1652266 ,\n",
              "       -0.1764426 ,  0.81306188,  0.1166983 , -0.62624905, -0.59517003,\n",
              "        1.14850044,  0.44807713,  0.8252202 ])"
            ]
          },
          "metadata": {},
          "execution_count": 7
        }
      ]
    },
    {
      "cell_type": "code",
      "source": [
        "# 모델의 구성\n",
        "from keras import models \n",
        "from keras import layers\n",
        "\n",
        "#매번 데이터가 바뀔 때 마다 신경망을 새로 생성하는게 귀찮아서 함수를 만들기로 한다. \n",
        "def build_model():\n",
        "  model = models.Sequential()\n",
        "  model.add(layers.Dense(64, activation='relu', input_shape=(train_data.shape[1],)))\n",
        "  model.add(layers.Dense(64, activation='relu'))\n",
        "  model.add(layers.Dense(1))  # 회귀 값은 identity function을 사용하는데 아예 지정을 안 해주어도 똑같은 결과가 나온다 ! \n",
        "\n",
        "  model.compile(optimizer = 'rmsprop',\n",
        "                loss= 'mse',\n",
        "                metrics =['mse'])\n",
        "  return model"
      ],
      "metadata": {
        "id": "o_5eoJGZfNhB"
      },
      "execution_count": null,
      "outputs": []
    },
    {
      "cell_type": "code",
      "source": [
        "# K- folder 검증을 사용한 훈련 검증 (전체 데이터의 갯수가 부족할 떄 사용)\n",
        "\n",
        "import numpy as np\n",
        "\n",
        "k = 4               #folder 개수\n",
        "num_val_samples = len(train_data) //  k #한 folder의 데이터 수 \n",
        "all_scores=[]\n",
        "\n",
        "for i in range(k):\n",
        "  print('처리중인 폴드 #', i )\n",
        "\n",
        "# 검증 데이터의 준비 \n",
        "  val_data = train_data[i * num_val_samples: (i + 1) * num_val_samples] # 시작점 : i * num_val_samples,  끝점 : (i + 1) * num_val_samples\n",
        "  val_labels = train_labels[i * num_val_samples: (i + 1) * num_val_samples]\n",
        "\n",
        "# 학습 데이터의 준비\n",
        "  data1 = train_data[ : i * num_val_samples]\n",
        "  data2 = train_data[(i+1) * num_val_samples : ]\n",
        "  data1_labels = train_labels[ : i * num_val_samples]\n",
        "  data2_labels = train_labels[(i+1) * num_val_samples : ]\n",
        "\n",
        "  partial_train_data =np.concatenate([data1,data2], axis=0)  #concatenate : 똑같은 구조의 데이터 두개를 합쳐주는 메소드\n",
        "  partial_train_labels =np.concatenate([data1_labels,data2_labels], axis=0)  #concatenate : 똑같은 구조의 데이터 두개를 합쳐주는 메소드\n",
        "\n",
        "# 모델의 학습\n",
        "  model = build_model()\n",
        "  model.summary()\n",
        "\n",
        "  model.fit(partial_train_data, partial_train_labels, epochs = 500, batch_size=128, verbose=0)  #verbose=0 : 훈련사항을 보여주지 않음 \n",
        "\n",
        "# 모델의 검증\n",
        "  val_mse, val_mae = model.evaluate(val_data, val_labels)\n",
        "  print(val_mse, val_mae)\n",
        "  all_scores.append(val_mae)"
      ],
      "metadata": {
        "colab": {
          "base_uri": "https://localhost:8080/"
        },
        "id": "jcAWzt87jz_n",
        "outputId": "3c909282-da4e-4003-a576-958e4095e206"
      },
      "execution_count": null,
      "outputs": [
        {
          "output_type": "stream",
          "name": "stdout",
          "text": [
            "처리중인 폴드 # 0\n",
            "Model: \"sequential_2\"\n",
            "_________________________________________________________________\n",
            " Layer (type)                Output Shape              Param #   \n",
            "=================================================================\n",
            " dense_6 (Dense)             (None, 64)                896       \n",
            "                                                                 \n",
            " dense_7 (Dense)             (None, 64)                4160      \n",
            "                                                                 \n",
            " dense_8 (Dense)             (None, 1)                 65        \n",
            "                                                                 \n",
            "=================================================================\n",
            "Total params: 5,121\n",
            "Trainable params: 5,121\n",
            "Non-trainable params: 0\n",
            "_________________________________________________________________\n",
            "4/4 [==============================] - 0s 3ms/step - loss: 8.8501 - mse: 8.8501\n",
            "8.85007381439209 8.85007381439209\n",
            "처리중인 폴드 # 1\n",
            "Model: \"sequential_3\"\n",
            "_________________________________________________________________\n",
            " Layer (type)                Output Shape              Param #   \n",
            "=================================================================\n",
            " dense_9 (Dense)             (None, 64)                896       \n",
            "                                                                 \n",
            " dense_10 (Dense)            (None, 64)                4160      \n",
            "                                                                 \n",
            " dense_11 (Dense)            (None, 1)                 65        \n",
            "                                                                 \n",
            "=================================================================\n",
            "Total params: 5,121\n",
            "Trainable params: 5,121\n",
            "Non-trainable params: 0\n",
            "_________________________________________________________________\n",
            "4/4 [==============================] - 0s 4ms/step - loss: 11.0884 - mse: 11.0884\n",
            "11.088364601135254 11.088364601135254\n",
            "처리중인 폴드 # 2\n",
            "Model: \"sequential_4\"\n",
            "_________________________________________________________________\n",
            " Layer (type)                Output Shape              Param #   \n",
            "=================================================================\n",
            " dense_12 (Dense)            (None, 64)                896       \n",
            "                                                                 \n",
            " dense_13 (Dense)            (None, 64)                4160      \n",
            "                                                                 \n",
            " dense_14 (Dense)            (None, 1)                 65        \n",
            "                                                                 \n",
            "=================================================================\n",
            "Total params: 5,121\n",
            "Trainable params: 5,121\n",
            "Non-trainable params: 0\n",
            "_________________________________________________________________\n",
            "4/4 [==============================] - 0s 3ms/step - loss: 11.8725 - mse: 11.8725\n",
            "11.872527122497559 11.872527122497559\n",
            "처리중인 폴드 # 3\n",
            "Model: \"sequential_5\"\n",
            "_________________________________________________________________\n",
            " Layer (type)                Output Shape              Param #   \n",
            "=================================================================\n",
            " dense_15 (Dense)            (None, 64)                896       \n",
            "                                                                 \n",
            " dense_16 (Dense)            (None, 64)                4160      \n",
            "                                                                 \n",
            " dense_17 (Dense)            (None, 1)                 65        \n",
            "                                                                 \n",
            "=================================================================\n",
            "Total params: 5,121\n",
            "Trainable params: 5,121\n",
            "Non-trainable params: 0\n",
            "_________________________________________________________________\n",
            "4/4 [==============================] - 0s 5ms/step - loss: 11.1973 - mse: 11.1973\n",
            "11.197341918945312 11.197341918945312\n"
          ]
        }
      ]
    },
    {
      "cell_type": "code",
      "source": [
        "np.mean(all_scores)"
      ],
      "metadata": {
        "colab": {
          "base_uri": "https://localhost:8080/"
        },
        "id": "Zksw1WkC25a2",
        "outputId": "91d1e7bb-46b2-4040-c810-9b77ad957863"
      },
      "execution_count": null,
      "outputs": [
        {
          "output_type": "execute_result",
          "data": {
            "text/plain": [
              "10.752076864242554"
            ]
          },
          "metadata": {},
          "execution_count": 15
        }
      ]
    },
    {
      "cell_type": "code",
      "source": [],
      "metadata": {
        "id": "9RQt6dkeFWBt"
      },
      "execution_count": null,
      "outputs": []
    }
  ]
}