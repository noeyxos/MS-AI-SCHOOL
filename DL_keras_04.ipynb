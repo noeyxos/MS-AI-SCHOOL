{
  "nbformat": 4,
  "nbformat_minor": 0,
  "metadata": {
    "colab": {
      "provenance": [],
      "authorship_tag": "ABX9TyOoBED99KcoWCMSQ8d6zrVO",
      "include_colab_link": true
    },
    "kernelspec": {
      "name": "python3",
      "display_name": "Python 3"
    },
    "language_info": {
      "name": "python"
    }
  },
  "cells": [
    {
      "cell_type": "markdown",
      "metadata": {
        "id": "view-in-github",
        "colab_type": "text"
      },
      "source": [
        "<a href=\"https://colab.research.google.com/github/noeyxos/MS-AI-SCHOOL/blob/main/DL_keras_04.ipynb\" target=\"_parent\"><img src=\"https://colab.research.google.com/assets/colab-badge.svg\" alt=\"Open In Colab\"/></a>"
      ]
    },
    {
      "cell_type": "markdown",
      "source": [
        "Regression"
      ],
      "metadata": {
        "id": "RRd48z54XLME"
      }
    },
    {
      "cell_type": "code",
      "execution_count": 2,
      "metadata": {
        "colab": {
          "base_uri": "https://localhost:8080/"
        },
        "id": "9UmI8wnHdez3",
        "outputId": "a8c5a30a-51af-4ceb-856a-c76177f35f10"
      },
      "outputs": [
        {
          "output_type": "stream",
          "name": "stdout",
          "text": [
            "Downloading data from https://storage.googleapis.com/tensorflow/tf-keras-datasets/boston_housing.npz\n",
            "57026/57026 [==============================] - 0s 0us/step\n"
          ]
        }
      ],
      "source": [
        "# 데이터를 가져오는 부분 \n",
        "from keras.datasets import boston_housing\n",
        "(train_data, train_labels), (test_data, test_labels) = boston_housing.load_data()"
      ]
    },
    {
      "cell_type": "code",
      "source": [
        "print(train_data.shape)\n",
        "print(test_data.shape)"
      ],
      "metadata": {
        "colab": {
          "base_uri": "https://localhost:8080/"
        },
        "id": "l7JsvlQ_eNBw",
        "outputId": "d6bdcc3c-a50a-4a38-94a4-980dd87c2c93"
      },
      "execution_count": 3,
      "outputs": [
        {
          "output_type": "stream",
          "name": "stdout",
          "text": [
            "(404, 13)\n",
            "(102, 13)\n"
          ]
        }
      ]
    },
    {
      "cell_type": "code",
      "source": [
        "print(train_labels[0])"
      ],
      "metadata": {
        "colab": {
          "base_uri": "https://localhost:8080/"
        },
        "id": "n5q3NqqreTml",
        "outputId": "05c8676a-b358-43c4-9464-a6e4ee0b93f5"
      },
      "execution_count": 4,
      "outputs": [
        {
          "output_type": "stream",
          "name": "stdout",
          "text": [
            "15.2\n"
          ]
        }
      ]
    },
    {
      "cell_type": "code",
      "source": [
        "print(train_data[0])"
      ],
      "metadata": {
        "colab": {
          "base_uri": "https://localhost:8080/"
        },
        "id": "KEMotZzJel9B",
        "outputId": "b5fd80e5-b7ef-43e5-fc59-c40802c4b85f"
      },
      "execution_count": 5,
      "outputs": [
        {
          "output_type": "stream",
          "name": "stdout",
          "text": [
            "[  1.23247   0.        8.14      0.        0.538     6.142    91.7\n",
            "   3.9769    4.      307.       21.      396.9      18.72   ]\n"
          ]
        }
      ]
    },
    {
      "cell_type": "code",
      "source": [
        "# 데이터 전처리 (Scaling)\n",
        "\n",
        "mean = train_data.mean(axis =0)   # 각 항목별로 평균을 구한다. \n",
        "# 평균치를 다 빼주는 작업\n",
        "train_data -= mean  # train_data = train_data - mean 과 같은 표현\n",
        "\n",
        "#표준 편차 구하기\n",
        "std = train_data.std(axis = 0)  # 각 컬럼별로 표준편차 구하기\n",
        "train_data /= std\n",
        "\n",
        "train_data[0]"
      ],
      "metadata": {
        "colab": {
          "base_uri": "https://localhost:8080/"
        },
        "id": "qF71bRy_eowT",
        "outputId": "581e6e7d-6e58-4226-8634-a03f1388b729"
      },
      "execution_count": 6,
      "outputs": [
        {
          "output_type": "execute_result",
          "data": {
            "text/plain": [
              "array([-0.27224633, -0.48361547, -0.43576161, -0.25683275, -0.1652266 ,\n",
              "       -0.1764426 ,  0.81306188,  0.1166983 , -0.62624905, -0.59517003,\n",
              "        1.14850044,  0.44807713,  0.8252202 ])"
            ]
          },
          "metadata": {},
          "execution_count": 6
        }
      ]
    },
    {
      "cell_type": "code",
      "source": [
        "# 모델의 구성\n",
        "from keras import models \n",
        "from keras import layers\n",
        "\n",
        "#매번 데이터가 바뀔 때 마다 신경망을 새로 생성하는게 귀찮아서 함수를 만들기로 한다. \n",
        "def build_model():\n",
        "  model = models.Sequential()\n",
        "  model.add(layers.Dense(64, activation='relu', input_shape=(train_data.shape[1],)))\n",
        "  model.add(layers.Dense(64, activation='relu'))\n",
        "  model.add(layers.Dense(1))  # 회귀 값은 identity function을 사용하는데 아예 지정을 안 해주어도 똑같은 결과가 나온다 ! \n",
        "\n",
        "  model.compile(optimizer = 'rmsprop',\n",
        "                loss= 'mse',  # 회귀 문제에 쓸 손실 함수\n",
        "                metrics =['mse'])\n",
        "  return model"
      ],
      "metadata": {
        "id": "o_5eoJGZfNhB"
      },
      "execution_count": 7,
      "outputs": []
    },
    {
      "cell_type": "code",
      "source": [
        "# K- folder 검증을 사용한 훈련 검증 (전체 데이터의 갯수가 부족할 때 사용)\n",
        "\n",
        "import numpy as np\n",
        "\n",
        "k = 4               # folder 개수\n",
        "num_val_samples = len(train_data) //  k # 한 folder의 데이터 수 \n",
        "all_scores=[]\n",
        "\n",
        "for i in range(k):\n",
        "  print('처리중인 폴드 #', i )\n",
        "\n",
        "# 검증 데이터의 준비 \n",
        "  val_data = train_data[i * num_val_samples: (i + 1) * num_val_samples] # 시작점 : i * num_val_samples,  끝점 : (i + 1) * num_val_samples\n",
        "  val_labels = train_labels[i * num_val_samples: (i + 1) * num_val_samples]\n",
        "\n",
        "# 학습 데이터의 준비\n",
        "  data1 = train_data[ : i * num_val_samples]\n",
        "  data2 = train_data[(i+1) * num_val_samples : ]\n",
        "  data1_labels = train_labels[ : i * num_val_samples]\n",
        "  data2_labels = train_labels[(i+1) * num_val_samples : ]\n",
        "\n",
        "  partial_train_data =np.concatenate([data1,data2], axis=0)  #concatenate : 똑같은 구조의 데이터 두개를 합쳐주는 메소드\n",
        "  partial_train_labels =np.concatenate([data1_labels,data2_labels], axis=0)\n",
        "\n",
        "# 모델의 학습\n",
        "  model = build_model()\n",
        "  model.summary()\n",
        "\n",
        "  model.fit(partial_train_data, partial_train_labels, epochs = 500, batch_size=128, verbose=0)  #verbose=0 : 훈련사항을 보여주지 않음 \n",
        "\n",
        "# 모델의 검증\n",
        "  val_mse, val_mae = model.evaluate(val_data, val_labels)\n",
        "  print(val_mse, val_mae)\n",
        "  all_scores.append(val_mae)"
      ],
      "metadata": {
        "colab": {
          "base_uri": "https://localhost:8080/"
        },
        "id": "jcAWzt87jz_n",
        "outputId": "385fca1f-f840-43bc-fb82-eb3ec3d483b2"
      },
      "execution_count": 8,
      "outputs": [
        {
          "output_type": "stream",
          "name": "stdout",
          "text": [
            "처리중인 폴드 # 0\n",
            "Model: \"sequential\"\n",
            "_________________________________________________________________\n",
            " Layer (type)                Output Shape              Param #   \n",
            "=================================================================\n",
            " dense (Dense)               (None, 64)                896       \n",
            "                                                                 \n",
            " dense_1 (Dense)             (None, 64)                4160      \n",
            "                                                                 \n",
            " dense_2 (Dense)             (None, 1)                 65        \n",
            "                                                                 \n",
            "=================================================================\n",
            "Total params: 5,121\n",
            "Trainable params: 5,121\n",
            "Non-trainable params: 0\n",
            "_________________________________________________________________\n",
            "4/4 [==============================] - 0s 4ms/step - loss: 9.3551 - mse: 9.3551\n",
            "9.355069160461426 9.355069160461426\n",
            "처리중인 폴드 # 1\n",
            "Model: \"sequential_1\"\n",
            "_________________________________________________________________\n",
            " Layer (type)                Output Shape              Param #   \n",
            "=================================================================\n",
            " dense_3 (Dense)             (None, 64)                896       \n",
            "                                                                 \n",
            " dense_4 (Dense)             (None, 64)                4160      \n",
            "                                                                 \n",
            " dense_5 (Dense)             (None, 1)                 65        \n",
            "                                                                 \n",
            "=================================================================\n",
            "Total params: 5,121\n",
            "Trainable params: 5,121\n",
            "Non-trainable params: 0\n",
            "_________________________________________________________________\n",
            "4/4 [==============================] - 0s 4ms/step - loss: 12.7122 - mse: 12.7122\n",
            "12.712238311767578 12.712238311767578\n",
            "처리중인 폴드 # 2\n",
            "Model: \"sequential_2\"\n",
            "_________________________________________________________________\n",
            " Layer (type)                Output Shape              Param #   \n",
            "=================================================================\n",
            " dense_6 (Dense)             (None, 64)                896       \n",
            "                                                                 \n",
            " dense_7 (Dense)             (None, 64)                4160      \n",
            "                                                                 \n",
            " dense_8 (Dense)             (None, 1)                 65        \n",
            "                                                                 \n",
            "=================================================================\n",
            "Total params: 5,121\n",
            "Trainable params: 5,121\n",
            "Non-trainable params: 0\n",
            "_________________________________________________________________\n",
            "4/4 [==============================] - 0s 4ms/step - loss: 16.8626 - mse: 16.8626\n",
            "16.86262321472168 16.86262321472168\n",
            "처리중인 폴드 # 3\n",
            "Model: \"sequential_3\"\n",
            "_________________________________________________________________\n",
            " Layer (type)                Output Shape              Param #   \n",
            "=================================================================\n",
            " dense_9 (Dense)             (None, 64)                896       \n",
            "                                                                 \n",
            " dense_10 (Dense)            (None, 64)                4160      \n",
            "                                                                 \n",
            " dense_11 (Dense)            (None, 1)                 65        \n",
            "                                                                 \n",
            "=================================================================\n",
            "Total params: 5,121\n",
            "Trainable params: 5,121\n",
            "Non-trainable params: 0\n",
            "_________________________________________________________________\n",
            "4/4 [==============================] - 0s 4ms/step - loss: 10.4000 - mse: 10.4000\n",
            "10.399962425231934 10.399962425231934\n"
          ]
        }
      ]
    },
    {
      "cell_type": "code",
      "source": [
        "np.mean(all_scores)"
      ],
      "metadata": {
        "colab": {
          "base_uri": "https://localhost:8080/"
        },
        "id": "Zksw1WkC25a2",
        "outputId": "5f7e654d-9a1f-4704-e23d-6130d793655a"
      },
      "execution_count": 9,
      "outputs": [
        {
          "output_type": "execute_result",
          "data": {
            "text/plain": [
              "12.332473278045654"
            ]
          },
          "metadata": {},
          "execution_count": 9
        }
      ]
    },
    {
      "cell_type": "code",
      "source": [
        "import matplotlib.pyplot as plt"
      ],
      "metadata": {
        "id": "9RQt6dkeFWBt"
      },
      "execution_count": 10,
      "outputs": []
    },
    {
      "cell_type": "code",
      "source": [
        "# 시각화\n",
        "plt.plot(range(1, k + 1), all_scores)\n",
        "plt.xlabel('Fold')\n",
        "plt.ylabel('Validation MAE')\n",
        "plt.title('Validation MAE for Each Fold')\n",
        "plt.show()"
      ],
      "metadata": {
        "colab": {
          "base_uri": "https://localhost:8080/",
          "height": 472
        },
        "id": "vJiSBlUXftnU",
        "outputId": "ad81d1d4-b2cd-4207-efde-49d39ef4b2b9"
      },
      "execution_count": 12,
      "outputs": [
        {
          "output_type": "display_data",
          "data": {
            "text/plain": [
              "<Figure size 640x480 with 1 Axes>"
            ],
            "image/png": "[encoded data removed]"
          },
          "metadata": {}
        }
      ]
    },
    {
      "cell_type": "code",
      "source": [],
      "metadata": {
        "id": "iZCazwmdhbA3"
      },
      "execution_count": null,
      "outputs": []
    }
  ]
}