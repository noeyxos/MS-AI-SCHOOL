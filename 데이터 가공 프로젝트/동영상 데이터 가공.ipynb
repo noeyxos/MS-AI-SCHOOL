{
 "cells": [
  {
   "cell_type": "markdown",
   "id": "f4802725",
   "metadata": {},
   "source": [
    "## 데이터 전처리 : 이상행동 구간에 프레임 추출 30프레임 기준"
   ]
  },
  {
   "cell_type": "code",
   "execution_count": 1,
   "id": "78e36f3d",
   "metadata": {},
   "outputs": [],
   "source": [
    "import cv2\n",
    "import os \n",
    "import json\n",
    "import glob\n",
    "from tqdm import tqdm"
   ]
  },
  {
   "cell_type": "code",
   "execution_count": 2,
   "id": "ebe43d5d",
   "metadata": {},
   "outputs": [
    {
     "name": "stderr",
     "output_type": "stream",
     "text": [
      "\r",
      "  0%|                                                                                           | 0/11 [00:00<?, ?it/s]"
     ]
    },
    {
     "name": "stdout",
     "output_type": "stream",
     "text": [
      "00:01:05.432 00:01:53.714 1961 3408\n"
     ]
    },
    {
     "name": "stderr",
     "output_type": "stream",
     "text": [
      "\r",
      "  9%|███████▌                                                                           | 1/11 [00:16<02:48, 16.85s/it]"
     ]
    },
    {
     "name": "stdout",
     "output_type": "stream",
     "text": [
      "00:01:03.163 00:01:51.411 1893 3339\n"
     ]
    },
    {
     "name": "stderr",
     "output_type": "stream",
     "text": [
      "\r",
      " 18%|███████████████                                                                    | 2/11 [00:36<02:44, 18.32s/it]"
     ]
    },
    {
     "name": "stdout",
     "output_type": "stream",
     "text": [
      "00:01:02.229 00:01:50.244 1865 3304\n"
     ]
    },
    {
     "name": "stderr",
     "output_type": "stream",
     "text": [
      "\r",
      " 27%|██████████████████████▋                                                            | 3/11 [00:54<02:26, 18.34s/it]"
     ]
    },
    {
     "name": "stdout",
     "output_type": "stream",
     "text": [
      "00:01:00.327 00:01:47.841 1808 3232\n"
     ]
    },
    {
     "name": "stderr",
     "output_type": "stream",
     "text": [
      "\r",
      " 36%|██████████████████████████████▏                                                    | 4/11 [01:14<02:12, 18.88s/it]"
     ]
    },
    {
     "name": "stdout",
     "output_type": "stream",
     "text": [
      "00:01:10.470 00:01:53.981 2112 3416\n"
     ]
    },
    {
     "name": "stderr",
     "output_type": "stream",
     "text": [
      "\r",
      " 45%|█████████████████████████████████████▋                                             | 5/11 [01:32<01:52, 18.76s/it]"
     ]
    },
    {
     "name": "stdout",
     "output_type": "stream",
     "text": [
      "00:01:03.730 00:01:51.144 1910 3331\n"
     ]
    },
    {
     "name": "stderr",
     "output_type": "stream",
     "text": [
      "\r",
      " 55%|█████████████████████████████████████████████▎                                     | 6/11 [01:48<01:28, 17.73s/it]"
     ]
    },
    {
     "name": "stdout",
     "output_type": "stream",
     "text": [
      "00:01:05.732 00:01:53.247 1970 3394\n"
     ]
    },
    {
     "name": "stderr",
     "output_type": "stream",
     "text": [
      "\r",
      " 64%|████████████████████████████████████████████████████▊                              | 7/11 [02:02<01:05, 16.43s/it]"
     ]
    },
    {
     "name": "stdout",
     "output_type": "stream",
     "text": [
      "00:00:59.459 00:01:50.744 1782 3319\n"
     ]
    },
    {
     "name": "stderr",
     "output_type": "stream",
     "text": [
      "\r",
      " 73%|████████████████████████████████████████████████████████████▎                      | 8/11 [02:22<00:52, 17.55s/it]"
     ]
    },
    {
     "name": "stdout",
     "output_type": "stream",
     "text": [
      "00:00:56.390 00:01:50.344 1690 3307\n"
     ]
    },
    {
     "name": "stderr",
     "output_type": "stream",
     "text": [
      "\r",
      " 82%|███████████████████████████████████████████████████████████████████▉               | 9/11 [02:42<00:36, 18.26s/it]"
     ]
    },
    {
     "name": "stdout",
     "output_type": "stream",
     "text": [
      "00:00:59.193 00:01:54.548 1774 3433\n"
     ]
    },
    {
     "name": "stderr",
     "output_type": "stream",
     "text": [
      "\r",
      " 91%|██████████████████████████████████████████████████████████████████████████▌       | 10/11 [03:03<00:19, 19.24s/it]"
     ]
    },
    {
     "name": "stdout",
     "output_type": "stream",
     "text": [
      "00:01:05.065 00:01:54.081 1950 3419\n"
     ]
    },
    {
     "name": "stderr",
     "output_type": "stream",
     "text": [
      "100%|██████████████████████████████████████████████████████████████████████████████████| 11/11 [03:15<00:00, 17.74s/it]\n"
     ]
    }
   ],
   "source": [
    "json_dir = \"./raw_data\\\\json\\\\Stealing_Courier\\\\\"\n",
    "json_path_list = glob.glob(os.path.join(json_dir, \"*.json\"))\n",
    "# print(json_path_list)\n",
    "\n",
    "\n",
    "for json_path in tqdm(json_path_list):\n",
    "    \n",
    "    with open(json_path, 'r', encoding='utf-8') as f:\n",
    "        json_data = json.load(f)\n",
    "        \n",
    "    # jSON metadata\n",
    "    metadata_info = json_data['metadata']\n",
    "#     print(metadata_info)\n",
    "    \n",
    "    # filename \n",
    "    file_name = metadata_info['filename']\n",
    "#     print(file_name)\n",
    "    \n",
    "    # video_path\n",
    "    video_path = os.path.join(\"./raw_data\\\\video\\\\Stealing_Courier\\\\\", f\"{file_name}\")\n",
    "#     print(video_path)\n",
    "\n",
    "    # Json categories data info \n",
    "    categories_info = json_data['categories']\n",
    "    \n",
    "    # crime, action, symptom 확인\n",
    "    crime_info = categories_info['crime']\n",
    "#     print(crime_info)\n",
    "    action_info = categories_info['action']\n",
    "#     print(action_info)\n",
    "    symptom_info = categories_info['symptom']\n",
    "#     print(symptom_info)\n",
    "    \n",
    "    \n",
    "    \n",
    "    # video read\n",
    "    cap = cv2.VideoCapture(video_path)\n",
    "    frame_count = int(cap.get(cv2.CAP_PROP_FRAME_COUNT))\n",
    "    fps = int(cap.get(cv2.CAP_PROP_FPS))\n",
    "    \n",
    "    file_info = json_data['file']\n",
    "    \n",
    "    folder_name = video_path.split(\"\\\\\")[2]\n",
    "#     print(folder_name)\n",
    "    image_name = video_path.split(\"\\\\\")[-1]\n",
    "#     print(image_name)\n",
    "    image_name = image_name.replace(\".mp4\", \"\")\n",
    "#     print(image_name)\n",
    "    \n",
    "    \n",
    "    for i in file_info:\n",
    "        videos_info = i['videos']\n",
    "        block_information = videos_info['block_information']\n",
    "#         print(block_information)\n",
    "        \n",
    "        count = 0        \n",
    "        for j in block_information:\n",
    "            if j['block_detail'] == 'A30':\n",
    "                start_time = j['start_time']\n",
    "                end_time = j['end_time']\n",
    "                start_frame_index = j['start_frame_index']\n",
    "                end_frame_index= j['end_frame_index']\n",
    "                \n",
    "                print(start_time, end_time, start_frame_index, end_frame_index)\n",
    "                \n",
    "                for frame_idx in range(int(start_frame_index), int(end_frame_index), 30):\n",
    "                    cap.set(cv2.CAP_PROP_POS_FRAMES, frame_idx)\n",
    "                    \n",
    "                    ret, frame = cap.read()\n",
    "#                     print(ret)\n",
    "#                     print(frame)\n",
    "\n",
    "                    if ret :\n",
    "                        os.makedirs(f\"./AI_hub_dataset/{folder_name}/{image_name}/\",exist_ok=True)\n",
    "                        img_name = f\"./AI_hub_dataset/{folder_name}/{image_name}/{image_name}_frame_{str(count).zfill(4)}.png\"\n",
    "                        cv2.imwrite(img_name, frame)\n",
    "                        count = count + 1"
   ]
  },
  {
   "cell_type": "code",
   "execution_count": null,
   "id": "83f91a3e",
   "metadata": {},
   "outputs": [],
   "source": []
  }
 ],
 "metadata": {
  "kernelspec": {
   "display_name": "AI_23",
   "language": "python",
   "name": "ai_23"
  },
  "language_info": {
   "codemirror_mode": {
    "name": "ipython",
    "version": 3
   },
   "file_extension": ".py",
   "mimetype": "text/x-python",
   "name": "python",
   "nbconvert_exporter": "python",
   "pygments_lexer": "ipython3",
   "version": "3.8.16"
  }
 },
 "nbformat": 4,
 "nbformat_minor": 5
}
