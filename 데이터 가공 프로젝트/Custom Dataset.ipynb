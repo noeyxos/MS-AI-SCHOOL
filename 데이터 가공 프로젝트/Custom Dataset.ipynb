{
 "cells": [
  {
   "cell_type": "markdown",
   "id": "16cc4cdb",
   "metadata": {},
   "source": [
    "# custom dataset with albumentations"
   ]
  },
  {
   "cell_type": "code",
   "execution_count": 14,
   "id": "91d34bf0",
   "metadata": {},
   "outputs": [],
   "source": [
    "import os \n",
    "import glob\n",
    "import cv2\n",
    "\n",
    "from torch.utils.data import Dataset, DataLoader\n",
    "\n",
    "import albumentations as A\n",
    "from albumentations.pytorch.transforms import ToTensorV2"
   ]
  },
  {
   "cell_type": "code",
   "execution_count": 15,
   "id": "e8ac654e",
   "metadata": {
    "scrolled": true
   },
   "outputs": [],
   "source": [
    "class mycustomdataset(Dataset):\n",
    "    \n",
    "    def __init__(self, image_path, transform):\n",
    "    \n",
    "        # 이미지 경로 정의\n",
    "        self.image_paths = glob.glob(os.path.join(image_path, \"*\",\"*\",\"*.png\"))\n",
    "        \n",
    "        # 이미지 변환 aug 정의\n",
    "        self.transform = transform\n",
    "        \n",
    "        # 라벨 dict\n",
    "        self.label_dict = {\"Stealing_Courier\" : 0}\n",
    "    \n",
    "    def __getitem__(self,index):\n",
    "        \n",
    "        # 이미지 경로 지정하고 이미지 열기 \n",
    "        image_path = self.image_paths[index]\n",
    "        \n",
    "        image = cv2.imread(image_path)\n",
    "        image = cv2.cvtColor(image, cv2.COLOR_BGR2RGB)\n",
    "        \n",
    "        # 라벨 지정\n",
    "        label_temp = image_path.split(\"\\\\\")[1]\n",
    "#         print(label_temp)\n",
    "        label = self.label_dict[label_temp]\n",
    "#         print(label)\n",
    "        \n",
    "        \n",
    "#       albumentations trasform\n",
    "        if self.transform:\n",
    "            augmented = self.transform(image=image)\n",
    "            image= augmented['image']\n",
    "        \n",
    "        \n",
    "        # pytorch의 transform  처리\n",
    "#         if self.transform :\n",
    "#             image = self.transform(image)\n",
    "            \n",
    "        return image, label\n",
    "    \n",
    "    \n",
    "    def __len__(self):\n",
    "        \n",
    "        # 전체 길이 변환\n",
    "        # 데이터셋을 반복 가능한(iterable) 객체로 만들기 위해 필요합니다.\n",
    "        return len(self.image_paths)\n",
    "    \n",
    "\n",
    "##### albumentations 라이브러리 적용 \n",
    "albumentations_transform = A.Compose([\n",
    "    A.Resize(224,224),\n",
    "    A.HorizontalFlip(),\n",
    "    A.Normalize(\n",
    "        mean=[0.485, 0.456, 0.406],\n",
    "        std=[0.229, 0.224, 0.225],\n",
    "    ),\n",
    "    ToTensorV2()\n",
    "])\n",
    "    \n",
    "\n",
    "# init 테스트    \n",
    "test = mycustomdataset(\"./AI_hub_dataset\", transform=None)\n",
    "\n",
    "\n",
    "# getitem 테스트\n",
    "for i in test : \n",
    "    pass"
   ]
  },
  {
   "cell_type": "code",
   "execution_count": null,
   "id": "b0d61b6c",
   "metadata": {},
   "outputs": [],
   "source": []
  }
 ],
 "metadata": {
  "kernelspec": {
   "display_name": "AI_23",
   "language": "python",
   "name": "ai_23"
  },
  "language_info": {
   "codemirror_mode": {
    "name": "ipython",
    "version": 3
   },
   "file_extension": ".py",
   "mimetype": "text/x-python",
   "name": "python",
   "nbconvert_exporter": "python",
   "pygments_lexer": "ipython3",
   "version": "3.8.16"
  }
 },
 "nbformat": 4,
 "nbformat_minor": 5
}
