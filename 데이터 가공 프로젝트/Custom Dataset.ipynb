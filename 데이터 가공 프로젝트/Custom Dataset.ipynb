{
 "cells": [
  {
   "cell_type": "markdown",
   "id": "16cc4cdb",
   "metadata": {},
   "source": [
    "# custom dataset with albumentations"
   ]
  },
  {
   "cell_type": "code",
   "execution_count": 1,
   "id": "91d34bf0",
   "metadata": {},
   "outputs": [],
   "source": [
    "import os \n",
    "import glob\n",
    "import albumentations as A\n",
    "import cv2\n",
    "\n",
    "from torch.utils.data import Dataset, DataLoader"
   ]
  },
  {
   "cell_type": "code",
   "execution_count": 7,
   "id": "e8ac654e",
   "metadata": {
    "scrolled": false
   },
   "outputs": [
    {
     "name": "stdout",
     "output_type": "stream",
     "text": [
      "0\n"
     ]
    },
    {
     "ename": "AttributeError",
     "evalue": "",
     "output_type": "error",
     "traceback": [
      "\u001b[1;31m---------------------------------------------------------------------------\u001b[0m",
      "\u001b[1;31mAttributeError\u001b[0m                            Traceback (most recent call last)",
      "Cell \u001b[1;32mIn[7], line 53\u001b[0m\n\u001b[0;32m     49\u001b[0m test \u001b[38;5;241m=\u001b[39m mycustomdataset(\u001b[38;5;124m\"\u001b[39m\u001b[38;5;124m./AI_hub_dataset\u001b[39m\u001b[38;5;124m\"\u001b[39m, transform\u001b[38;5;241m=\u001b[39m\u001b[38;5;28;01mNone\u001b[39;00m)\n\u001b[0;32m     52\u001b[0m \u001b[38;5;66;03m# getitem 테스트\u001b[39;00m\n\u001b[1;32m---> 53\u001b[0m \u001b[38;5;28;01mfor\u001b[39;00m i \u001b[38;5;129;01min\u001b[39;00m test : \n\u001b[0;32m     54\u001b[0m     \u001b[38;5;28;01mpass\u001b[39;00m\n",
      "Cell \u001b[1;32mIn[7], line 29\u001b[0m, in \u001b[0;36mmycustomdataset.__getitem__\u001b[1;34m(self, index)\u001b[0m\n\u001b[0;32m     25\u001b[0m         \u001b[38;5;28mprint\u001b[39m(label)\n\u001b[0;32m     28\u001b[0m \u001b[38;5;66;03m#       albumentation trasform\u001b[39;00m\n\u001b[1;32m---> 29\u001b[0m         \u001b[38;5;28;01mif\u001b[39;00m \u001b[38;5;28;43mself\u001b[39;49m\u001b[38;5;241;43m.\u001b[39;49m\u001b[43mtransform\u001b[49m:\n\u001b[0;32m     30\u001b[0m             image\u001b[38;5;241m=\u001b[39m \u001b[38;5;28mself\u001b[39m\u001b[38;5;241m.\u001b[39mtransform(image)[\u001b[38;5;124m'\u001b[39m\u001b[38;5;124mimage\u001b[39m\u001b[38;5;124m'\u001b[39m]\n\u001b[0;32m     33\u001b[0m         \u001b[38;5;66;03m# pytorch의 transform 처리\u001b[39;00m\n",
      "File \u001b[1;32m~\\anaconda3\\envs\\AI_23\\lib\\site-packages\\torch\\utils\\data\\dataset.py:83\u001b[0m, in \u001b[0;36mDataset.__getattr__\u001b[1;34m(self, attribute_name)\u001b[0m\n\u001b[0;32m     81\u001b[0m     \u001b[38;5;28;01mreturn\u001b[39;00m function\n\u001b[0;32m     82\u001b[0m \u001b[38;5;28;01melse\u001b[39;00m:\n\u001b[1;32m---> 83\u001b[0m     \u001b[38;5;28;01mraise\u001b[39;00m \u001b[38;5;167;01mAttributeError\u001b[39;00m\n",
      "\u001b[1;31mAttributeError\u001b[0m: "
     ]
    }
   ],
   "source": [
    "class mycustomdataset(Dataset):\n",
    "    \n",
    "    def __init__(self, image_path, transform):\n",
    "    \n",
    "        # 이미지 경로 정의\n",
    "        self.image_paths = glob.glob(os.path.join(image_path, \"*\",\"*\",\"*.png\"))\n",
    "        \n",
    "        # 이미지 변환 aug 정의\n",
    "        self.transforms = transform\n",
    "        \n",
    "        # 라벨 dict\n",
    "        self.label_dict = {\"Stealing_Courier\" : 0}\n",
    "    \n",
    "    def __getitem__(self,index):\n",
    "        \n",
    "        # 이미지 경로 지정하고 이미지 열기 \n",
    "        image_path = self.image_paths[index]\n",
    "        image = cv2.imread(image_path)\n",
    "        image = cv2.cvtColor(image, cv2.COLOR_BGR2RGB)\n",
    "        \n",
    "        # 라벨 지정\n",
    "        label_temp = image_path.split(\"\\\\\")[1]\n",
    "#         print(label_temp)\n",
    "        label = self.label_dict[label_temp]\n",
    "        print(label)\n",
    "        \n",
    "        \n",
    "#       albumentation trasform\n",
    "        if self.transform:\n",
    "            image= self.transform(image)['image']\n",
    "        \n",
    "        \n",
    "        # pytorch의 transform 처리\n",
    "        if self.transform :\n",
    "            image = transform(image)\n",
    "            \n",
    "        return image, label\n",
    "    \n",
    "    \n",
    "    def __len__(self):\n",
    "        \n",
    "        # 전체 길이 변환\n",
    "        # 데이터셋을 반복 가능한(iterable) 객체로 만들기 위해 필요합니다.\n",
    "        return len(self.image_paths)\n",
    "    \n",
    "\n",
    "\n",
    "# init 테스트    \n",
    "test = mycustomdataset(\"./AI_hub_dataset\", transform=None)\n",
    "\n",
    "\n",
    "# getitem 테스트\n",
    "for i in test : \n",
    "    pass"
   ]
  },
  {
   "cell_type": "code",
   "execution_count": null,
   "id": "b0d61b6c",
   "metadata": {},
   "outputs": [],
   "source": []
  }
 ],
 "metadata": {
  "kernelspec": {
   "display_name": "AI_23",
   "language": "python",
   "name": "ai_23"
  },
  "language_info": {
   "codemirror_mode": {
    "name": "ipython",
    "version": 3
   },
   "file_extension": ".py",
   "mimetype": "text/x-python",
   "name": "python",
   "nbconvert_exporter": "python",
   "pygments_lexer": "ipython3",
   "version": "3.8.16"
  }
 },
 "nbformat": 4,
 "nbformat_minor": 5
}
