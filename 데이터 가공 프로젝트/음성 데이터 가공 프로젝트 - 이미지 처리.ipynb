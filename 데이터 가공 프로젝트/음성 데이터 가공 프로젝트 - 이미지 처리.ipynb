{
 "cells": [
  {
   "cell_type": "markdown",
   "id": "43d17fde",
   "metadata": {},
   "source": [
    "# 이미지 리사이즈"
   ]
  },
  {
   "cell_type": "code",
   "execution_count": 2,
   "id": "017282d4",
   "metadata": {},
   "outputs": [],
   "source": [
    "import os\n",
    "import glob\n",
    "from tqdm import tqdm\n",
    "from PIL import Image"
   ]
  },
  {
   "cell_type": "markdown",
   "id": "173b4264",
   "metadata": {},
   "source": [
    "## 1. 리사이즈 함수 - padding 추가"
   ]
  },
  {
   "cell_type": "code",
   "execution_count": 3,
   "id": "9af831e1",
   "metadata": {},
   "outputs": [],
   "source": [
    "def process_img_resize(pil_img, background_color):\n",
    "    width, height = pil_img.size\n",
    "    \n",
    "    \n",
    "    if width == height:\n",
    "        return pil_img\n",
    "    \n",
    "    elif width > height:\n",
    "        result = Image.new(pil_img.mode, (width, width), background_color)\n",
    "        result.paste(pil_img, (0, (width - height) // 2))\n",
    "        return result \n",
    "    \n",
    "    else:\n",
    "        result = Image.new(pil_img.mode, (height, height), background_color)\n",
    "        result.paste(pil_img, ((height - width) // 2, 0))\n",
    "        return result\n",
    "    \n",
    "    \n",
    "def resize_with_padding(pil_img, new_size, background_color):\n",
    "    img = process_img_resize(pil_img, background_color)\n",
    "    img = img.resize((new_size[0], new_size[1], Image.ANTIALIAS))\n",
    "    return img"
   ]
  },
  {
   "cell_type": "markdown",
   "id": "e77f133b",
   "metadata": {},
   "source": [
    "## 2. 메인함수"
   ]
  },
  {
   "cell_type": "code",
   "execution_count": 4,
   "id": "10f4ef9e",
   "metadata": {},
   "outputs": [
    {
     "name": "stderr",
     "output_type": "stream",
     "text": [
      "100%|██████████████████████████████████████████████████████████████████████████████████████| 2997/2997 [00:00<?, ?it/s]\n"
     ]
    }
   ],
   "source": [
    "if __name__ == '__main__':\n",
    "    \n",
    "    genre_folder_map = {\n",
    "        'blues' : 'blues',\n",
    "        'classical' : 'classical',\n",
    "        'country' : 'country',\n",
    "        'disco' : 'disco',\n",
    "        'hiphop' : 'hiphop',\n",
    "        'jazz' : 'jazz',\n",
    "        'metal' : 'metal', \n",
    "        'pop' : 'pop', \n",
    "        'reggae' : 'reggae',\n",
    "        'rock' : 'rock'\n",
    "    }\n",
    "    \n",
    "    file_path = \"./image_extraction_data/\"\n",
    "    #./image_extraction_data/폴더/폴더/*.png\n",
    "    \n",
    "    file_path_list = glob.glob(os.path.join(file_path, \"*\", \"*\",\"*.png\"))\n",
    "    \n",
    "    for path in tqdm(file_path_list):\n",
    "#         print(path.split(\"\\\\\")[1:])\n",
    "        \n",
    "        mode, genre, file_name = path.split(\"\\\\\")[1:]\n",
    "        \n",
    "        if mode is ['waveshow', 'STFT','MelSpectrogram']:\n",
    "            img = Image.open(path)\n",
    "#             print(img)\n",
    "            img_new = resize_with_padding(img, (255,255), (0,0,0))\n",
    "    \n",
    "            if genre in genre_folder_map :\n",
    "\n",
    "                # ./final_data\n",
    "                save_file_name = f\"./final_data/{mode}/{genre_folder_map[genre]}/{file_name}\"\n",
    "    #             print(save_file_name)\n",
    "                img_new.save(save_file_name, 'png')\n"
   ]
  },
  {
   "cell_type": "code",
   "execution_count": null,
   "id": "2f52cee0",
   "metadata": {},
   "outputs": [],
   "source": []
  }
 ],
 "metadata": {
  "kernelspec": {
   "display_name": "AI_23",
   "language": "python",
   "name": "ai_23"
  },
  "language_info": {
   "codemirror_mode": {
    "name": "ipython",
    "version": 3
   },
   "file_extension": ".py",
   "mimetype": "text/x-python",
   "name": "python",
   "nbconvert_exporter": "python",
   "pygments_lexer": "ipython3",
   "version": "3.8.16"
  }
 },
 "nbformat": 4,
 "nbformat_minor": 5
}
