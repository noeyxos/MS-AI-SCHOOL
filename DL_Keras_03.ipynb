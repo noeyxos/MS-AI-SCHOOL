{
  "cells": [
    {
      "cell_type": "markdown",
      "metadata": {
        "id": "view-in-github",
        "colab_type": "text"
      },
      "source": [
        "<a href=\"https://colab.research.google.com/github/noeyxos/MS-AI-SCHOOL/blob/main/DL_Keras_03.ipynb\" target=\"_parent\"><img src=\"https://colab.research.google.com/assets/colab-badge.svg\" alt=\"Open In Colab\"/></a>"
      ]
    },
    {
      "cell_type": "code",
      "execution_count": 20,
      "metadata": {
        "id": "ifRDsdKsju6d"
      },
      "outputs": [],
      "source": [
        "from keras.datasets import reuters    # 뉴스기사 분류 로이터 데이터 셋\n",
        "(train_data, train_labels), (test_data, test_labels) = reuters.load_data(num_words=10000)   #빈도가 높은 상위 10000개의 단어만 다룬다"
      ]
    },
    {
      "cell_type": "code",
      "execution_count": 21,
      "metadata": {
        "colab": {
          "base_uri": "https://localhost:8080/"
        },
        "id": "THJnYDUJmaLN",
        "outputId": "c6a82d2c-a663-4c15-cc85-c28d9a4d38e2"
      },
      "outputs": [
        {
          "output_type": "stream",
          "name": "stdout",
          "text": [
            "(8982,)\n",
            "(2246,)\n"
          ]
        }
      ],
      "source": [
        "print(train_data.shape)\n",
        "print(test_data.shape)"
      ]
    },
    {
      "cell_type": "code",
      "execution_count": 36,
      "metadata": {
        "id": "1bh_paeam9CC"
      },
      "outputs": [],
      "source": [
        "import numpy as np\n",
        "\n",
        "# 문자를 숫자 배열로 만드는 함수 생성\n",
        "def vectorize_sequences(sequences, dimension=10000):\n",
        "  # 크기가 (len(sequences), dimension) 이고 모든 원소가 0 인 행렬을 만든다.\n",
        "  results = np.zeros((len(sequences), dimension))\n",
        "\n",
        "  for i , sequence in enumerate(sequences):\n",
        "    results[i, sequence] = 1  #results[i]에서 특정 인덱스의 위치를 1로 만든다.\n",
        "\n",
        "  return results"
      ]
    },
    {
      "cell_type": "code",
      "execution_count": 37,
      "metadata": {
        "id": "MbVNiwneoRKY"
      },
      "outputs": [],
      "source": [
        "# 훈련 데이터와 테스트 데이터의 벡터 변환\n",
        "x_train = vectorize_sequences(train_data)\n",
        "x_test = vectorize_sequences(test_data)"
      ]
    },
    {
      "cell_type": "code",
      "execution_count": 38,
      "metadata": {
        "id": "hdf9_LaFo_zU"
      },
      "outputs": [],
      "source": [
        "# 라벨 데이터를 카테고리 데이터로 전환\n",
        "from keras.utils.np_utils import to_categorical\n",
        "\n",
        "\n",
        "one_hot_train_labels = to_categorical(train_labels)\n",
        "one_hot_test_labels = to_categorical(test_labels)"
      ]
    },
    {
      "cell_type": "code",
      "execution_count": 39,
      "metadata": {
        "id": "qRfT7PEypWod"
      },
      "outputs": [],
      "source": [
        "# 모델 구성\n",
        "from keras import models \n",
        "from keras import layers\n",
        "\n",
        "model = models.Sequential()\n",
        "model.add(layers.Dense(64, activation='relu', input_shape=(10000,)))\n",
        "model.add(layers.Dense(64, activation='relu'))\n",
        "model.add(layers.Dense(46, activation='softmax')) # 여러개 중 하나를 출력하는 활성화 함수"
      ]
    },
    {
      "cell_type": "code",
      "execution_count": 40,
      "metadata": {
        "id": "OvfQdHELCt3C"
      },
      "outputs": [],
      "source": [
        "model.compile(optimizer = 'rmsprop',\n",
        "              loss='categorical_crossentropy',\n",
        "              metrics=['accuracy'])"
      ]
    },
    {
      "cell_type": "code",
      "execution_count": 41,
      "metadata": {
        "id": "7NtXsAqBC7Rs"
      },
      "outputs": [],
      "source": [
        "x_val = x_train[:1000]\n",
        "partial_x_train = x_train[1000:]\n",
        "y_val = one_hot_train_labels[:1000]\n",
        "partial_y_train = one_hot_train_labels[1000:]"
      ]
    },
    {
      "cell_type": "code",
      "execution_count": 42,
      "metadata": {
        "colab": {
          "base_uri": "https://localhost:8080/"
        },
        "id": "KQ6lP6ZEELnP",
        "outputId": "60380991-c092-4fed-aeab-769ad4c44410"
      },
      "outputs": [
        {
          "output_type": "stream",
          "name": "stdout",
          "text": [
            "Epoch 1/20\n",
            "16/16 [==============================] - 4s 194ms/step - loss: 2.8928 - accuracy: 0.4295 - val_loss: 1.9401 - val_accuracy: 0.6300\n",
            "Epoch 2/20\n",
            "16/16 [==============================] - 1s 58ms/step - loss: 1.5635 - accuracy: 0.6885 - val_loss: 1.3825 - val_accuracy: 0.6970\n",
            "Epoch 3/20\n",
            "16/16 [==============================] - 1s 55ms/step - loss: 1.1646 - accuracy: 0.7414 - val_loss: 1.1719 - val_accuracy: 0.7290\n",
            "Epoch 4/20\n",
            "16/16 [==============================] - 1s 53ms/step - loss: 0.9517 - accuracy: 0.7915 - val_loss: 1.0713 - val_accuracy: 0.7590\n",
            "Epoch 5/20\n",
            "16/16 [==============================] - 1s 53ms/step - loss: 0.7965 - accuracy: 0.8254 - val_loss: 0.9887 - val_accuracy: 0.7840\n",
            "Epoch 6/20\n",
            "16/16 [==============================] - 1s 56ms/step - loss: 0.6699 - accuracy: 0.8548 - val_loss: 0.9399 - val_accuracy: 0.8000\n",
            "Epoch 7/20\n",
            "16/16 [==============================] - 1s 56ms/step - loss: 0.5645 - accuracy: 0.8802 - val_loss: 0.9009 - val_accuracy: 0.8110\n",
            "Epoch 8/20\n",
            "16/16 [==============================] - 1s 56ms/step - loss: 0.4766 - accuracy: 0.8998 - val_loss: 0.8825 - val_accuracy: 0.8120\n",
            "Epoch 9/20\n",
            "16/16 [==============================] - 1s 56ms/step - loss: 0.4061 - accuracy: 0.9134 - val_loss: 0.8538 - val_accuracy: 0.8240\n",
            "Epoch 10/20\n",
            "16/16 [==============================] - 1s 53ms/step - loss: 0.3472 - accuracy: 0.9252 - val_loss: 0.8573 - val_accuracy: 0.8170\n",
            "Epoch 11/20\n",
            "16/16 [==============================] - 1s 55ms/step - loss: 0.2991 - accuracy: 0.9335 - val_loss: 0.9023 - val_accuracy: 0.8100\n",
            "Epoch 12/20\n",
            "16/16 [==============================] - 1s 62ms/step - loss: 0.2630 - accuracy: 0.9425 - val_loss: 0.8659 - val_accuracy: 0.8220\n",
            "Epoch 13/20\n",
            "16/16 [==============================] - 2s 98ms/step - loss: 0.2356 - accuracy: 0.9445 - val_loss: 0.8530 - val_accuracy: 0.8260\n",
            "Epoch 14/20\n",
            "16/16 [==============================] - 1s 89ms/step - loss: 0.2127 - accuracy: 0.9485 - val_loss: 0.9018 - val_accuracy: 0.8050\n",
            "Epoch 15/20\n",
            "16/16 [==============================] - 1s 56ms/step - loss: 0.1892 - accuracy: 0.9509 - val_loss: 0.8941 - val_accuracy: 0.8210\n",
            "Epoch 16/20\n",
            "16/16 [==============================] - 1s 52ms/step - loss: 0.1725 - accuracy: 0.9545 - val_loss: 0.8980 - val_accuracy: 0.8150\n",
            "Epoch 17/20\n",
            "16/16 [==============================] - 1s 53ms/step - loss: 0.1678 - accuracy: 0.9516 - val_loss: 0.9096 - val_accuracy: 0.8190\n",
            "Epoch 18/20\n",
            "16/16 [==============================] - 1s 54ms/step - loss: 0.1515 - accuracy: 0.9538 - val_loss: 0.9151 - val_accuracy: 0.8200\n",
            "Epoch 19/20\n",
            "16/16 [==============================] - 1s 55ms/step - loss: 0.1439 - accuracy: 0.9541 - val_loss: 0.9030 - val_accuracy: 0.8250\n",
            "Epoch 20/20\n",
            "16/16 [==============================] - 1s 54ms/step - loss: 0.1381 - accuracy: 0.9554 - val_loss: 0.9387 - val_accuracy: 0.8030\n"
          ]
        }
      ],
      "source": [
        "history = model.fit(partial_x_train,\n",
        "                    partial_y_train,\n",
        "                    epochs=20,\n",
        "                    batch_size=512,\n",
        "                    validation_data = (x_val, y_val))"
      ]
    },
    {
      "cell_type": "code",
      "execution_count": 43,
      "metadata": {
        "id": "7tQ6kSR7EqCV"
      },
      "outputs": [],
      "source": [
        "import matplotlib.pyplot as plt"
      ]
    },
    {
      "cell_type": "code",
      "execution_count": 44,
      "metadata": {
        "id": "jtQFFTXnGFrH"
      },
      "outputs": [],
      "source": [
        "loss = history.history['loss']\n",
        "val_loss = history.history['val_loss']\n",
        "acc = history.history['accuracy']\n",
        "val_acc = history.history['val_accuracy']"
      ]
    },
    {
      "cell_type": "code",
      "execution_count": 45,
      "metadata": {
        "colab": {
          "base_uri": "https://localhost:8080/",
          "height": 490
        },
        "id": "Jiqess_uGV0T",
        "outputId": "6fbd899f-883d-4345-be5f-a3c10ade8884"
      },
      "outputs": [
        {
          "output_type": "execute_result",
          "data": {
            "text/plain": [
              "<matplotlib.legend.Legend at 0x7f49e6ab47f0>"
            ]
          },
          "metadata": {},
          "execution_count": 45
        },
        {
          "output_type": "display_data",
          "data": {
            "text/plain": [
              "<Figure size 640x480 with 1 Axes>"
            ],
            "image/png": "[encoded data removed]"
          },
          "metadata": {}
        }
      ],
      "source": [
        "epochs = range(1 , len(loss)+1) # 반복횟수\n",
        "\n",
        "plt.plot(epochs, loss, 'bo', label='Training loss')\n",
        "plt.plot(epochs, val_loss, 'r-', label = 'Validation loss')\n",
        "plt.title('Trainng and validation loss')\n",
        "plt.xlabel('Epochs')\n",
        "plt.ylabel('Loss')\n",
        "plt.legend()"
      ]
    },
    {
      "cell_type": "code",
      "execution_count": 46,
      "metadata": {
        "colab": {
          "base_uri": "https://localhost:8080/",
          "height": 490
        },
        "id": "vwqkx-LhHC5r",
        "outputId": "81d48503-0cad-43de-8732-0bd28d2170da"
      },
      "outputs": [
        {
          "output_type": "execute_result",
          "data": {
            "text/plain": [
              "<matplotlib.legend.Legend at 0x7f49e7108eb0>"
            ]
          },
          "metadata": {},
          "execution_count": 46
        },
        {
          "output_type": "display_data",
          "data": {
            "text/plain": [
              "<Figure size 640x480 with 1 Axes>"
            ],
            "image/png": "[encoded data removed]"
          },
          "metadata": {}
        }
      ],
      "source": [
        "plt.plot(epochs, acc, 'bo', label='Training accuracy')\n",
        "plt.plot(epochs, val_acc, 'r--', label = 'Validation accuracy')\n",
        "plt.title('Trainng and validation accuracy')\n",
        "plt.xlabel('Epochs')\n",
        "plt.ylabel('Accuracy')\n",
        "plt.legend()"
      ]
    },
    {
      "cell_type": "code",
      "execution_count": 47,
      "metadata": {
        "colab": {
          "base_uri": "https://localhost:8080/"
        },
        "id": "1uVzLU3qIIZG",
        "outputId": "a95b950b-6c66-4b44-e284-15c157dafda4"
      },
      "outputs": [
        {
          "output_type": "stream",
          "name": "stdout",
          "text": [
            "Epoch 1/20\n",
            "16/16 [==============================] - 2s 71ms/step - loss: 2.6748 - accuracy: 0.4446 - val_loss: 1.8170 - val_accuracy: 0.5980\n",
            "Epoch 2/20\n",
            "16/16 [==============================] - 1s 57ms/step - loss: 1.5424 - accuracy: 0.6620 - val_loss: 1.3866 - val_accuracy: 0.6840\n",
            "Epoch 3/20\n",
            "16/16 [==============================] - 1s 73ms/step - loss: 1.1922 - accuracy: 0.7390 - val_loss: 1.1899 - val_accuracy: 0.7450\n",
            "Epoch 4/20\n",
            "16/16 [==============================] - 2s 96ms/step - loss: 0.9763 - accuracy: 0.7923 - val_loss: 1.1005 - val_accuracy: 0.7650\n",
            "Epoch 5/20\n",
            "16/16 [==============================] - 1s 82ms/step - loss: 0.8248 - accuracy: 0.8234 - val_loss: 1.0184 - val_accuracy: 0.7840\n",
            "Epoch 6/20\n",
            "16/16 [==============================] - 1s 52ms/step - loss: 0.6969 - accuracy: 0.8485 - val_loss: 0.9716 - val_accuracy: 0.7850\n",
            "Epoch 7/20\n",
            "16/16 [==============================] - 1s 53ms/step - loss: 0.5890 - accuracy: 0.8698 - val_loss: 0.9369 - val_accuracy: 0.8010\n",
            "Epoch 8/20\n",
            "16/16 [==============================] - 1s 54ms/step - loss: 0.5011 - accuracy: 0.8893 - val_loss: 0.9567 - val_accuracy: 0.7800\n",
            "Epoch 9/20\n",
            "16/16 [==============================] - 1s 56ms/step - loss: 0.4287 - accuracy: 0.9057 - val_loss: 0.8989 - val_accuracy: 0.8050\n",
            "Epoch 10/20\n",
            "16/16 [==============================] - 1s 57ms/step - loss: 0.3641 - accuracy: 0.9206 - val_loss: 0.8996 - val_accuracy: 0.8060\n",
            "Epoch 11/20\n",
            "16/16 [==============================] - 1s 55ms/step - loss: 0.3148 - accuracy: 0.9305 - val_loss: 0.9041 - val_accuracy: 0.8020\n",
            "Epoch 12/20\n",
            "16/16 [==============================] - 1s 53ms/step - loss: 0.2740 - accuracy: 0.9381 - val_loss: 0.8841 - val_accuracy: 0.8130\n",
            "Epoch 13/20\n",
            "16/16 [==============================] - 1s 53ms/step - loss: 0.2438 - accuracy: 0.9434 - val_loss: 0.8829 - val_accuracy: 0.8150\n",
            "Epoch 14/20\n",
            "16/16 [==============================] - 1s 53ms/step - loss: 0.2157 - accuracy: 0.9478 - val_loss: 0.9183 - val_accuracy: 0.8070\n",
            "Epoch 15/20\n",
            "16/16 [==============================] - 1s 54ms/step - loss: 0.1955 - accuracy: 0.9496 - val_loss: 0.9340 - val_accuracy: 0.8020\n",
            "Epoch 16/20\n",
            "16/16 [==============================] - 1s 55ms/step - loss: 0.1748 - accuracy: 0.9543 - val_loss: 0.9186 - val_accuracy: 0.8130\n",
            "Epoch 17/20\n",
            "16/16 [==============================] - 1s 87ms/step - loss: 0.1666 - accuracy: 0.9546 - val_loss: 0.9108 - val_accuracy: 0.8160\n",
            "Epoch 18/20\n",
            "16/16 [==============================] - 1s 94ms/step - loss: 0.1558 - accuracy: 0.9553 - val_loss: 0.9304 - val_accuracy: 0.8140\n",
            "Epoch 19/20\n",
            "16/16 [==============================] - 1s 70ms/step - loss: 0.1489 - accuracy: 0.9549 - val_loss: 0.9291 - val_accuracy: 0.8060\n",
            "Epoch 20/20\n",
            "16/16 [==============================] - 1s 55ms/step - loss: 0.1379 - accuracy: 0.9554 - val_loss: 0.9597 - val_accuracy: 0.8080\n",
            "71/71 [==============================] - 0s 6ms/step - loss: 1.0571 - accuracy: 0.7894\n",
            "[1.0571459531784058, 0.7894033789634705]\n"
          ]
        }
      ],
      "source": [
        "# 검증된 결과로 다시 학습\n",
        "model = models.Sequential()\n",
        "model.add(layers.Dense(64, activation='relu', input_shape=(10000,)))\n",
        "model.add(layers.Dense(64, activation='relu'))\n",
        "model.add(layers.Dense(46, activation='softmax')) # 여러개 중 하나 \n",
        "\n",
        "model.compile(optimizer = 'rmsprop',\n",
        "              loss='categorical_crossentropy',\n",
        "              metrics=['accuracy'])\n",
        "\n",
        "history = model.fit(partial_x_train,  # 학습용 데이터\n",
        "                    partial_y_train,\n",
        "                    epochs=20,\n",
        "                    batch_size=512,\n",
        "                    validation_data = (x_val, y_val)) # 검증용 데이터\n",
        "\n",
        "eval_result = model.evaluate(x_test, one_hot_test_labels) # 테스트용 데이터\n",
        "print(eval_result)"
      ]
    },
    {
      "cell_type": "code",
      "execution_count": 33,
      "metadata": {
        "id": "9E40X0LhKKob"
      },
      "outputs": [],
      "source": []
    }
  ],
  "metadata": {
    "colab": {
      "provenance": [],
      "authorship_tag": "ABX9TyMtYui6nldyJ5cXTeaUgi7c",
      "include_colab_link": true
    },
    "kernelspec": {
      "display_name": "Python 3",
      "name": "python3"
    },
    "language_info": {
      "name": "python"
    }
  },
  "nbformat": 4,
  "nbformat_minor": 0
}