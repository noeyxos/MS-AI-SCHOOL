{
 "cells": [
  {
   "cell_type": "code",
   "execution_count": 1,
   "id": "db8b1412",
   "metadata": {},
   "outputs": [],
   "source": [
    "import pandas as pd"
   ]
  },
  {
   "cell_type": "code",
   "execution_count": 2,
   "id": "60bf7cdc",
   "metadata": {},
   "outputs": [
    {
     "name": "stdout",
     "output_type": "stream",
     "text": [
      "   Value  DiffValue\n",
      "0     10        NaN\n",
      "1     20       10.0\n",
      "2     30       10.0\n",
      "3     40       10.0\n",
      "4     50       10.0\n"
     ]
    }
   ],
   "source": [
    "# 예시 데이터 생성\n",
    "data = pd.DataFrame({'Value':[10,20,30,40,50]})\n",
    "\n",
    "#차분 적용\n",
    "data['DiffValue'] = data['Value'].diff()\n",
    "\n",
    "#결과 출력\n",
    "print(data)"
   ]
  },
  {
   "cell_type": "code",
   "execution_count": null,
   "id": "d96d90ab",
   "metadata": {},
   "outputs": [],
   "source": []
  }
 ],
 "metadata": {
  "kernelspec": {
   "display_name": "AI",
   "language": "python",
   "name": "ai"
  },
  "language_info": {
   "codemirror_mode": {
    "name": "ipython",
    "version": 3
   },
   "file_extension": ".py",
   "mimetype": "text/x-python",
   "name": "python",
   "nbconvert_exporter": "python",
   "pygments_lexer": "ipython3",
   "version": "3.8.16"
  }
 },
 "nbformat": 4,
 "nbformat_minor": 5
}
