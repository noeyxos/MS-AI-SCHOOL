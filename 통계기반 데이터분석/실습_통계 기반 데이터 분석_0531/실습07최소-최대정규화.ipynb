{
 "cells": [
  {
   "cell_type": "code",
   "execution_count": 1,
   "id": "5d6eb3de",
   "metadata": {},
   "outputs": [],
   "source": [
    "import pandas as pd\n",
    "import numpy as np"
   ]
  },
  {
   "cell_type": "code",
   "execution_count": 3,
   "id": "1f831473",
   "metadata": {},
   "outputs": [
    {
     "name": "stdout",
     "output_type": "stream",
     "text": [
      "         Date  Value\n",
      "0  2023-01-01     51\n",
      "1  2023-01-02     92\n",
      "2  2023-01-03     14\n",
      "3  2023-01-04     71\n",
      "4  2023-01-05     60\n",
      "..        ...    ...\n",
      "95 2023-04-06     84\n",
      "96 2023-04-07     79\n",
      "97 2023-04-08     81\n",
      "98 2023-04-09     52\n",
      "99 2023-04-10     23\n",
      "\n",
      "[100 rows x 2 columns]\n",
      "최솟값:  1\n",
      "최댓값:  99\n",
      "         Date  Value_Normalized\n",
      "0  2023-01-01          0.510204\n",
      "1  2023-01-02          0.928571\n",
      "2  2023-01-03          0.132653\n",
      "3  2023-01-04          0.714286\n",
      "4  2023-01-05          0.602041\n",
      "..        ...               ...\n",
      "95 2023-04-06          0.846939\n",
      "96 2023-04-07          0.795918\n",
      "97 2023-04-08          0.816327\n",
      "98 2023-04-09          0.520408\n",
      "99 2023-04-10          0.224490\n",
      "\n",
      "[100 rows x 2 columns]\n"
     ]
    }
   ],
   "source": [
    "# 시계열 데이터 생성\n",
    "np.random.seed(42)\n",
    "dates= pd.date_range(start='2023-01-01', periods=100, freq='D')\n",
    "values = np.random.randint(0,100,size=100) # 임의의 시계열 데이터 생성 \n",
    "\n",
    "# 데이터 프레임 생성 \n",
    "data =pd.DataFrame({'Date':dates, 'Value':values})\n",
    "print(data)\n",
    "\n",
    "# Min-Max 정규화 수행\n",
    "min_value = data['Value'].min()\n",
    "max_value = data['Value'].max()\n",
    "\n",
    "print(\"최솟값: \",min_value)\n",
    "print(\"최댓값: \",max_value)\n",
    "\n",
    "# 공식\n",
    "data['Value_Normalized'] = (data['Value']- min_value) / (max_value - min_value)\n",
    "\n",
    "# 정규화된 데이터 확인\n",
    "print(data[['Date','Value_Normalized']])"
   ]
  },
  {
   "cell_type": "code",
   "execution_count": null,
   "id": "6cab2998",
   "metadata": {},
   "outputs": [],
   "source": []
  }
 ],
 "metadata": {
  "kernelspec": {
   "display_name": "AI",
   "language": "python",
   "name": "ai"
  },
  "language_info": {
   "codemirror_mode": {
    "name": "ipython",
    "version": 3
   },
   "file_extension": ".py",
   "mimetype": "text/x-python",
   "name": "python",
   "nbconvert_exporter": "python",
   "pygments_lexer": "ipython3",
   "version": "3.8.16"
  }
 },
 "nbformat": 4,
 "nbformat_minor": 5
}
