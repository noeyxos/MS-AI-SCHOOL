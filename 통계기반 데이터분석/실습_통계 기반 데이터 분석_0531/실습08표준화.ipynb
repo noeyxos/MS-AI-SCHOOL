{
 "cells": [
  {
   "cell_type": "code",
   "execution_count": 2,
   "id": "8b85621e",
   "metadata": {},
   "outputs": [
    {
     "name": "stdout",
     "output_type": "stream",
     "text": [
      "Collecting scikit-learn\n",
      "  Downloading scikit_learn-1.2.2-cp38-cp38-win_amd64.whl (8.3 MB)\n",
      "     ---------------------------------------- 0.0/8.3 MB ? eta -:--:--\n",
      "     --- ------------------------------------ 0.8/8.3 MB 15.9 MB/s eta 0:00:01\n",
      "     ----- ---------------------------------- 1.0/8.3 MB 22.0 MB/s eta 0:00:01\n",
      "     -------- ------------------------------- 1.8/8.3 MB 12.9 MB/s eta 0:00:01\n",
      "     ------------------- -------------------- 4.1/8.3 MB 21.7 MB/s eta 0:00:01\n",
      "     ------------------------------ --------- 6.3/8.3 MB 26.8 MB/s eta 0:00:01\n",
      "     ---------------------------------------  8.1/8.3 MB 28.8 MB/s eta 0:00:01\n",
      "     ---------------------------------------- 8.3/8.3 MB 26.5 MB/s eta 0:00:00\n",
      "Collecting threadpoolctl>=2.0.0\n",
      "  Downloading threadpoolctl-3.1.0-py3-none-any.whl (14 kB)\n",
      "Requirement already satisfied: numpy>=1.17.3 in c:\\users\\noeyx\\anaconda3\\envs\\ai\\lib\\site-packages (from scikit-learn) (1.24.3)\n",
      "Requirement already satisfied: scipy>=1.3.2 in c:\\users\\noeyx\\anaconda3\\envs\\ai\\lib\\site-packages (from scikit-learn) (1.10.1)\n",
      "Requirement already satisfied: joblib>=1.1.1 in c:\\users\\noeyx\\anaconda3\\envs\\ai\\lib\\site-packages (from scikit-learn) (1.2.0)\n",
      "Installing collected packages: threadpoolctl, scikit-learn\n",
      "Successfully installed scikit-learn-1.2.2 threadpoolctl-3.1.0\n",
      "Note: you may need to restart the kernel to use updated packages.\n"
     ]
    }
   ],
   "source": [
    "pip install scikit-learn"
   ]
  },
  {
   "cell_type": "code",
   "execution_count": 3,
   "id": "3bab2bae",
   "metadata": {},
   "outputs": [],
   "source": [
    "import pandas as pd\n",
    "from sklearn.preprocessing import StandardScaler"
   ]
  },
  {
   "cell_type": "code",
   "execution_count": 6,
   "id": "fefaeaf8",
   "metadata": {},
   "outputs": [
    {
     "name": "stdout",
     "output_type": "stream",
     "text": [
      "         Date  Value\n",
      "0  2023-01-01     10\n",
      "1  2023-01-02     12\n",
      "2  2023-01-03     11\n",
      "3  2023-01-04     15\n",
      "4  2023-01-05      9\n",
      "..        ...    ...\n",
      "95 2023-04-06     13\n",
      "96 2023-04-07      8\n",
      "97 2023-04-08     14\n",
      "98 2023-04-09     10\n",
      "99 2023-04-10     16\n",
      "\n",
      "[100 rows x 2 columns]\n",
      "0    -0.713746\n",
      "1     0.079305\n",
      "2    -0.317221\n",
      "3     1.268883\n",
      "4    -1.110272\n",
      "        ...   \n",
      "95    0.475831\n",
      "96   -1.506798\n",
      "97    0.872357\n",
      "98   -0.713746\n",
      "99    1.665408\n",
      "Name: Value_scaled, Length: 100, dtype: float64\n"
     ]
    }
   ],
   "source": [
    "# 시계열 데이터 생성\n",
    "dates = pd.date_range(start='2023-01-01', periods=100, freq='D')\n",
    "values = [10,12,11,15,9,13,8,14,10,16] * 10 # 시계열 데이터\n",
    "\n",
    "# 데이터 프레임 생성\n",
    "data = pd.DataFrame({'Date':dates, 'Value':values})\n",
    "print(data)\n",
    "\n",
    "# 표준화 값 추출 \n",
    "X = data['Value'].values.reshape(-1,1)\n",
    "\n",
    "# 표준화 적용\n",
    "scaler = StandardScaler()\n",
    "X_scaled = scaler.fit_transform(X)\n",
    "\n",
    "# 표준화된 값을 새로운 열로 추가 \n",
    "data['Value_scaled'] = X_scaled\n",
    "\n",
    "#표준화 된 값 출력\n",
    "print(data['Value_scaled'])"
   ]
  },
  {
   "cell_type": "code",
   "execution_count": null,
   "id": "2cbea042",
   "metadata": {},
   "outputs": [],
   "source": []
  }
 ],
 "metadata": {
  "kernelspec": {
   "display_name": "AI",
   "language": "python",
   "name": "ai"
  },
  "language_info": {
   "codemirror_mode": {
    "name": "ipython",
    "version": 3
   },
   "file_extension": ".py",
   "mimetype": "text/x-python",
   "name": "python",
   "nbconvert_exporter": "python",
   "pygments_lexer": "ipython3",
   "version": "3.8.16"
  }
 },
 "nbformat": 4,
 "nbformat_minor": 5
}
