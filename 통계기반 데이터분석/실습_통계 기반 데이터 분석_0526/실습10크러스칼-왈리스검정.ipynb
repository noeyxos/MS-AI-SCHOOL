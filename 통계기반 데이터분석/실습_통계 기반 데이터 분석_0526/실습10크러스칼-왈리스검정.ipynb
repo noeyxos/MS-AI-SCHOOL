{
 "cells": [
  {
   "cell_type": "code",
   "execution_count": 1,
   "id": "dd11caa9",
   "metadata": {},
   "outputs": [],
   "source": [
    "import numpy as np\n",
    "from scipy.stats import kruskal"
   ]
  },
  {
   "cell_type": "code",
   "execution_count": 4,
   "id": "fd8c555a",
   "metadata": {},
   "outputs": [],
   "source": [
    "# 데이터 생성\n",
    "np.random.seed(1)\n",
    "group1 = np.random.normal(loc=5, scale=1, size=20)\n",
    "group2 = np.random.normal(loc=7, scale=1, size=25)\n",
    "group3 = np.random.normal(loc=10, scale=1, size=15)"
   ]
  },
  {
   "cell_type": "code",
   "execution_count": 5,
   "id": "faa7778a",
   "metadata": {},
   "outputs": [],
   "source": [
    "# Kruskal - Wallis 검정 수행\n",
    "H,p_value = kruskal(group1, group2, group3)"
   ]
  },
  {
   "cell_type": "code",
   "execution_count": 6,
   "id": "f337e723",
   "metadata": {},
   "outputs": [
    {
     "name": "stdout",
     "output_type": "stream",
     "text": [
      "Kruskal-Wallis H 검정 통계량:  46.584295081967184\n",
      "p-value:  7.6621182690351e-11\n"
     ]
    }
   ],
   "source": [
    "# 결과 출력\n",
    "print(\"Kruskal-Wallis H 검정 통계량: \",H)\n",
    "print(\"p-value: \", p_value)"
   ]
  },
  {
   "cell_type": "code",
   "execution_count": null,
   "id": "a44297ee",
   "metadata": {},
   "outputs": [],
   "source": []
  }
 ],
 "metadata": {
  "kernelspec": {
   "display_name": "AI",
   "language": "python",
   "name": "ai"
  },
  "language_info": {
   "codemirror_mode": {
    "name": "ipython",
    "version": 3
   },
   "file_extension": ".py",
   "mimetype": "text/x-python",
   "name": "python",
   "nbconvert_exporter": "python",
   "pygments_lexer": "ipython3",
   "version": "3.8.16"
  }
 },
 "nbformat": 4,
 "nbformat_minor": 5
}
