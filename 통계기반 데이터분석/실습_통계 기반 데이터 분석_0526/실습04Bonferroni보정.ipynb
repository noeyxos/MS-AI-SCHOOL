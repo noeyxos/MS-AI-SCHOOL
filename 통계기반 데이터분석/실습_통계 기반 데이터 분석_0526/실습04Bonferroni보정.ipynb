{
 "cells": [
  {
   "cell_type": "code",
   "execution_count": 13,
   "id": "d9916eff",
   "metadata": {},
   "outputs": [],
   "source": [
    "import pandas as pd \n",
    "from scipy.stats import wilcoxon\n",
    "from statsmodels.stats.multitest import multipletests"
   ]
  },
  {
   "cell_type": "code",
   "execution_count": 14,
   "id": "e1f83898",
   "metadata": {},
   "outputs": [
    {
     "name": "stdout",
     "output_type": "stream",
     "text": [
      "sample 1 :\n",
      "statistic :  13.0\n",
      "p-value 0.8607562233837367\n",
      "fail to reject HO\n",
      "===========\n",
      "sample 2 :\n",
      "statistic :  12.0\n",
      "p-value 0.7301661743379914\n",
      "fail to reject HO\n",
      "===========\n",
      "sample 3 :\n",
      "statistic :  11.5\n",
      "p-value 0.3555541235292703\n",
      "fail to reject HO\n",
      "===========\n",
      "sample 4 :\n",
      "statistic :  18.0\n",
      "p-value 1.0\n",
      "fail to reject HO\n",
      "===========\n",
      "sample 5 :\n",
      "statistic :  13.5\n",
      "p-value 0.5224312849615644\n",
      "fail to reject HO\n",
      "===========\n",
      "sample 6 :\n",
      "statistic :  13.5\n",
      "p-value 0.931286665116335\n",
      "fail to reject HO\n",
      "===========\n",
      "sample 7 :\n",
      "statistic :  9.5\n",
      "p-value 0.22581882031567613\n",
      "fail to reject HO\n",
      "===========\n",
      "sample 8 :\n",
      "statistic :  11.0\n",
      "p-value 0.6082209420702409\n",
      "fail to reject HO\n",
      "===========\n",
      "sample 9 :\n",
      "statistic :  16.5\n",
      "p-value 0.47130320504429746\n",
      "fail to reject HO\n",
      "===========\n",
      "sample 10 :\n",
      "statistic :  13.5\n",
      "p-value 0.5224312849615644\n",
      "fail to reject HO\n",
      "===========\n",
      "Bonferroni\n",
      "sample : 1 : fail to reject HO\n",
      "sample : 2 : fail to reject HO\n",
      "sample : 3 : fail to reject HO\n",
      "sample : 4 : fail to reject HO\n",
      "sample : 5 : fail to reject HO\n",
      "sample : 6 : fail to reject HO\n",
      "sample : 7 : fail to reject HO\n",
      "sample : 8 : fail to reject HO\n",
      "sample : 9 : fail to reject HO\n",
      "sample : 10 : fail to reject HO\n"
     ]
    },
    {
     "name": "stderr",
     "output_type": "stream",
     "text": [
      "C:\\Users\\noeyx\\anaconda3\\envs\\AI\\lib\\site-packages\\scipy\\stats\\_morestats.py:3414: UserWarning: Exact p-value calculation does not work if there are zeros. Switching to normal approximation.\n",
      "  warnings.warn(\"Exact p-value calculation does not work if there are \"\n",
      "C:\\Users\\noeyx\\anaconda3\\envs\\AI\\lib\\site-packages\\scipy\\stats\\_morestats.py:3428: UserWarning: Sample size too small for normal approximation.\n",
      "  warnings.warn(\"Sample size too small for normal approximation.\")\n"
     ]
    }
   ],
   "source": [
    "# 데이터 불러오기\n",
    "data = pd.read_csv(\"./data/treatment_data.csv\")\n",
    "\n",
    "\n",
    "p_values = []\n",
    "# 여러 개의 가설 검정 수행    \n",
    "for i in range(10) : \n",
    "    # 랜덤으로 데이터를 선택해서 윌콕슨 부호 순위 검정 수행\n",
    "    sample = data.sample(frac=0.5) # 50% 랜덤 샘플\n",
    "    st, p = wilcoxon(sample['pre_treatment'], sample['post_treatment'])\n",
    "    print(\"sample\", i+1, ':')\n",
    "    print('statistic : ', st)\n",
    "    print('p-value', p)\n",
    "    p_values.append(p)\n",
    "    if p > 0.05 : \n",
    "        print(\"fail to reject HO\")\n",
    "    else : \n",
    "        print(\"reject HO\")\n",
    "        \n",
    "    print('===========')\n",
    "    \n",
    "alpha = 0.05 # 유의 수준 : 0.05\n",
    "rejects_bonf, corrected_p_bonf, _, _ = multipletests(p_values, alpha=alpha, method='bonferroni')\n",
    "print(\"Bonferroni\")\n",
    "for i in range(len(rejects_bonf)) : \n",
    "    if rejects_bonf[i]  :\n",
    "        print(f\"sample : {i+1} : reject HO\" )\n",
    "    else : \n",
    "        print(f\"sample : {i+1} : fail to reject HO\")"
   ]
  },
  {
   "cell_type": "code",
   "execution_count": 20,
   "id": "e3715d0d",
   "metadata": {},
   "outputs": [
    {
     "name": "stdout",
     "output_type": "stream",
     "text": [
      "Benjamini-Hochberg correction:\n",
      "Sample 1: Same distribution (fail to reject H0)\n",
      "Sample 2: Same distribution (fail to reject H0)\n",
      "Sample 3: Same distribution (fail to reject H0)\n",
      "Sample 4: Same distribution (fail to reject H0)\n",
      "Sample 5: Same distribution (fail to reject H0)\n",
      "Sample 6: Same distribution (fail to reject H0)\n",
      "Sample 7: Same distribution (fail to reject H0)\n",
      "Sample 8: Same distribution (fail to reject H0)\n",
      "Sample 9: Same distribution (fail to reject H0)\n",
      "Sample 10: Same distribution (fail to reject H0)\n"
     ]
    }
   ],
   "source": [
    "# Benjamini- Hochberg(BH)보정\n",
    "\n",
    "reject_bh, corrected_p_bh, _, _ = multipletests(p_values, alpha=alpha, method='fdr_bh')\n",
    "print('Benjamini-Hochberg correction:')\n",
    "for i in range(len(reject_bh)):\n",
    "    if reject_bh[i]:\n",
    "        print(f'Sample {i+1}: Different distribution (reject H0)')\n",
    "    else:\n",
    "        print(f'Sample {i+1}: Same distribution (fail to reject H0)')\n"
   ]
  },
  {
   "cell_type": "code",
   "execution_count": null,
   "id": "4b42c489",
   "metadata": {},
   "outputs": [],
   "source": []
  }
 ],
 "metadata": {
  "kernelspec": {
   "display_name": "AI",
   "language": "python",
   "name": "ai"
  },
  "language_info": {
   "codemirror_mode": {
    "name": "ipython",
    "version": 3
   },
   "file_extension": ".py",
   "mimetype": "text/x-python",
   "name": "python",
   "nbconvert_exporter": "python",
   "pygments_lexer": "ipython3",
   "version": "3.8.16"
  }
 },
 "nbformat": 4,
 "nbformat_minor": 5
}
