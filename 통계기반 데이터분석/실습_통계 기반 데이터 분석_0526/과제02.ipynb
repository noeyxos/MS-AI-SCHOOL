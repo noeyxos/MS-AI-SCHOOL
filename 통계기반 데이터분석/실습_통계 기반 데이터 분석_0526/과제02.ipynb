{
 "cells": [
  {
   "cell_type": "code",
   "execution_count": 6,
   "id": "927d1b8f",
   "metadata": {},
   "outputs": [],
   "source": [
    "import numpy as np\n",
    "from scipy.stats import wilcoxon\n",
    "\n",
    "# 그룹 1과 그룹2 데이터 생성\n",
    "\n",
    "group1 = np.random.normal(0,1,100)\n",
    "group2 = np.random.normal(0.5,1,100)"
   ]
  },
  {
   "cell_type": "markdown",
   "id": "40de06f7",
   "metadata": {},
   "source": [
    "# Wilcoxon signed-rank test 실행 "
   ]
  },
  {
   "cell_type": "code",
   "execution_count": 7,
   "id": "8ef62810",
   "metadata": {},
   "outputs": [
    {
     "name": "stdout",
     "output_type": "stream",
     "text": [
      "st >>  1655.0\n",
      "p-value >>  0.0027775367201682928\n"
     ]
    }
   ],
   "source": [
    "st,p_val = wilcoxon(group1,group2)\n",
    "\n",
    "# 결과 출력\n",
    "print('st >> ',st)\n",
    "print('p-value >> ', p_val)"
   ]
  },
  {
   "cell_type": "code",
   "execution_count": null,
   "id": "25d05a65",
   "metadata": {},
   "outputs": [],
   "source": []
  }
 ],
 "metadata": {
  "kernelspec": {
   "display_name": "AI",
   "language": "python",
   "name": "ai"
  },
  "language_info": {
   "codemirror_mode": {
    "name": "ipython",
    "version": 3
   },
   "file_extension": ".py",
   "mimetype": "text/x-python",
   "name": "python",
   "nbconvert_exporter": "python",
   "pygments_lexer": "ipython3",
   "version": "3.8.16"
  }
 },
 "nbformat": 4,
 "nbformat_minor": 5
}
