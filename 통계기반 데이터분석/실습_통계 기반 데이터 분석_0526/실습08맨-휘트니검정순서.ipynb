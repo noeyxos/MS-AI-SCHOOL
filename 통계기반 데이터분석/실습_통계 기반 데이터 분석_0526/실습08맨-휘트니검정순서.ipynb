{
 "cells": [
  {
   "cell_type": "code",
   "execution_count": 3,
   "id": "cd09d039",
   "metadata": {},
   "outputs": [
    {
     "name": "stdout",
     "output_type": "stream",
     "text": [
      "Mann-Whitney U statistic:  32.5\n",
      "p-value:  0.19622288836173518\n"
     ]
    }
   ],
   "source": [
    "from scipy.stats import mannwhitneyu\n",
    "\n",
    "# Example data\n",
    "group1 = [3,2,5,1,4,2,6,7,9,8]\n",
    "group2 = [6,4,7,2,6,3,7,9,10,11]\n",
    "\n",
    "# Calculate Mann-Whitney U statistic and p-value\n",
    "st, p = mannwhitneyu(group1, group2)\n",
    "\n",
    "print('Mann-Whitney U statistic: ',st)\n",
    "print('p-value: ', p)"
   ]
  },
  {
   "cell_type": "code",
   "execution_count": 6,
   "id": "deadd7dc",
   "metadata": {},
   "outputs": [
    {
     "name": "stdout",
     "output_type": "stream",
     "text": [
      "Mann-Whitney U statistic:  32.5\n",
      "p-value:  0.014019277113959953\n"
     ]
    }
   ],
   "source": [
    "import numpy as np \n",
    "import pandas as pd\n",
    "from scipy.stats import mannwhitneyu\n",
    "from scipy import stats\n",
    "\n",
    "# 데이터 불러오기 \n",
    "data = pd.read_csv(\"./data/mannwhitneyu_sample_data.csv\")\n",
    "\n",
    "# 두 집단 간의 차이 검정 \n",
    "stat, p = mannwhitneyu(data['group1'], data['group2'])\n",
    "\n",
    "# 두 집단의 크기 계산 # len()\n",
    "n1, n2 = len(data['group1']), len(data['group2'])\n",
    "\n",
    "# U 값이 클 때는 U 값 대신 (n1 * n2 - U) 값을 사용\n",
    "if stat > n1 * n2 / 2 : \n",
    "    stat = n1 * n2 - stat\n",
    "    \n",
    "# p-value 계산 \n",
    "p_val = 2 * stats.norm.cdf(-abs(stat) / np.sqrt(n1 * n2 * (n1 + n2 +1)/12))\n",
    "\n",
    "print('Mann-Whitney U statistic: ',stat)\n",
    "print('p-value: ', p_val)"
   ]
  },
  {
   "cell_type": "code",
   "execution_count": null,
   "id": "dd0044b2",
   "metadata": {},
   "outputs": [],
   "source": []
  }
 ],
 "metadata": {
  "kernelspec": {
   "display_name": "AI",
   "language": "python",
   "name": "ai"
  },
  "language_info": {
   "codemirror_mode": {
    "name": "ipython",
    "version": 3
   },
   "file_extension": ".py",
   "mimetype": "text/x-python",
   "name": "python",
   "nbconvert_exporter": "python",
   "pygments_lexer": "ipython3",
   "version": "3.8.16"
  }
 },
 "nbformat": 4,
 "nbformat_minor": 5
}
