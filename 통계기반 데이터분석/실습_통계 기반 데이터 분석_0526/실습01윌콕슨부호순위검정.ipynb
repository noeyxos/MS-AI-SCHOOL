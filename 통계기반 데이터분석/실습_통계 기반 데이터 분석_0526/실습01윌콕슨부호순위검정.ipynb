{
 "cells": [
  {
   "cell_type": "code",
   "execution_count": 2,
   "id": "c1463346",
   "metadata": {},
   "outputs": [],
   "source": [
    "import numpy as np\n",
    "from scipy.stats import wilcoxon"
   ]
  },
  {
   "cell_type": "code",
   "execution_count": 3,
   "id": "b744359e",
   "metadata": {},
   "outputs": [
    {
     "name": "stdout",
     "output_type": "stream",
     "text": [
      "Wilcoxon Signed Rank Test\n",
      "Statistic :  0.0\n",
      "p-value :  0.001953125\n"
     ]
    }
   ],
   "source": [
    "# 데이터 생성\n",
    "data1 = [20,25,30,35,40,45,50,55,60,65]\n",
    "data2 = [10,20,25,30,35,40,45,50,55,60]\n",
    "\n",
    "# 윌콕슨 부호 순위 검정 수행\n",
    "stat, p = wilcoxon(data1, data2)\n",
    "\n",
    "\n",
    "# 결과 출력\n",
    "print('Wilcoxon Signed Rank Test')\n",
    "print(\"Statistic : \",stat)\n",
    "print('p-value : ', p)\n",
    "# stat은 두 집단 간의 순위 차이를 나타내고, \n",
    "#p는 윌콕슨 순위합 검정 결과에서 귀무가설을 기각할 수 있는 유의성을 나타낸다"
   ]
  },
  {
   "cell_type": "code",
   "execution_count": 3,
   "id": "27546814",
   "metadata": {},
   "outputs": [
    {
     "name": "stdout",
     "output_type": "stream",
     "text": [
      "reject H0\n"
     ]
    }
   ],
   "source": [
    "if p > 0.05 : \n",
    "    print('fail to reject H0')\n",
    "else:\n",
    "    print('reject H0')"
   ]
  },
  {
   "cell_type": "code",
   "execution_count": null,
   "id": "9ca36d21",
   "metadata": {},
   "outputs": [],
   "source": []
  }
 ],
 "metadata": {
  "kernelspec": {
   "display_name": "AI",
   "language": "python",
   "name": "ai"
  },
  "language_info": {
   "codemirror_mode": {
    "name": "ipython",
    "version": 3
   },
   "file_extension": ".py",
   "mimetype": "text/x-python",
   "name": "python",
   "nbconvert_exporter": "python",
   "pygments_lexer": "ipython3",
   "version": "3.8.16"
  }
 },
 "nbformat": 4,
 "nbformat_minor": 5
}
