{
 "cells": [
  {
   "cell_type": "code",
   "execution_count": 1,
   "id": "7bdfe7dd",
   "metadata": {},
   "outputs": [],
   "source": [
    "import pandas as pd \n",
    "import seaborn as sns\n",
    "import matplotlib.pyplot as plt \n",
    "from scipy.stats import wilcoxon"
   ]
  },
  {
   "cell_type": "code",
   "execution_count": 2,
   "id": "b07f1554",
   "metadata": {},
   "outputs": [
    {
     "name": "stdout",
     "output_type": "stream",
     "text": [
      "    pre_treatment  post_treatment\n",
      "0               2               2\n",
      "1               6               5\n",
      "2               1               2\n",
      "3               9               6\n",
      "4               9               7\n",
      "5               6               8\n",
      "6               1               3\n",
      "7               5               4\n",
      "8               9              12\n",
      "9               5               5\n",
      "10              6               6\n",
      "11              2               5\n",
      "12              5               6\n",
      "13              7               4\n",
      "14              1               4\n",
      "15              4               1\n",
      "16              6               8\n",
      "17              1               1\n",
      "18              1              -2\n",
      "19              3               1\n",
      "65.0 0.8749256961283967\n"
     ]
    },
    {
     "name": "stderr",
     "output_type": "stream",
     "text": [
      "C:\\Users\\noeyx\\anaconda3\\envs\\AI\\lib\\site-packages\\scipy\\stats\\_morestats.py:3414: UserWarning: Exact p-value calculation does not work if there are zeros. Switching to normal approximation.\n",
      "  warnings.warn(\"Exact p-value calculation does not work if there are \"\n"
     ]
    }
   ],
   "source": [
    "# 데이터 불러오기 \n",
    "data = pd.read_csv(\"./data/treatment_data.csv\")\n",
    "print(data)\n",
    "\n",
    "# 두변수 간의 차이 검정 \n",
    "stat, p = wilcoxon(data['pre_treatment'], data['post_treatment'])\n",
    "print(stat, p)"
   ]
  },
  {
   "cell_type": "code",
   "execution_count": 3,
   "id": "44c2eee3",
   "metadata": {},
   "outputs": [
    {
     "name": "stderr",
     "output_type": "stream",
     "text": [
      "C:\\Users\\noeyx\\anaconda3\\envs\\AI\\lib\\site-packages\\seaborn\\categorical.py:166: FutureWarning: Setting a gradient palette using color= is deprecated and will be removed in version 0.13. Set `palette='dark:.3'` for same effect.\n",
      "  warnings.warn(msg, FutureWarning)\n"
     ]
    },
    {
     "name": "stdout",
     "output_type": "stream",
     "text": [
      "Smae distribution\n"
     ]
    },
    {
     "data": {
      "image/png": "[encoded data removed]",
      "text/plain": [
       "<Figure size 640x480 with 1 Axes>"
      ]
     },
     "metadata": {},
     "output_type": "display_data"
    }
   ],
   "source": [
    "# 검정 결과 시각화\n",
    "sns.boxplot(data=data[['pre_treatment','post_treatment']], palette=\"Set3\")\n",
    "sns.stripplot(data=data[['pre_treatment','post_treatment']], color='.3', size=4)\n",
    "sns.despine(trim=True)\n",
    "if p > 0.05 :\n",
    "    print(\"Smae distribution\")\n",
    "else : \n",
    "    print(\"nDifferent distribution\")"
   ]
  },
  {
   "cell_type": "code",
   "execution_count": null,
   "id": "9b58e188",
   "metadata": {},
   "outputs": [],
   "source": []
  }
 ],
 "metadata": {
  "kernelspec": {
   "display_name": "AI",
   "language": "python",
   "name": "ai"
  },
  "language_info": {
   "codemirror_mode": {
    "name": "ipython",
    "version": 3
   },
   "file_extension": ".py",
   "mimetype": "text/x-python",
   "name": "python",
   "nbconvert_exporter": "python",
   "pygments_lexer": "ipython3",
   "version": "3.8.16"
  }
 },
 "nbformat": 4,
 "nbformat_minor": 5
}
