{
 "cells": [
  {
   "cell_type": "code",
   "execution_count": 1,
   "id": "481e556a",
   "metadata": {},
   "outputs": [
    {
     "name": "stdout",
     "output_type": "stream",
     "text": [
      "   group1  group2\n",
      "0       3       6\n",
      "1       2       4\n",
      "2       5       7\n",
      "3       1       2\n",
      "4       4       6\n",
      "5       2       3\n",
      "6       6       7\n",
      "7       7       9\n",
      "8       9      10\n",
      "9       8      11\n"
     ]
    }
   ],
   "source": [
    "import pandas as pd \n",
    "from scipy.stats import levene\n",
    "\n",
    "# 데이터 불러오기 \n",
    "data = pd.read_csv(\"./data/mannwhitneyu_sample_data.csv\")\n",
    "print(data)"
   ]
  },
  {
   "cell_type": "code",
   "execution_count": 7,
   "id": "846a684f",
   "metadata": {},
   "outputs": [
    {
     "name": "stdout",
     "output_type": "stream",
     "text": [
      "Statisitc:  0.0\n",
      "p-value:  1.0\n",
      "Homogeneous variance (fail to reject H0)\n"
     ]
    }
   ],
   "source": [
    "# 등분산성 검정 \n",
    "stat, p = levene(data['group1'], data['group2'])\n",
    "\n",
    "\n",
    "# 결과 출력\n",
    "print('Statisitc: ',stat)\n",
    "print('p-value: ', p)\n",
    "\n",
    "\n",
    "if p > 0.05 : \n",
    "    print(\"Homogeneous variance (fail to reject H0)\")\n",
    "else : \n",
    "    print(\"Homogeneous variance (reject H0)\")"
   ]
  },
  {
   "cell_type": "code",
   "execution_count": null,
   "id": "1c0a9df4",
   "metadata": {},
   "outputs": [],
   "source": []
  }
 ],
 "metadata": {
  "kernelspec": {
   "display_name": "AI",
   "language": "python",
   "name": "ai"
  },
  "language_info": {
   "codemirror_mode": {
    "name": "ipython",
    "version": 3
   },
   "file_extension": ".py",
   "mimetype": "text/x-python",
   "name": "python",
   "nbconvert_exporter": "python",
   "pygments_lexer": "ipython3",
   "version": "3.8.16"
  }
 },
 "nbformat": 4,
 "nbformat_minor": 5
}
