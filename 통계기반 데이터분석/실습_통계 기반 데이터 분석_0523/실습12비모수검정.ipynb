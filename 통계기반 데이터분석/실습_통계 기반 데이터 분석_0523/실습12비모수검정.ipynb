{
 "cells": [
  {
   "cell_type": "code",
   "execution_count": 1,
   "id": "3b7b3dd2",
   "metadata": {},
   "outputs": [],
   "source": [
    "import numpy as np\n",
    "from scipy import stats"
   ]
  },
  {
   "cell_type": "code",
   "execution_count": 2,
   "id": "ca92dbf1",
   "metadata": {},
   "outputs": [],
   "source": [
    "# 두 집단의 데이터 생성, 랜덤하게 생성된 정규분포 데이터\n",
    "np.random.seed(42)\n",
    "\n",
    "# 모수 검정용 데이터 생성\n",
    "n = 100\n",
    "mu1, mu2 = 0, 0.5 # 각각의 평균\n",
    "sigma = 1 # 표준편차\n",
    "data1 = np.random.normal(mu1,sigma,n)\n",
    "data2 = np.random.normal(mu2,sigma,n)\n",
    "\n",
    "# print(data1, data2)"
   ]
  },
  {
   "cell_type": "code",
   "execution_count": 3,
   "id": "432006c5",
   "metadata": {},
   "outputs": [],
   "source": [
    "# 비모수 검정용 데이터 생성\n",
    "m = 30\n",
    "data3 = np.random.uniform(0,1,m)\n",
    "data4 = np.random.uniform(0.5,1.5, m)"
   ]
  },
  {
   "cell_type": "code",
   "execution_count": 4,
   "id": "d2299b0b",
   "metadata": {},
   "outputs": [
    {
     "name": "stdout",
     "output_type": "stream",
     "text": [
      "t_statistic: -4.755, p-value: 0.000\n"
     ]
    }
   ],
   "source": [
    "# 데이터 생성이 완료되었다면, 먼저 모수 검정을 실시해보겠습니다.\n",
    "# 모수 검정 -> t-test 검정 실시합니다.\n",
    "t_stat, p_val = stats.ttest_ind(data1,data2)\n",
    "print(\"t_statistic: {:.3f}, p-value: {:.3f}\".format(t_stat, p_val))"
   ]
  },
  {
   "cell_type": "code",
   "execution_count": 5,
   "id": "603bd37b",
   "metadata": {},
   "outputs": [
    {
     "name": "stdout",
     "output_type": "stream",
     "text": [
      "U statistic :145.000, p-value: 0.000\n"
     ]
    }
   ],
   "source": [
    "# 비모수 검정\n",
    "u_stat, p_val = stats.mannwhitneyu(data3, data4)\n",
    "print(\"U statistic :{:.3f}, p-value: {:.3f}\".format(u_stat, p_val))"
   ]
  },
  {
   "cell_type": "code",
   "execution_count": null,
   "id": "37aea1ca",
   "metadata": {},
   "outputs": [],
   "source": []
  }
 ],
 "metadata": {
  "kernelspec": {
   "display_name": "AI",
   "language": "python",
   "name": "ai"
  },
  "language_info": {
   "codemirror_mode": {
    "name": "ipython",
    "version": 3
   },
   "file_extension": ".py",
   "mimetype": "text/x-python",
   "name": "python",
   "nbconvert_exporter": "python",
   "pygments_lexer": "ipython3",
   "version": "3.8.16"
  }
 },
 "nbformat": 4,
 "nbformat_minor": 5
}
