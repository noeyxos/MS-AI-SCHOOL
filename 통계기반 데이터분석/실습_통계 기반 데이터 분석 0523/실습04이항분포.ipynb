{
 "cells": [
  {
   "cell_type": "code",
   "execution_count": 9,
   "id": "c0bbd5d2",
   "metadata": {},
   "outputs": [],
   "source": [
    "import numpy as np\n",
    "import matplotlib.pyplot as plt\n",
    "from scipy.stats import binom"
   ]
  },
  {
   "cell_type": "code",
   "execution_count": 11,
   "id": "49272da0",
   "metadata": {},
   "outputs": [
    {
     "ename": "SyntaxError",
     "evalue": "positional argument follows keyword argument (3042529623.py, line 12)",
     "output_type": "error",
     "traceback": [
      "\u001b[1;36m  Cell \u001b[1;32mIn[11], line 12\u001b[1;36m\u001b[0m\n\u001b[1;33m    plt.hist(successes, bins=11, range(0,10), alpha=0.5) #bins= 구간, alpha:투명도!\u001b[0m\n\u001b[1;37m                                 ^\u001b[0m\n\u001b[1;31mSyntaxError\u001b[0m\u001b[1;31m:\u001b[0m positional argument follows keyword argument\n"
     ]
    }
   ],
   "source": [
    "# 이항분포 모델링\n",
    "n = 10 # 시행 횟수\n",
    "p = 0.5 # 성공 확률\n",
    "\n",
    "# 이항 분포 시뮬레이션\n",
    "num_simulation = 1000 #시물레이션 횟수\n",
    "successes = np.random.binomial(n, p, num_simulation)\n",
    "\n",
    "print(successes)\n",
    "\n",
    "#이항분포 시뮬레이션 결과 시각화\n",
    "plt.hist(successes, bins=11, range(0,10), alpha=0.5) #bins= 구간, alpha:투명도!\n",
    "plt.xlabel('Sucesses')\n",
    "plt.ylabel('Frequency')\n",
    "plt.title('Binomail Distribution Simulation')\n",
    "plt.show()"
   ]
  },
  {
   "cell_type": "code",
   "execution_count": null,
   "id": "e9fa49a4",
   "metadata": {},
   "outputs": [],
   "source": []
  }
 ],
 "metadata": {
  "kernelspec": {
   "display_name": "AI",
   "language": "python",
   "name": "ai"
  },
  "language_info": {
   "codemirror_mode": {
    "name": "ipython",
    "version": 3
   },
   "file_extension": ".py",
   "mimetype": "text/x-python",
   "name": "python",
   "nbconvert_exporter": "python",
   "pygments_lexer": "ipython3",
   "version": "3.8.16"
  }
 },
 "nbformat": 4,
 "nbformat_minor": 5
}
