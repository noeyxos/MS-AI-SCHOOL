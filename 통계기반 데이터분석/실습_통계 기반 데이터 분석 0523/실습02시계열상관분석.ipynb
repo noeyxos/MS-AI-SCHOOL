{
 "cells": [
  {
   "cell_type": "code",
   "execution_count": 25,
   "id": "44842f56",
   "metadata": {},
   "outputs": [],
   "source": [
    "import pandas as pd\n",
    "import random\n",
    "import os\n",
    "import numpy as np\n",
    "import matplotlib.pyplot as plt\n",
    "import seaborn as sns"
   ]
  },
  {
   "cell_type": "code",
   "execution_count": 21,
   "id": "abc92550",
   "metadata": {},
   "outputs": [
    {
     "name": "stdout",
     "output_type": "stream",
     "text": [
      "            005930.KS\n",
      "Date                 \n",
      "2021-01-04      82712\n",
      "2021-01-05      89748\n",
      "2021-01-06      83362\n",
      "2021-01-07      87960\n",
      "2021-01-08      82525\n",
      "...               ...\n",
      "2021-04-09      84498\n",
      "2021-04-10      80180\n",
      "2021-04-11      86742\n",
      "2021-04-12      87109\n",
      "2021-04-13      87219\n",
      "\n",
      "[100 rows x 1 columns]\n"
     ]
    }
   ],
   "source": [
    "# 랜덤하게 각 주식의 가격 100개의 데이터 생성\n",
    "# 삼성 전자 주식 데이터\n",
    "dates = pd.date_range(start='2021-01-04', periods =100, freq='D')\n",
    "samsung_prices = [random.randint(80000,90000) for _ in range(100)]\n",
    "samsung_data = {'Date':dates,'005930.KS': samsung_prices}\n",
    "samsung_df = pd.DataFrame(samsung_data)\n",
    "samsung_df.set_index('Date', inplace=True)\n",
    "\n",
    "print(samsung_df)"
   ]
  },
  {
   "cell_type": "code",
   "execution_count": 22,
   "id": "2fc65af0",
   "metadata": {},
   "outputs": [
    {
     "name": "stdout",
     "output_type": "stream",
     "text": [
      "            066570.KS\n",
      "Date                 \n",
      "2021-01-04     156897\n",
      "2021-01-05     159741\n",
      "2021-01-06     146263\n",
      "2021-01-07     150959\n",
      "2021-01-08     143737\n",
      "...               ...\n",
      "2021-04-09     155250\n",
      "2021-04-10     148349\n",
      "2021-04-11     149763\n",
      "2021-04-12     152958\n",
      "2021-04-13     145750\n",
      "\n",
      "[100 rows x 1 columns]\n"
     ]
    }
   ],
   "source": [
    "# LG 전자 주식 데이터\n",
    "lg_prices = [random.randint(140000,160000) for _ in range(100)]\n",
    "lg_data = {'Date':dates,'066570.KS': lg_prices}\n",
    "lg_df = pd.DataFrame(lg_data)\n",
    "lg_df.set_index('Date', inplace=True)\n",
    "\n",
    "print(lg_df)"
   ]
  },
  {
   "cell_type": "code",
   "execution_count": 23,
   "id": "e8ddfaaa",
   "metadata": {},
   "outputs": [
    {
     "name": "stdout",
     "output_type": "stream",
     "text": [
      "            Samsung      LG\n",
      "Date                       \n",
      "2021-01-04    82712  156897\n",
      "2021-01-05    89748  159741\n",
      "2021-01-06    83362  146263\n",
      "2021-01-07    87960  150959\n",
      "2021-01-08    82525  143737\n",
      "...             ...     ...\n",
      "2021-04-09    84498  155250\n",
      "2021-04-10    80180  148349\n",
      "2021-04-11    86742  149763\n",
      "2021-04-12    87109  152958\n",
      "2021-04-13    87219  145750\n",
      "\n",
      "[100 rows x 2 columns]\n"
     ]
    }
   ],
   "source": [
    "# 두 데이터프레임을 합쳐서 하나의 데이터프레임으로 만들기\n",
    "df = pd.concat([samsung_df, lg_df], axis = 1)\n",
    "df = df.loc[:, ['005930.KS','066570.KS']]\n",
    "df.columns =['Samsung','LG']\n",
    "print(df)"
   ]
  },
  {
   "cell_type": "code",
   "execution_count": 24,
   "id": "19b6e5e2",
   "metadata": {},
   "outputs": [],
   "source": [
    "# 폴더 생성\n",
    "os.makedirs(\"./data\", exist_ok=True)\n",
    "# csv 파일로 저장\n",
    "df.to_csv(\"./data/stock_price.csv\")"
   ]
  },
  {
   "cell_type": "code",
   "execution_count": 28,
   "id": "53417f44",
   "metadata": {},
   "outputs": [
    {
     "name": "stdout",
     "output_type": "stream",
     "text": [
      "            Samsung      LG\n",
      "Date                       \n",
      "2021-01-04    82712  156897\n",
      "2021-01-05    89748  159741\n",
      "2021-01-06    83362  146263\n",
      "2021-01-07    87960  150959\n",
      "2021-01-08    82525  143737\n",
      "...             ...     ...\n",
      "2021-04-09    84498  155250\n",
      "2021-04-10    80180  148349\n",
      "2021-04-11    86742  149763\n",
      "2021-04-12    87109  152958\n",
      "2021-04-13    87219  145750\n",
      "\n",
      "[100 rows x 2 columns]\n"
     ]
    }
   ],
   "source": [
    " # csv 파일 읽기\n",
    "df= pd.read_csv('./data/stock_price.csv')\n",
    "df['Date'] = pd.to_datetime(df['Date'])\n",
    "df.set_index('Date',inplace=True)\n",
    "\n",
    "print(df)"
   ]
  },
  {
   "cell_type": "code",
   "execution_count": 29,
   "id": "5a0ad0d9",
   "metadata": {},
   "outputs": [
    {
     "name": "stdout",
     "output_type": "stream",
     "text": [
      "             Samsung        LG\n",
      "Date                          \n",
      "2021-01-04       NaN       NaN\n",
      "2021-01-05  0.085066  0.018127\n",
      "2021-01-06 -0.071155 -0.084374\n",
      "2021-01-07  0.055157  0.032107\n",
      "2021-01-08 -0.061789 -0.047841\n",
      "...              ...       ...\n",
      "2021-04-09  0.048479  0.029892\n",
      "2021-04-10 -0.051102 -0.044451\n",
      "2021-04-11  0.081841  0.009532\n",
      "2021-04-12  0.004231  0.021334\n",
      "2021-04-13  0.001263 -0.047124\n",
      "\n",
      "[100 rows x 2 columns]\n"
     ]
    }
   ],
   "source": [
    "# 두 종목의 수익률 계산\n",
    "returns = df.pct_change()\n",
    "print(returns)"
   ]
  },
  {
   "cell_type": "code",
   "execution_count": 30,
   "id": "22de7f10",
   "metadata": {},
   "outputs": [
    {
     "name": "stdout",
     "output_type": "stream",
     "text": [
      "          Samsung        LG\n",
      "Samsung  1.000000  0.126416\n",
      "LG       0.126416  1.000000\n"
     ]
    }
   ],
   "source": [
    "# 수익률 간의 상관계수 계산\n",
    "corr_matrix = returns.corr()\n",
    "print(corr_matrix)"
   ]
  },
  {
   "cell_type": "code",
   "execution_count": 31,
   "id": "d8a88a8a",
   "metadata": {},
   "outputs": [
    {
     "data": {
      "image/png": "[encoded data removed]",
      "text/plain": [
       "<Figure size 640x480 with 2 Axes>"
      ]
     },
     "metadata": {},
     "output_type": "display_data"
    }
   ],
   "source": [
    "# 히트맵 그리기\n",
    "sns.heatmap(corr_matrix, annot=True, cmap='coolwarm')\n",
    "plt.title('Stock Returns Correlation')\n",
    "plt.show()"
   ]
  },
  {
   "cell_type": "code",
   "execution_count": null,
   "id": "e66ef6f9",
   "metadata": {},
   "outputs": [],
   "source": []
  }
 ],
 "metadata": {
  "kernelspec": {
   "display_name": "AI",
   "language": "python",
   "name": "ai"
  },
  "language_info": {
   "codemirror_mode": {
    "name": "ipython",
    "version": 3
   },
   "file_extension": ".py",
   "mimetype": "text/x-python",
   "name": "python",
   "nbconvert_exporter": "python",
   "pygments_lexer": "ipython3",
   "version": "3.8.16"
  }
 },
 "nbformat": 4,
 "nbformat_minor": 5
}
