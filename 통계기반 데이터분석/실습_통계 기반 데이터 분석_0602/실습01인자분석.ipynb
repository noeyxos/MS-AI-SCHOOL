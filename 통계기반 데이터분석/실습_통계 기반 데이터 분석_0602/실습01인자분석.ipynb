{
 "cells": [
  {
   "cell_type": "code",
   "execution_count": 5,
   "id": "65694946",
   "metadata": {},
   "outputs": [],
   "source": [
    "import numpy as np\n",
    "from sklearn.decomposition import FactorAnalysis"
   ]
  },
  {
   "cell_type": "code",
   "execution_count": 6,
   "id": "7da99eac",
   "metadata": {},
   "outputs": [],
   "source": [
    "# 데이터셋 생성\n",
    "np.random.seed(0)\n",
    "n_samples = 100 # 샘플 수 \n",
    "n_features = 5 # 변수 수\n",
    " \n",
    "# 데이터셋을 랜덤하게 생성 \n",
    "X = np.random.randn(n_samples, n_features)"
   ]
  },
  {
   "cell_type": "code",
   "execution_count": 8,
   "id": "8186ec15",
   "metadata": {},
   "outputs": [],
   "source": [
    "# 인자 분석 수행\n",
    "n_components = 2 # 추출할 인자 수\n",
    "factor_anlaysis = FactorAnalysis(n_components=n_components, random_state=0)\n",
    "X_factors = factor_anlaysis.fit_transform(X)"
   ]
  },
  {
   "cell_type": "code",
   "execution_count": 9,
   "id": "acf07639",
   "metadata": {},
   "outputs": [
    {
     "name": "stdout",
     "output_type": "stream",
     "text": [
      "원본 데이터셋 크기:  (100, 5)\n",
      "인자 분석 결과 (인자 개수=2):\n",
      "[[-1.01244523e+00 -1.30255487e-01]\n",
      " [-4.66728317e-01  1.13128805e-01]\n",
      " [-5.43752664e-01 -5.21333643e-03]\n",
      " [ 7.84485254e-02  5.18446209e-01]\n",
      " [-1.38761949e+00 -7.19926702e-01]\n",
      " [-9.76908725e-01 -1.46287371e-01]\n",
      " [ 4.16681019e-01  4.39943804e-01]\n",
      " [-9.33912119e-02 -2.05477909e-01]\n",
      " [ 3.64050421e-01  3.62622003e-01]\n",
      " [ 6.01596203e-01 -6.83470132e-01]\n",
      " [ 3.50941854e-02  1.47999277e-01]\n",
      " [ 3.27489939e-01 -4.67195360e-02]\n",
      " [ 2.35314537e-01  1.14712133e-01]\n",
      " [ 5.05245409e-01 -6.23279966e-01]\n",
      " [ 3.59883386e-02 -4.08163985e-01]\n",
      " [ 2.39779405e-01 -4.48204528e-02]\n",
      " [-8.19922431e-01 -2.90047066e-01]\n",
      " [-3.74929007e-01  4.89847246e-01]\n",
      " [-5.91241735e-01  1.33901943e-01]\n",
      " [-1.25865487e-01 -6.65994076e-01]\n",
      " [ 1.09189763e+00  5.99643113e-01]\n",
      " [-5.03067494e-01  4.54821044e-01]\n",
      " [-3.78276132e-02  8.83335518e-01]\n",
      " [-5.86593018e-01  3.42129299e-01]\n",
      " [ 5.34799613e-01 -2.23164331e-01]\n",
      " [-1.80718542e-01 -8.86797699e-01]\n",
      " [ 1.48310037e-01  3.39796716e-01]\n",
      " [ 4.54069218e-01  3.85631078e-01]\n",
      " [-1.40725531e+00 -2.97865991e-01]\n",
      " [ 7.38552572e-01 -5.43072484e-01]\n",
      " [-2.14164001e-01  6.56562539e-01]\n",
      " [ 7.68262329e-02  6.02232443e-01]\n",
      " [ 2.92287653e-02  3.42298979e-02]\n",
      " [ 1.78271379e-01  5.64695988e-01]\n",
      " [ 6.11397946e-01 -1.17450154e-01]\n",
      " [ 4.18163372e-01  1.96810306e-01]\n",
      " [ 3.80942333e-01 -1.74363560e-01]\n",
      " [-4.62072577e-01 -5.86108359e-01]\n",
      " [-2.52680597e-01 -1.61689753e-01]\n",
      " [-1.06900469e+00 -2.14006329e-01]\n",
      " [-3.34818534e-01 -5.75573200e-01]\n",
      " [-8.00863669e-02  1.06248227e-01]\n",
      " [ 5.48981478e-01 -8.97247215e-02]\n",
      " [-2.52190382e-01 -1.41773333e-01]\n",
      " [ 7.10288128e-01  1.05849592e-01]\n",
      " [ 2.02898674e-01 -5.34193275e-02]\n",
      " [ 5.27817901e-01  1.90014485e-02]\n",
      " [-5.25048577e-01  1.26697370e+00]\n",
      " [ 2.74453837e-01 -1.00200878e-01]\n",
      " [ 3.11551427e-01 -3.57042193e-01]\n",
      " [-1.65874850e-02 -1.60842433e-01]\n",
      " [ 2.88629591e-01  4.34925237e-01]\n",
      " [ 9.77922830e-01  1.03959413e-01]\n",
      " [-6.21511482e-02  9.03593414e-02]\n",
      " [ 1.00387920e+00 -1.30350992e+00]\n",
      " [-8.11515666e-01 -8.11533266e-02]\n",
      " [-5.09779112e-01  5.27088366e-01]\n",
      " [-3.29566827e-01 -7.04337051e-01]\n",
      " [ 2.23409536e-01 -1.16923812e+00]\n",
      " [ 2.31266527e-02 -1.00622310e-01]\n",
      " [-7.35237169e-01  1.74295287e-01]\n",
      " [ 3.88607998e-01  2.50046455e-01]\n",
      " [ 7.61447397e-02  6.91453513e-01]\n",
      " [ 1.50150331e-01  1.33063552e-01]\n",
      " [ 8.22071468e-01 -3.36351190e-01]\n",
      " [-3.64131107e-01 -1.09365230e+00]\n",
      " [ 1.79846549e+00 -3.45590427e-01]\n",
      " [-1.16801893e-01 -6.02931737e-01]\n",
      " [ 6.77003435e-01  3.28593112e-01]\n",
      " [-1.15112935e-01 -1.80803234e-01]\n",
      " [ 6.80756133e-01 -9.57403493e-01]\n",
      " [ 2.64977156e-01 -3.13940962e-01]\n",
      " [ 7.23278114e-02 -2.79335382e-01]\n",
      " [ 6.96656845e-01  2.11959020e-01]\n",
      " [ 3.26345058e-01 -5.33545663e-01]\n",
      " [-3.73097929e-01  8.05257206e-01]\n",
      " [-4.46754797e-02  7.70736702e-01]\n",
      " [-9.99376843e-02  2.25995226e-01]\n",
      " [ 5.28792126e-01  1.50049009e-01]\n",
      " [-8.61029392e-01 -3.98258363e-01]\n",
      " [ 1.02583362e+00 -5.15874708e-01]\n",
      " [ 2.85918245e-01  2.47067447e-01]\n",
      " [-1.07109480e+00 -1.35881958e-03]\n",
      " [-9.41769323e-01  5.62709668e-02]\n",
      " [ 1.37428941e-01  1.14170997e+00]\n",
      " [-1.27814079e-01  1.33167885e+00]\n",
      " [ 7.56003122e-01 -6.57282439e-01]\n",
      " [-2.48682206e-01  2.40519062e-01]\n",
      " [-1.11127670e-01 -3.09556436e-01]\n",
      " [ 1.11628806e-01  4.74295542e-01]\n",
      " [-4.77838910e-01 -1.66117617e-01]\n",
      " [ 4.90521084e-01  1.10383932e+00]\n",
      " [ 4.79590040e-01 -5.47674148e-02]\n",
      " [ 7.76670057e-01  3.68424473e-01]\n",
      " [-7.37238331e-01 -3.94241177e-01]\n",
      " [-5.00452564e-01  7.93582332e-01]\n",
      " [-4.29600140e-01  6.43249543e-01]\n",
      " [-7.47971844e-01 -2.71403864e-01]\n",
      " [-1.41064069e+00 -7.95522222e-01]\n",
      " [ 4.01187549e-01  4.25676687e-02]]\n"
     ]
    }
   ],
   "source": [
    "# 결과 출력\n",
    "print(\"원본 데이터셋 크기: \", X.shape)\n",
    "print(\"인자 분석 결과 (인자 개수={}):\".format(n_components))\n",
    "print(X_factors)"
   ]
  },
  {
   "cell_type": "code",
   "execution_count": 16,
   "id": "47a1ccab",
   "metadata": {},
   "outputs": [],
   "source": [
    "from sklearn.datasets import make_blobs\n",
    "from sklearn.cluster import KMeans"
   ]
  },
  {
   "cell_type": "code",
   "execution_count": 17,
   "id": "f89e3d7a",
   "metadata": {},
   "outputs": [
    {
     "name": "stderr",
     "output_type": "stream",
     "text": [
      "C:\\Users\\noeyx\\anaconda3\\envs\\AI\\lib\\site-packages\\sklearn\\cluster\\_kmeans.py:870: FutureWarning: The default value of `n_init` will change from 10 to 'auto' in 1.4. Set the value of `n_init` explicitly to suppress the warning\n",
      "  warnings.warn(\n"
     ]
    },
    {
     "data": {
      "text/html": [
       "<style>#sk-container-id-2 {color: black;background-color: white;}#sk-container-id-2 pre{padding: 0;}#sk-container-id-2 div.sk-toggleable {background-color: white;}#sk-container-id-2 label.sk-toggleable__label {cursor: pointer;display: block;width: 100%;margin-bottom: 0;padding: 0.3em;box-sizing: border-box;text-align: center;}#sk-container-id-2 label.sk-toggleable__label-arrow:before {content: \"▸\";float: left;margin-right: 0.25em;color: #696969;}#sk-container-id-2 label.sk-toggleable__label-arrow:hover:before {color: black;}#sk-container-id-2 div.sk-estimator:hover label.sk-toggleable__label-arrow:before {color: black;}#sk-container-id-2 div.sk-toggleable__content {max-height: 0;max-width: 0;overflow: hidden;text-align: left;background-color: #f0f8ff;}#sk-container-id-2 div.sk-toggleable__content pre {margin: 0.2em;color: black;border-radius: 0.25em;background-color: #f0f8ff;}#sk-container-id-2 input.sk-toggleable__control:checked~div.sk-toggleable__content {max-height: 200px;max-width: 100%;overflow: auto;}#sk-container-id-2 input.sk-toggleable__control:checked~label.sk-toggleable__label-arrow:before {content: \"▾\";}#sk-container-id-2 div.sk-estimator input.sk-toggleable__control:checked~label.sk-toggleable__label {background-color: #d4ebff;}#sk-container-id-2 div.sk-label input.sk-toggleable__control:checked~label.sk-toggleable__label {background-color: #d4ebff;}#sk-container-id-2 input.sk-hidden--visually {border: 0;clip: rect(1px 1px 1px 1px);clip: rect(1px, 1px, 1px, 1px);height: 1px;margin: -1px;overflow: hidden;padding: 0;position: absolute;width: 1px;}#sk-container-id-2 div.sk-estimator {font-family: monospace;background-color: #f0f8ff;border: 1px dotted black;border-radius: 0.25em;box-sizing: border-box;margin-bottom: 0.5em;}#sk-container-id-2 div.sk-estimator:hover {background-color: #d4ebff;}#sk-container-id-2 div.sk-parallel-item::after {content: \"\";width: 100%;border-bottom: 1px solid gray;flex-grow: 1;}#sk-container-id-2 div.sk-label:hover label.sk-toggleable__label {background-color: #d4ebff;}#sk-container-id-2 div.sk-serial::before {content: \"\";position: absolute;border-left: 1px solid gray;box-sizing: border-box;top: 0;bottom: 0;left: 50%;z-index: 0;}#sk-container-id-2 div.sk-serial {display: flex;flex-direction: column;align-items: center;background-color: white;padding-right: 0.2em;padding-left: 0.2em;position: relative;}#sk-container-id-2 div.sk-item {position: relative;z-index: 1;}#sk-container-id-2 div.sk-parallel {display: flex;align-items: stretch;justify-content: center;background-color: white;position: relative;}#sk-container-id-2 div.sk-item::before, #sk-container-id-2 div.sk-parallel-item::before {content: \"\";position: absolute;border-left: 1px solid gray;box-sizing: border-box;top: 0;bottom: 0;left: 50%;z-index: -1;}#sk-container-id-2 div.sk-parallel-item {display: flex;flex-direction: column;z-index: 1;position: relative;background-color: white;}#sk-container-id-2 div.sk-parallel-item:first-child::after {align-self: flex-end;width: 50%;}#sk-container-id-2 div.sk-parallel-item:last-child::after {align-self: flex-start;width: 50%;}#sk-container-id-2 div.sk-parallel-item:only-child::after {width: 0;}#sk-container-id-2 div.sk-dashed-wrapped {border: 1px dashed gray;margin: 0 0.4em 0.5em 0.4em;box-sizing: border-box;padding-bottom: 0.4em;background-color: white;}#sk-container-id-2 div.sk-label label {font-family: monospace;font-weight: bold;display: inline-block;line-height: 1.2em;}#sk-container-id-2 div.sk-label-container {text-align: center;}#sk-container-id-2 div.sk-container {/* jupyter's `normalize.less` sets `[hidden] { display: none; }` but bootstrap.min.css set `[hidden] { display: none !important; }` so we also need the `!important` here to be able to override the default hidden behavior on the sphinx rendered scikit-learn.org. See: https://github.com/scikit-learn/scikit-learn/issues/21755 */display: inline-block !important;position: relative;}#sk-container-id-2 div.sk-text-repr-fallback {display: none;}</style><div id=\"sk-container-id-2\" class=\"sk-top-container\"><div class=\"sk-text-repr-fallback\"><pre>KMeans(n_clusters=4, random_state=42)</pre><b>In a Jupyter environment, please rerun this cell to show the HTML representation or trust the notebook. <br />On GitHub, the HTML representation is unable to render, please try loading this page with nbviewer.org.</b></div><div class=\"sk-container\" hidden><div class=\"sk-item\"><div class=\"sk-estimator sk-toggleable\"><input class=\"sk-toggleable__control sk-hidden--visually\" id=\"sk-estimator-id-2\" type=\"checkbox\" checked><label for=\"sk-estimator-id-2\" class=\"sk-toggleable__label sk-toggleable__label-arrow\">KMeans</label><div class=\"sk-toggleable__content\"><pre>KMeans(n_clusters=4, random_state=42)</pre></div></div></div></div></div>"
      ],
      "text/plain": [
       "KMeans(n_clusters=4, random_state=42)"
      ]
     },
     "execution_count": 17,
     "metadata": {},
     "output_type": "execute_result"
    }
   ],
   "source": [
    "# 데이터 랜덤 생성 \n",
    "x,y = make_blobs(n_samples=100, centers=4, random_state=42)\n",
    "\n",
    "#K-means 알고리즘 적용\n",
    "kmeans =KMeans(n_clusters=4, random_state=42)\n",
    "kmeans.fit(X)"
   ]
  },
  {
   "cell_type": "code",
   "execution_count": 18,
   "id": "8c92ac41",
   "metadata": {},
   "outputs": [
    {
     "name": "stdout",
     "output_type": "stream",
     "text": [
      "군집 중심점:\n",
      "[[ 0.27587516  0.03157909 -1.05003398 -0.78549854  0.01419684]\n",
      " [ 0.34679158  0.51686201 -0.32133235  1.29385375  0.43319955]\n",
      " [-1.47023439  0.43495823  0.11537175 -0.26427949  1.29649036]\n",
      " [-0.05009849 -0.47132919  0.64585886 -0.24058663 -0.33681994]]\n",
      "군집 예측 결과:\n",
      "[1 2 1 1 2 2 0 3 1 3 0 3 0 3 3 0 2 0 1 3 0 1 1 1 3 3 0 1 2 3 0 0 3 1 3 0 0\n",
      " 2 2 1 3 2 3 1 3 3 3 1 3 3 3 0 3 3 3 2 1 3 3 3 2 0 0 0 3 3 3 3 0 3 3 3 3 3\n",
      " 3 0 0 1 0 1 3 3 2 1 0 0 3 1 3 0 2 0 3 0 2 1 0 2 2 0]\n"
     ]
    }
   ],
   "source": [
    "# 군집 중심점 확인 \n",
    "centroids = kmeans.cluster_centers_\n",
    "print(\"군집 중심점:\")\n",
    "print(centroids)\n",
    "\n",
    "# 군집 예측 결과 확인\n",
    "labels= kmeans.labels_\n",
    "print(\"군집 예측 결과:\")\n",
    "print(labels)\n",
    "\n",
    "#결과 해석\n",
    "for i in range(len(centroids)):\n",
    "    cluster_data= X[labels==i] # 해당 군집에 속하는 데이터\n",
    "    cluster_center = centroids[i] # 해당 군집의 중심점\n",
    "    "
   ]
  },
  {
   "cell_type": "code",
   "execution_count": null,
   "id": "2fc0dc29",
   "metadata": {},
   "outputs": [],
   "source": []
  }
 ],
 "metadata": {
  "kernelspec": {
   "display_name": "AI",
   "language": "python",
   "name": "ai"
  },
  "language_info": {
   "codemirror_mode": {
    "name": "ipython",
    "version": 3
   },
   "file_extension": ".py",
   "mimetype": "text/x-python",
   "name": "python",
   "nbconvert_exporter": "python",
   "pygments_lexer": "ipython3",
   "version": "3.8.16"
  }
 },
 "nbformat": 4,
 "nbformat_minor": 5
}
