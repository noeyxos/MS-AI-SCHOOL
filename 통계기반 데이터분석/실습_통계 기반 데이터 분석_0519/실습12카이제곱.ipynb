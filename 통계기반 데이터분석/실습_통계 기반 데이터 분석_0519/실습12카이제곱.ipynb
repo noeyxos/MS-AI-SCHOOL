{
 "cells": [
  {
   "cell_type": "code",
   "execution_count": 1,
   "id": "900b0c94",
   "metadata": {},
   "outputs": [
    {
     "name": "stdout",
     "output_type": "stream",
     "text": [
      "Requirement already satisfied: scipy in c:\\users\\noeyx\\anaconda3\\lib\\site-packages (1.10.0)\n",
      "Requirement already satisfied: numpy<1.27.0,>=1.19.5 in c:\\users\\noeyx\\anaconda3\\lib\\site-packages (from scipy) (1.23.5)\n"
     ]
    }
   ],
   "source": [
    "!pip install scipy"
   ]
  },
  {
   "cell_type": "code",
   "execution_count": 2,
   "id": "f43a74df",
   "metadata": {},
   "outputs": [
    {
     "ename": "ImportError",
     "evalue": "cannot import name 'chi2_contigency' from 'scipy.stats' (C:\\Users\\noeyx\\anaconda3\\envs\\AI\\lib\\site-packages\\scipy\\stats\\__init__.py)",
     "output_type": "error",
     "traceback": [
      "\u001b[1;31m---------------------------------------------------------------------------\u001b[0m",
      "\u001b[1;31mImportError\u001b[0m                               Traceback (most recent call last)",
      "Cell \u001b[1;32mIn[2], line 2\u001b[0m\n\u001b[0;32m      1\u001b[0m \u001b[38;5;28;01mimport\u001b[39;00m \u001b[38;5;21;01mnumpy\u001b[39;00m \u001b[38;5;28;01mas\u001b[39;00m \u001b[38;5;21;01mnp\u001b[39;00m\n\u001b[1;32m----> 2\u001b[0m \u001b[38;5;28;01mfrom\u001b[39;00m \u001b[38;5;21;01mscipy\u001b[39;00m\u001b[38;5;21;01m.\u001b[39;00m\u001b[38;5;21;01mstats\u001b[39;00m \u001b[38;5;28;01mimport\u001b[39;00m chi2_contigency\n\u001b[0;32m      4\u001b[0m \u001b[38;5;66;03m# 예시 데이터 생성\u001b[39;00m\n\u001b[0;32m      5\u001b[0m observed_values \u001b[38;5;241m=\u001b[39m np\u001b[38;5;241m.\u001b[39marray([[\u001b[38;5;241m10\u001b[39m,\u001b[38;5;241m20\u001b[39m,\u001b[38;5;241m30\u001b[39m],[\u001b[38;5;241m6\u001b[39m,\u001b[38;5;241m15\u001b[39m,\u001b[38;5;241m9\u001b[39m]])\n",
      "\u001b[1;31mImportError\u001b[0m: cannot import name 'chi2_contigency' from 'scipy.stats' (C:\\Users\\noeyx\\anaconda3\\envs\\AI\\lib\\site-packages\\scipy\\stats\\__init__.py)"
     ]
    }
   ],
   "source": [
    "import numpy as np\n",
    "from scipy.stats import chi2_contigency\n",
    "\n",
    "# 예시 데이터 생성\n",
    "observed_values = np.array([[10,20,30],[6,15,9]])\n",
    "\n",
    "# 카이제곱 검정 수행\n",
    "chi2, p_value, dof, expected_values = chi2_contigency(observed_values)\n",
    "\n",
    "#결과 출력\n",
    "print(f\"카이제곱 통계량: {chi2}\")\n",
    "print(f\"p_value: {p_value}\")\n",
    "print(f\"자유도: {dof}\")\n",
    "print(\"기대값:\")\n",
    "print(expected_values)"
   ]
  },
  {
   "cell_type": "code",
   "execution_count": null,
   "id": "639c347d",
   "metadata": {},
   "outputs": [],
   "source": []
  }
 ],
 "metadata": {
  "kernelspec": {
   "display_name": "AI",
   "language": "python",
   "name": "ai"
  },
  "language_info": {
   "codemirror_mode": {
    "name": "ipython",
    "version": 3
   },
   "file_extension": ".py",
   "mimetype": "text/x-python",
   "name": "python",
   "nbconvert_exporter": "python",
   "pygments_lexer": "ipython3",
   "version": "3.8.16"
  }
 },
 "nbformat": 4,
 "nbformat_minor": 5
}
