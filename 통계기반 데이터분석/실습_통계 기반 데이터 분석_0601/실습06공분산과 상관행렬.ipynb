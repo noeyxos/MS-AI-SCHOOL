{
 "cells": [
  {
   "cell_type": "code",
   "execution_count": 1,
   "id": "19eeda84",
   "metadata": {},
   "outputs": [],
   "source": [
    "import numpy as np"
   ]
  },
  {
   "cell_type": "code",
   "execution_count": 2,
   "id": "6495f118",
   "metadata": {},
   "outputs": [
    {
     "name": "stdout",
     "output_type": "stream",
     "text": [
      "Covariance Matrix\n",
      "[[ 2.5  5.   7.5]\n",
      " [ 5.  10.  15. ]\n",
      " [ 7.5 15.  22.5]]\n",
      "\n",
      "Correlation Matrix:\n",
      "[[1. 1. 1.]\n",
      " [1. 1. 1.]\n",
      " [1. 1. 1.]]\n"
     ]
    }
   ],
   "source": [
    "# 예시 데이터 생성\n",
    "x =np.array([1,2,3,4,5]) # 변수 x의 값\n",
    "y =np.array([2,4,6,8,10]) # 변수 y의 값\n",
    "z =np.array([3,6,9,12,15]) # 변수 z의 값\n",
    "\n",
    "# 공분산 계산\n",
    "cov_matrix = np.cov([x,y,z])\n",
    "print(\"Covariance Matrix\")\n",
    "print(cov_matrix)\n",
    "\n",
    "# 상관 행렬 계산\n",
    "cov_matrix = np.corrcoef([x,y,z])\n",
    "print(\"\\nCorrelation Matrix:\")\n",
    "print(cov_matrix)"
   ]
  },
  {
   "cell_type": "code",
   "execution_count": 12,
   "id": "60cd5ab9",
   "metadata": {},
   "outputs": [
    {
     "name": "stdout",
     "output_type": "stream",
     "text": [
      "Correlation Coefficients:\n",
      "[[1. 1. 1.]\n",
      " [1. 1. 1.]\n",
      " [1. 1. 1.]]\n",
      "\n",
      "Variables with high multicollinearity\n",
      "Varialble 1 and Variable 2\n",
      "Varialble 1 and Variable 3\n",
      "Varialble 2 and Variable 3\n"
     ]
    }
   ],
   "source": [
    "# 예시 데이터 생성\n",
    "x1 =np.array([1,2,3,4,5]) # 변수 x1의 값\n",
    "x2 =np.array([2,4,6,8,10]) # 변수 x2의 값\n",
    "x3 =np.array([3,6,9,12,15]) # 변수 x3의 값\n",
    "\n",
    "# 데이터 행렬 생성 \n",
    "data = np.vstack([x1,x2,x3]).T\n",
    "\n",
    "# 상관 행렬 계산 \n",
    "cor_matrix = np.corrcoef(data,rowvar=False)\n",
    "\n",
    "# 각 변수들 간의 상관 계수 출력\n",
    "print(\"Correlation Coefficients:\")\n",
    "print(cor_matrix)\n",
    "\n",
    "# 다중 공선성 판단\n",
    "threshold = 0.7 #상관 계수의 임계값 설정\n",
    "\n",
    "print(\"\\nVariables with high multicollinearity\")\n",
    "for i in range(cor_matrix.shape[0]):\n",
    "    for j in range(i+1, cor_matrix.shape[1]):\n",
    "        if abs(cor_matrix[i,j])>threshold:\n",
    "            print(f\"Varialble {i+1} and Variable {j+1}\")"
   ]
  },
  {
   "cell_type": "code",
   "execution_count": null,
   "id": "883e5fa9",
   "metadata": {},
   "outputs": [],
   "source": []
  }
 ],
 "metadata": {
  "kernelspec": {
   "display_name": "AI",
   "language": "python",
   "name": "ai"
  },
  "language_info": {
   "codemirror_mode": {
    "name": "ipython",
    "version": 3
   },
   "file_extension": ".py",
   "mimetype": "text/x-python",
   "name": "python",
   "nbconvert_exporter": "python",
   "pygments_lexer": "ipython3",
   "version": "3.8.16"
  }
 },
 "nbformat": 4,
 "nbformat_minor": 5
}
