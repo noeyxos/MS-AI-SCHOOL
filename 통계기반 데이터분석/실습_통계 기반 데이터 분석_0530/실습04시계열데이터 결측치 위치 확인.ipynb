{
 "cells": [
  {
   "cell_type": "code",
   "execution_count": 1,
   "id": "27ab6a5b",
   "metadata": {},
   "outputs": [],
   "source": [
    "import pandas as pd\n",
    "import numpy as np"
   ]
  },
  {
   "cell_type": "code",
   "execution_count": 2,
   "id": "f68b08d7",
   "metadata": {},
   "outputs": [
    {
     "name": "stdout",
     "output_type": "stream",
     "text": [
      "     A     B     C\n",
      "0  1.0   6.0  11.0\n",
      "1  2.0   NaN  12.0\n",
      "2  NaN   8.0  13.0\n",
      "3  4.0   9.0   NaN\n",
      "4  5.0  10.0  15.0\n"
     ]
    }
   ],
   "source": [
    "# 예시 데이터셋 생성\n",
    "data = pd.DataFrame({'A':[1,2, np.nan, 4,5],\n",
    "                    'B':[6, np.nan, 8,9,10],\n",
    "                    'C':[11,12,13, np.nan, 15]})\n",
    "print(data)"
   ]
  },
  {
   "cell_type": "code",
   "execution_count": 3,
   "id": "d8ddacf9",
   "metadata": {},
   "outputs": [
    {
     "name": "stdout",
     "output_type": "stream",
     "text": [
      "       A      B      C\n",
      "0  False  False  False\n",
      "1  False   True  False\n",
      "2   True  False  False\n",
      "3  False  False   True\n",
      "4  False  False  False\n"
     ]
    }
   ],
   "source": [
    "#결측치 위치 확인\n",
    "print(data.isnull())"
   ]
  },
  {
   "cell_type": "code",
   "execution_count": 9,
   "id": "e6ed2085",
   "metadata": {},
   "outputs": [
    {
     "name": "stdout",
     "output_type": "stream",
     "text": [
      "     A    B     C\n",
      "0  1.0  NaN  11.0\n",
      "1  NaN  7.0   NaN\n",
      "2  3.0  8.0  13.0\n",
      "3  NaN  9.0   NaN\n",
      "4  5.0  NaN  15.0\n"
     ]
    }
   ],
   "source": [
    "# 데이터셋에서 결측치의 위치 확인 방법 \n",
    "# 히트맵 시각화 \n",
    "\n",
    "import seaborn as sns\n",
    "import matplotlib.pyplot as plt\n",
    "\n",
    "# 예시 데이터셋 생성\n",
    "hit_data = pd.DataFrame({'A':[1,np.nan, 3, np.nan,5],\n",
    "                    'B':[np.nan, 7, 8,9,np.nan],\n",
    "                    'C':[11,np.nan,13, np.nan, 15]})\n",
    "print(hit_data)"
   ]
  },
  {
   "cell_type": "code",
   "execution_count": 10,
   "id": "faf5f664",
   "metadata": {},
   "outputs": [
    {
     "data": {
      "image/png": "[encoded data removed]",
      "text/plain": [
       "<Figure size 800x600 with 1 Axes>"
      ]
     },
     "metadata": {},
     "output_type": "display_data"
    }
   ],
   "source": [
    "# 결측치 위치 확인을 위한 히트맵 시각화 \n",
    "plt.figure(figsize=(8,6))\n",
    "sns.heatmap(hit_data.isnull(), cmap='viridis', cbar=False)\n",
    "plt.title('Missing Values Heatmap')\n",
    "plt.show()"
   ]
  },
  {
   "cell_type": "code",
   "execution_count": 13,
   "id": "efcb5f72",
   "metadata": {},
   "outputs": [
    {
     "name": "stdout",
     "output_type": "stream",
     "text": [
      "A    2\n",
      "B    3\n",
      "C    2\n",
      "dtype: int64\n"
     ]
    }
   ],
   "source": [
    "# 예시 데이터셋 생성\n",
    "data = pd.DataFrame({\n",
    "    'A':[1,np.nan, 3, np.nan,5],\n",
    "    'B':[np.nan, 7, np.nan,9,np.nan],\n",
    "    'C':[11,np.nan,13, np.nan, 15]\n",
    "})\n",
    "\n",
    "# 결측치 개수 확인\n",
    "missing_count = data.isnull().sum()\n",
    "print(missing_count)"
   ]
  },
  {
   "cell_type": "code",
   "execution_count": null,
   "id": "c0a46dbf",
   "metadata": {},
   "outputs": [],
   "source": []
  }
 ],
 "metadata": {
  "kernelspec": {
   "display_name": "AI",
   "language": "python",
   "name": "ai"
  },
  "language_info": {
   "codemirror_mode": {
    "name": "ipython",
    "version": 3
   },
   "file_extension": ".py",
   "mimetype": "text/x-python",
   "name": "python",
   "nbconvert_exporter": "python",
   "pygments_lexer": "ipython3",
   "version": "3.8.16"
  }
 },
 "nbformat": 4,
 "nbformat_minor": 5
}
