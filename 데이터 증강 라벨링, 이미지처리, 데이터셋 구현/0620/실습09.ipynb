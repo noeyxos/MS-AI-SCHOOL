{
 "cells": [
  {
   "cell_type": "markdown",
   "id": "3df261f3",
   "metadata": {},
   "source": [
    "# GTZAN Dataset image 프로세싱 - 비율 유지하고 리사이즈 작업 진행하기"
   ]
  },
  {
   "cell_type": "code",
   "execution_count": 4,
   "id": "6ffd4d78",
   "metadata": {},
   "outputs": [],
   "source": [
    "# 이미지 프로세싱 원본 비율에 맞게 정사각형 만들기\n",
    "from PIL import Image\n",
    "import os\n",
    "import glob"
   ]
  },
  {
   "cell_type": "code",
   "execution_count": 20,
   "id": "c0694840",
   "metadata": {},
   "outputs": [
    {
     "name": "stderr",
     "output_type": "stream",
     "text": [
      "C:\\Users\\noeyx\\AppData\\Local\\Temp\\ipykernel_2904\\169788201.py:18: DeprecationWarning: ANTIALIAS is deprecated and will be removed in Pillow 10 (2023-07-01). Use LANCZOS or Resampling.LANCZOS instead.\n",
      "  img = img.resize((new_size[0], new_size[1]), resample=Image.ANTIALIAS)\n"
     ]
    }
   ],
   "source": [
    "# Waveshow, STFT, 멜 스펙트로그램 이미지 경로 지정\n",
    "def expend2square(pil_img, background_color):\n",
    "    width, height = pil_img.size\n",
    "    \n",
    "    if width == height:\n",
    "        return pil_img\n",
    "    \n",
    "    elif width > height:\n",
    "        result = Image.new(pil_img.mode, (width, width), background_color)\n",
    "        result.paste(pil_img, ((width - height) // 2, 0))\n",
    "        return result\n",
    "    else:\n",
    "        result = Image.new(pil_img.mode, (height, height), background_color)\n",
    "        result.paste(pil_img, (0, (height - width) // 2))\n",
    "        return result\n",
    "    \n",
    "def resize_with_padding(pil_img, new_size, background_color):\n",
    "    img = expend2square(pil_img, background_color)\n",
    "    img = img.resize((new_size[0], new_size[1]), resample=Image.ANTIALIAS)\n",
    "\n",
    "    return img\n",
    "\n",
    "img_path_list = glob.glob(os.path.join(\"./\", \"*.png\"))\n",
    "\n",
    "# 폴더 생성\n",
    "os.makedirs(\"./data\", exist_ok=True)\n",
    "\n",
    "for i, image_path in enumerate(img_path_list):\n",
    "    img = Image.open(image_path)\n",
    "    img_new = resize_with_padding(img, (255, 255), (0, 0, 0))\n",
    "    \n",
    "    save_file_name = f\"./data/audio_visualization_resize_{str(i).zfill(4)}.png\"\n",
    "    img_new.save(save_file_name, \"png\")\n"
   ]
  },
  {
   "cell_type": "code",
   "execution_count": null,
   "id": "a7379f31",
   "metadata": {},
   "outputs": [],
   "source": []
  }
 ],
 "metadata": {
  "kernelspec": {
   "display_name": "AI_23",
   "language": "python",
   "name": "ai_23"
  },
  "language_info": {
   "codemirror_mode": {
    "name": "ipython",
    "version": 3
   },
   "file_extension": ".py",
   "mimetype": "text/x-python",
   "name": "python",
   "nbconvert_exporter": "python",
   "pygments_lexer": "ipython3",
   "version": "3.8.16"
  }
 },
 "nbformat": 4,
 "nbformat_minor": 5
}
