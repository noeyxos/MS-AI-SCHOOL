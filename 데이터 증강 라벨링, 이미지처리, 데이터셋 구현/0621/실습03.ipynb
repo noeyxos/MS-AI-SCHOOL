{
 "cells": [
  {
   "cell_type": "code",
   "execution_count": 3,
   "id": "59fc2b2b",
   "metadata": {},
   "outputs": [],
   "source": [
    "from pytube import YouTube"
   ]
  },
  {
   "cell_type": "code",
   "execution_count": 14,
   "id": "c85075bd",
   "metadata": {},
   "outputs": [
    {
     "name": "stdout",
     "output_type": "stream",
     "text": [
      "제목:  홈페이지 배경 샘플 영상 - 바다\n"
     ]
    },
    {
     "data": {
      "text/plain": [
       "'C:\\\\Users\\\\noeyx\\\\MS_AI_SCHOOL\\\\실습_데이터 증강 라벨링, 이미지처리, 데이터셋 구현_0621\\\\홈페이지 배경 샘플 영상 - 바다.mp4'"
      ]
     },
     "execution_count": 14,
     "metadata": {},
     "output_type": "execute_result"
    }
   ],
   "source": [
    "# 다운로드 받을 동영상 URL 설정\n",
    "url = \"https://www.youtube.com/watch?v=ILqJOHYYlkc\"\n",
    "\n",
    "# Youtube 객체 생성 \n",
    "yt = YouTube(url)\n",
    "\n",
    "# 동영상의 제목 출력\n",
    "print(\"제목: \", yt.title)\n",
    "\n",
    "# 다운로드 가능한 형식 중에서 가장 높은 화질을 가진 스트림 선택\n",
    "stream = yt.streams.filter(progressive=True, file_extension='mp4').order_by('resolution').desc().first()\n",
    "\n",
    "# 동영상 다운로드\n",
    "stream.download()"
   ]
  },
  {
   "cell_type": "code",
   "execution_count": 13,
   "id": "5e89deca",
   "metadata": {},
   "outputs": [],
   "source": [
    "import cv2\n",
    "import os\n",
    "\n",
    "# 동영상 파일 열기 \n",
    "cap = cv2.VideoCapture('./홈페이지 배경 샘플 영상 - 바다.mp4')\n",
    "\n",
    "\n",
    "# 동영상 정보 출력\n",
    "# print('동영상 프레임 수 :', int(cap.get(cv2.CAP_PROP_FRAME_COUNT)))\n",
    "# print('동영상 가로 길이 :', int(cap.get(cv2.CAP_PROP_FRAME_WIDTH)))\n",
    "# print('동영상 세로 길이 :', int(cap.get(cv2.CAP_PROP_FRAME_HEIGHT)))\n",
    "# print('FPS : ', int(cap.get(cv2.CAP_PROP_FPS)))\n",
    "\n",
    "# 저장할 이미지 개수 초기화\n",
    "img_count = 0\n",
    "\n",
    "# 이미지 저장하는 폴더 구성 \n",
    "os.makedirs(\"./video_frame_dataset/\", exist_ok = True)\n",
    "\n",
    "# 프레임 단위로 이미지 저장하기 \n",
    "while True:\n",
    "    # 프레임 읽어오기\n",
    "    ret, frame =  cap.read()\n",
    "    \n",
    "    #  동영상 끝까지 읽으면 종료 \n",
    "    if not ret:\n",
    "        break\n",
    "        \n",
    "    # 15 프레임 단위로 이미지 저장\n",
    "    if img_count % 15 == 0:\n",
    "        # 이미지 저장하기\n",
    "        img_filename = f\"./video_frame_dataset/frame_{img_count:04d}.png\"\n",
    "        \n",
    "        cv2.imwrite(img_filename, frame)\n",
    "        \n",
    "    img_count += 1\n",
    "    \n",
    "# 동영상 파일 닫기\n",
    "cap.release()"
   ]
  },
  {
   "cell_type": "code",
   "execution_count": null,
   "id": "005369ec",
   "metadata": {},
   "outputs": [],
   "source": []
  }
 ],
 "metadata": {
  "kernelspec": {
   "display_name": "AI",
   "language": "python",
   "name": "ai"
  },
  "language_info": {
   "codemirror_mode": {
    "name": "ipython",
    "version": 3
   },
   "file_extension": ".py",
   "mimetype": "text/x-python",
   "name": "python",
   "nbconvert_exporter": "python",
   "pygments_lexer": "ipython3",
   "version": "3.8.16"
  }
 },
 "nbformat": 4,
 "nbformat_minor": 5
}
