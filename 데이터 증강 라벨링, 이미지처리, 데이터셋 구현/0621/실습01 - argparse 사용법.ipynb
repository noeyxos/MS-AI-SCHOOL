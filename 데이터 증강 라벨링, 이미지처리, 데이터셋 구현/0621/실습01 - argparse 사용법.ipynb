{
 "cells": [
  {
   "cell_type": "code",
   "execution_count": 2,
   "id": "924c5fcb",
   "metadata": {},
   "outputs": [
    {
     "name": "stdout",
     "output_type": "stream",
     "text": [
      "100 mode01\n"
     ]
    }
   ],
   "source": [
    "import argparse\n",
    "\n",
    "##### 인자값 받을 수 있는 인스턴스 생성 #####\n",
    "parser = argparse.ArgumentParser(description = \" 사용법 테스트 \")\n",
    "\n",
    "##### 입력받을 인자값 등록 #####\n",
    "parser.add_argument('--target', type=str, default=\"mode01\", help = \"target is ?????\")\n",
    "parser.add_argument('--epochs', type=int, default=100, help = \"total training epochs\")\n",
    "\n",
    "##### -> --nosave -> 값이 true #####\n",
    "parser.add_argument('--nosave', action='store_true', help='only save final checkpoint')\n",
    "\n",
    "##### 인자받을 인자값을 args에 저장 #####\n",
    "# args = parser.parse_args()\n",
    "args = parser.parse_args(args=[])\n",
    "\n",
    "#####\n",
    "epochs = args.epochs\n",
    "target = args.target\n",
    "print(epochs, target) ### 100 model01\n"
   ]
  },
  {
   "cell_type": "code",
   "execution_count": null,
   "id": "e2484b65",
   "metadata": {},
   "outputs": [],
   "source": []
  }
 ],
 "metadata": {
  "kernelspec": {
   "display_name": "AI_23",
   "language": "python",
   "name": "ai_23"
  },
  "language_info": {
   "codemirror_mode": {
    "name": "ipython",
    "version": 3
   },
   "file_extension": ".py",
   "mimetype": "text/x-python",
   "name": "python",
   "nbconvert_exporter": "python",
   "pygments_lexer": "ipython3",
   "version": "3.8.16"
  }
 },
 "nbformat": 4,
 "nbformat_minor": 5
}
