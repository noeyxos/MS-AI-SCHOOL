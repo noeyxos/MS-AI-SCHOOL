{
 "cells": [
  {
   "cell_type": "code",
   "execution_count": 1,
   "id": "51cf00b1",
   "metadata": {},
   "outputs": [],
   "source": [
    "import cv2\n",
    "import os\n",
    "import json "
   ]
  },
  {
   "cell_type": "code",
   "execution_count": 16,
   "id": "44806ce5",
   "metadata": {},
   "outputs": [],
   "source": [
    "# Json 파일 경로 : 해당하는 영상의 json 을 읽어야합니다. \n",
    "json_path = \"raw_data\\\\json\\\\Stealing_Courier\\\\C041_A30_SY32_P07_S06_02DAS.json\"\n",
    "\n",
    "folder_name = json_path.split(\"\\\\\")[2]\n",
    "file_name = json_path.split(\"\\\\\")[-1]\n",
    "file_name = file_name.replace(\".json\",\"\")\n",
    "\n",
    "\n",
    "# 추출한 이미지 저장 폴더\n",
    "os.makedirs(f\"./AI_hub_final_data/{folder_name}/{file_name}\", exist_ok=True)\n",
    "   \n",
    "#jSON 파일 읽기\n",
    "with open(json_path, 'r', encoding='utf-8') as f:\n",
    "    json_data=json.load(f)\n",
    "\n",
    "# jSON 데이터 출력 \n",
    "# print(json_data)\n",
    "\n",
    "# Json metadata\n",
    "matadate_info = json_data[\"metadata\"]\n",
    "\n",
    "# Json Categories data\n",
    "categories_info = json_data[\"categories\"]\n",
    "# print(categories_info)\n",
    "\n",
    "# crime 범죄 명칭 / action 명칭 체크 / symptom\n",
    "crime_info = categories_info[\"crime\"]\n",
    "action_info = categories_info['action']\n",
    "# print(action_info)\n",
    "# 'A30': '택배 훔쳐가기'\n",
    "\n",
    "symptom_info =  categories_info['symptom']\n",
    "\n",
    "# 저장된 동영상에서 프레임 추출\n",
    "cap = cv2.VideoCapture(\"./raw_data/video/Stealing_Courier/C041_A30_SY32_P07_S06_02DAS.mp4\")\n",
    "frame_count = int(cap.get(cv2.CAP_PROP_FRAME_COUNT))\n",
    "fps = int(cap.get(cv2.CAP_PROP_FPS))\n",
    "\n",
    "file_info = json_data['file']\n",
    "\n",
    "for i in file_info :\n",
    "    videos_info = i['videos']\n",
    "    block_information = videos_info['block_information']\n",
    "#     print(videos_info)\n",
    "    count = 0\n",
    "    for j in block_information :\n",
    "        if j['block_detail'] == 'A30' :\n",
    "#             print(j)\n",
    "            start_time = j['start_time']\n",
    "            end_time = j['end_time']\n",
    "            start_frame_index = j['start_frame_index']\n",
    "            end_frame_index = j['end_frame_index']\n",
    "#             print(start_time, end_time, start_frame_index,end_frame_index)\n",
    "            \n",
    "            for frame_idx in range(int(start_frame_index), int(end_frame_index), 30) :\n",
    "                cap.set(cv2.CAP_PROP_POS_FRAMES, frame_idx)\n",
    "                ret, frame = cap.read()\n",
    "                if ret:\n",
    "                    img_name = f'./AI_hub_final_data/{folder_name}/{file_name}/frame_{str(count).zfill(4)}.png'\n",
    "                    cv2.imwrite(img_name, frame)\n",
    "                    count += 1\n",
    "    cap.release()"
   ]
  },
  {
   "cell_type": "code",
   "execution_count": null,
   "id": "7e0dcdf3",
   "metadata": {},
   "outputs": [],
   "source": []
  }
 ],
 "metadata": {
  "kernelspec": {
   "display_name": "AI",
   "language": "python",
   "name": "ai"
  },
  "language_info": {
   "codemirror_mode": {
    "name": "ipython",
    "version": 3
   },
   "file_extension": ".py",
   "mimetype": "text/x-python",
   "name": "python",
   "nbconvert_exporter": "python",
   "pygments_lexer": "ipython3",
   "version": "3.8.16"
  }
 },
 "nbformat": 4,
 "nbformat_minor": 5
}
