{
 "cells": [
  {
   "cell_type": "code",
   "execution_count": 2,
   "id": "807a5ac0",
   "metadata": {},
   "outputs": [],
   "source": [
    "import cv2\n",
    "import os\n",
    "\n",
    "video_data_path = \"./video_sample_data/video/C041_A30_SY32_P07_S06_02DAS.mp4\"\n",
    "\n",
    "\n",
    "# 동영상 파일 열기 \n",
    "cap = cv2.VideoCapture(video_data_path)\n",
    "\n",
    "# 저장할 이미지 개수 초기화\n",
    "img_count = 0\n",
    "\n",
    "\n",
    "# video folder name\n",
    "folder_name = video_data_path.split(\"\\\\\")[-1]\n",
    "folder_name = folder_name.replace(\".mp4\",\"\")\n",
    "\n",
    "# 이미지 저장하는 폴더 구성 \n",
    "os.makedirs(f\"./AI_hub_frame_dataset/{folder_name}\", exist_ok = True)\n",
    "\n",
    "# 프레임 단위로 이미지 저장하기 \n",
    "while True:\n",
    "    # 프레임 읽어오기\n",
    "    ret, frame =  cap.read()\n",
    "    \n",
    "    #  동영상 끝까지 읽으면 종료 \n",
    "    if not ret:\n",
    "        break\n",
    "        \n",
    "    # 15 프레임 단위로 이미지 저장\n",
    "    if img_count % 15 == 0:\n",
    "        # 이미지 저장하기\n",
    "        img_filename = f\"./AI_hub_frame_dataset/{folder_name}/frame_{img_count:04d}.png\"\n",
    "        \n",
    "        cv2.imwrite(img_filename, frame)\n",
    "        \n",
    "    img_count += 1\n",
    "    \n",
    "# 동영상 파일 닫기\n",
    "cap.release()"
   ]
  },
  {
   "cell_type": "code",
   "execution_count": null,
   "id": "9f4118d1",
   "metadata": {},
   "outputs": [],
   "source": []
  }
 ],
 "metadata": {
  "kernelspec": {
   "display_name": "AI",
   "language": "python",
   "name": "ai"
  },
  "language_info": {
   "codemirror_mode": {
    "name": "ipython",
    "version": 3
   },
   "file_extension": ".py",
   "mimetype": "text/x-python",
   "name": "python",
   "nbconvert_exporter": "python",
   "pygments_lexer": "ipython3",
   "version": "3.8.16"
  }
 },
 "nbformat": 4,
 "nbformat_minor": 5
}
