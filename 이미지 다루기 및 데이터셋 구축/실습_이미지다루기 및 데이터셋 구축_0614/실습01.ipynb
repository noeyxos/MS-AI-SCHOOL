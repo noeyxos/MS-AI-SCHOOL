{
 "cells": [
  {
   "cell_type": "markdown",
   "id": "ae99fad3",
   "metadata": {},
   "source": [
    "# 이미지 폴더에 있는 파일 가져오기(os.listdir)"
   ]
  },
  {
   "cell_type": "code",
   "execution_count": 4,
   "id": "f34ba7ce",
   "metadata": {},
   "outputs": [
    {
     "name": "stdout",
     "output_type": "stream",
     "text": [
      "Collecting natsort\n",
      "  Downloading natsort-8.3.1-py3-none-any.whl (38 kB)\n",
      "Installing collected packages: natsort\n",
      "Successfully installed natsort-8.3.1\n",
      "Note: you may need to restart the kernel to use updated packages.\n"
     ]
    },
    {
     "name": "stderr",
     "output_type": "stream",
     "text": [
      "  WARNING: The script natsort.exe is installed in 'C:\\Users\\noeyx\\anaconda3\\envs\\AI\\Scripts' which is not on PATH.\n",
      "  Consider adding this directory to PATH or, if you prefer to suppress this warning, use --no-warn-script-location.\n"
     ]
    }
   ],
   "source": [
    "pip install natsort"
   ]
  },
  {
   "cell_type": "code",
   "execution_count": 7,
   "id": "94f5ce08",
   "metadata": {},
   "outputs": [
    {
     "name": "stdout",
     "output_type": "stream",
     "text": [
      "['apple_1.png', 'apple_10.png', 'apple_11.png', 'apple_12.png', 'apple_13.png', 'apple_14.png', 'apple_15.png', 'apple_19.png', 'apple_2.png', 'apple_20.png', 'apple_3.png', 'apple_4.png', 'apple_6.png', 'apple_8.png', 'apple_9.png']\n"
     ]
    }
   ],
   "source": [
    "import os\n",
    "\n",
    "# 이미지가 저장되어 있는 폴더 경로\n",
    "img_dir = \"image01_data\"\n",
    "\n",
    "# 디렉토리 내 모든 파일 목록 가져오기\n",
    "file_list = os.listdir(img_dir)\n",
    "print(file_list)\n",
    "\n",
    "# 정렬되지 않습니다 !!"
   ]
  },
  {
   "cell_type": "markdown",
   "id": "34895bd3",
   "metadata": {},
   "source": [
    "### os.listdir => 정렬하기"
   ]
  },
  {
   "cell_type": "code",
   "execution_count": 8,
   "id": "dede17cb",
   "metadata": {},
   "outputs": [
    {
     "name": "stdout",
     "output_type": "stream",
     "text": [
      "['apple_1.png', 'apple_10.png', 'apple_11.png', 'apple_12.png', 'apple_13.png', 'apple_14.png', 'apple_15.png', 'apple_19.png', 'apple_2.png', 'apple_20.png', 'apple_3.png', 'apple_4.png', 'apple_6.png', 'apple_8.png', 'apple_9.png']\n"
     ]
    }
   ],
   "source": [
    "import os\n",
    "\n",
    "img_dir = \"image01_data\"\n",
    "\n",
    "#디렉토리 내 모든 파일 목록 가져오기\n",
    "file_list_temp = sorted(os.listdir(img_dir))\n",
    "print(file_list_temp)"
   ]
  },
  {
   "cell_type": "code",
   "execution_count": 9,
   "id": "62a24dc8",
   "metadata": {},
   "outputs": [
    {
     "name": "stdout",
     "output_type": "stream",
     "text": [
      "['apple_1.png', 'apple_2.png', 'apple_3.png', 'apple_4.png', 'apple_6.png', 'apple_8.png', 'apple_9.png', 'apple_10.png', 'apple_11.png', 'apple_12.png', 'apple_13.png', 'apple_14.png', 'apple_15.png', 'apple_19.png', 'apple_20.png']\n"
     ]
    }
   ],
   "source": [
    "from natsort import natsort # 문자를 기반으로 정렬하는 라이브러리\n",
    "\n",
    "\n",
    "img_dir = \"image01_data/\"\n",
    "file_list_temp01 = natsort.natsorted(os.listdir(img_dir))\n",
    "print(file_list_temp01)"
   ]
  },
  {
   "cell_type": "markdown",
   "id": "17ef9ea8",
   "metadata": {},
   "source": [
    "### glob.glob"
   ]
  },
  {
   "cell_type": "code",
   "execution_count": 12,
   "id": "052ca06e",
   "metadata": {},
   "outputs": [
    {
     "name": "stdout",
     "output_type": "stream",
     "text": [
      "['image01_data\\\\apple_1.png', 'image01_data\\\\apple_10.png', 'image01_data\\\\apple_11.png', 'image01_data\\\\apple_12.png', 'image01_data\\\\apple_13.png', 'image01_data\\\\apple_14.png', 'image01_data\\\\apple_15.png', 'image01_data\\\\apple_19.png', 'image01_data\\\\apple_2.png', 'image01_data\\\\apple_20.png', 'image01_data\\\\apple_3.png', 'image01_data\\\\apple_4.png', 'image01_data\\\\apple_6.png', 'image01_data\\\\apple_8.png', 'image01_data\\\\apple_9.png']\n"
     ]
    }
   ],
   "source": [
    "import glob  \n",
    "import os\n",
    "\n",
    "\n",
    "# 파일 경로까지 가져오는 라이브러리\n",
    "\"\"\"\n",
    "폴더 구조\n",
    "train\n",
    "    images\n",
    "        apple\n",
    "        banana\n",
    "        \n",
    "        \n",
    "\"/train/iamges/*/*.png\" \n",
    "이와 같이 아스키 코드로 경로를 설정하면 \n",
    "images 아래의 모든 폴더 안의 png파일을 모두 가져온다.\n",
    "\"\"\"\n",
    "\n",
    "image_path = \"image01_data/\"\n",
    "file_list_temp = glob.glob(image_path)\n",
    "\n",
    "\n",
    "file_list_temp = glob.glob(os.path.join(\"image01_data/\", \"*.png\")) \n",
    "print(file_list_temp)"
   ]
  },
  {
   "cell_type": "markdown",
   "id": "7e8879ac",
   "metadata": {},
   "source": [
    "### os.walk"
   ]
  },
  {
   "cell_type": "code",
   "execution_count": 19,
   "id": "95d7146d",
   "metadata": {},
   "outputs": [
    {
     "name": "stdout",
     "output_type": "stream",
     "text": [
      "path image01_data/\n",
      "dir ['.ipynb_checkpoints']\n",
      "files ['apple_1.png', 'apple_10.png', 'apple_11.png', 'apple_12.png', 'apple_13.png', 'apple_14.png', 'apple_15.png', 'apple_19.png', 'apple_2.png', 'apple_20.png', 'apple_3.png', 'apple_4.png', 'apple_6.png', 'apple_8.png', 'apple_9.png']\n",
      "ext .png\n",
      "file_path >>  image01_data/apple_1.png\n",
      "ext .png\n",
      "file_path >>  image01_data/apple_10.png\n",
      "ext .png\n",
      "file_path >>  image01_data/apple_11.png\n",
      "ext .png\n",
      "file_path >>  image01_data/apple_12.png\n",
      "ext .png\n",
      "file_path >>  image01_data/apple_13.png\n",
      "ext .png\n",
      "file_path >>  image01_data/apple_14.png\n",
      "ext .png\n",
      "file_path >>  image01_data/apple_15.png\n",
      "ext .png\n",
      "file_path >>  image01_data/apple_19.png\n",
      "ext .png\n",
      "file_path >>  image01_data/apple_2.png\n",
      "ext .png\n",
      "file_path >>  image01_data/apple_20.png\n",
      "ext .png\n",
      "file_path >>  image01_data/apple_3.png\n",
      "ext .png\n",
      "file_path >>  image01_data/apple_4.png\n",
      "ext .png\n",
      "file_path >>  image01_data/apple_6.png\n",
      "ext .png\n",
      "file_path >>  image01_data/apple_8.png\n",
      "ext .png\n",
      "file_path >>  image01_data/apple_9.png\n",
      "path image01_data/.ipynb_checkpoints\n",
      "dir []\n",
      "files []\n",
      "['image01_data/apple_1.png', 'image01_data/apple_10.png', 'image01_data/apple_11.png', 'image01_data/apple_12.png', 'image01_data/apple_13.png', 'image01_data/apple_14.png', 'image01_data/apple_15.png', 'image01_data/apple_19.png', 'image01_data/apple_2.png', 'image01_data/apple_20.png', 'image01_data/apple_3.png', 'image01_data/apple_4.png', 'image01_data/apple_6.png', 'image01_data/apple_8.png', 'image01_data/apple_9.png']\n",
      "image01_data/apple_1.png\n",
      "image01_data/apple_10.png\n",
      "image01_data/apple_11.png\n",
      "image01_data/apple_12.png\n",
      "image01_data/apple_13.png\n",
      "image01_data/apple_14.png\n",
      "image01_data/apple_15.png\n",
      "image01_data/apple_19.png\n",
      "image01_data/apple_2.png\n",
      "image01_data/apple_20.png\n",
      "image01_data/apple_3.png\n",
      "image01_data/apple_4.png\n",
      "image01_data/apple_6.png\n",
      "image01_data/apple_8.png\n",
      "image01_data/apple_9.png\n"
     ]
    }
   ],
   "source": [
    "def get_img_path(root_path) :\n",
    "    file_paths = []\n",
    "    for (path, dir, files) in os.walk(root_path):\n",
    "        print(\"path\", path)\n",
    "        print(\"dir\", dir)\n",
    "        print(\"files\", files)\n",
    "        for file in files:\n",
    "            ext = os.path.splitext(file)[-1].lower()\n",
    "            print(\"ext\", ext)\n",
    "            formats_list= [\".bmp\", \".jpg\", \".jpeg\", \".png\", \".tif\", \".gif\", \".dng\", \".tiff\"]\n",
    "            if ext in formats_list:\n",
    "                \n",
    "                \n",
    "                file_path = os.path.join(path, file)\n",
    "                print(\"file_path >> \", file_path)\n",
    "                file_paths.append(file_path)\n",
    "                \n",
    "    return file_paths\n",
    "            \n",
    "file_paths_temp = get_img_path(\"image01_data/\")\n",
    "print(file_paths_temp)\n",
    "\n",
    "for i in file_paths_temp:\n",
    "    print(i)"
   ]
  },
  {
   "cell_type": "code",
   "execution_count": null,
   "id": "453d0e2f",
   "metadata": {},
   "outputs": [],
   "source": []
  }
 ],
 "metadata": {
  "kernelspec": {
   "display_name": "AI",
   "language": "python",
   "name": "ai"
  },
  "language_info": {
   "codemirror_mode": {
    "name": "ipython",
    "version": 3
   },
   "file_extension": ".py",
   "mimetype": "text/x-python",
   "name": "python",
   "nbconvert_exporter": "python",
   "pygments_lexer": "ipython3",
   "version": "3.8.16"
  }
 },
 "nbformat": 4,
 "nbformat_minor": 5
}
