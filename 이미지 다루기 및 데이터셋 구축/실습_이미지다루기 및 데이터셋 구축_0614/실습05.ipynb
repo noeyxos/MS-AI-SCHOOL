{
 "cells": [
  {
   "cell_type": "markdown",
   "id": "2081e08c",
   "metadata": {},
   "source": [
    "## COCO dataset JSON 어노테이션 값 => YOLO format 변경"
   ]
  },
  {
   "cell_type": "code",
   "execution_count": 1,
   "id": "053ceb9a",
   "metadata": {},
   "outputs": [],
   "source": [
    "import json \n",
    "import os \n",
    "import cv2\n",
    "import matplotlib.pyplot as plt"
   ]
  },
  {
   "cell_type": "markdown",
   "id": "26fb4ec9",
   "metadata": {},
   "source": [
    "## Json 파일 읽기"
   ]
  },
  {
   "cell_type": "code",
   "execution_count": 8,
   "id": "3d82afc9",
   "metadata": {},
   "outputs": [
    {
     "name": "stdout",
     "output_type": "stream",
     "text": [
      "{'id': 1, 'width': 640, 'height': 480, 'file_name': '01.jpg', 'license': 0, 'flickr_url': '', 'coco_url': '', 'date_captured': 0}\n",
      "./json_image/01.jpg\n",
      "file name 01.jpg\n",
      "yolo 좌표 변경 값 >>  1 0.86484375 0.45 0.2671875 0.5166666666666667\n",
      "01\n",
      "yolo 좌표 변경 값 >>  0 0.1609375 0.6041666666666666 0.3125 0.44583333333333336\n",
      "01\n"
     ]
    }
   ],
   "source": [
    "# 1. json 경로 선언\n",
    "json_path = \"./json_annotation/instances_default.json\"\n",
    "\n",
    "# 2. json 읽기\n",
    "with open(json_path, 'r', encoding='utf-8') as j:\n",
    "    json_data = json.load(j)\n",
    "    \n",
    "category_info = json_data['categories']\n",
    "images_info = json_data['images']\n",
    "annotations_info = json_data['annotations']\n",
    "\n",
    "\n",
    "# 라벨 딕셔너리 선언 \n",
    "# 0 -> cat, 1 -> dog\n",
    "label_dict = {1:0, 2:1}\n",
    "\n",
    "for image_json in images_info : \n",
    "    print(image_json)\n",
    "    file_name = image_json['file_name']\n",
    "    image_path = os.path.join(\"./json_image/\", file_name)\n",
    "    image_id = image_json['id']\n",
    "    print(image_path)\n",
    "    print(\"file name\", file_name)\n",
    "    \n",
    "    \n",
    "    # image read\n",
    "    image = cv2.imread(image_path)\n",
    "    \n",
    "    # image BGR -> RGB\n",
    "    image = cv2.cvtColor(image, cv2.COLOR_BGR2RGB)\n",
    "    \n",
    "    # image size \n",
    "    img_height, img_width, img_channel = image.shape\n",
    "    \n",
    "    # bbox info \n",
    "    for anno_json in annotations_info : \n",
    "        if image_id == anno_json['image_id'] :\n",
    "            bbox = anno_json['bbox']\n",
    "            # 좌표 변수에 박스 좌표 저장 (int 형 변환 이유 : cv2.rectangle 좌표 값은 int형태만 가능)\n",
    "            \n",
    "            x = int(bbox[0])\n",
    "            y = int(bbox[1])\n",
    "            w = int(bbox[2])\n",
    "            h = int(bbox[3])\n",
    "            \n",
    "            # 박스 그리기\n",
    "            cv2.rectangle(image, (x,y), (x+w, y+h), (0, 255, 0), 2)\n",
    "            \n",
    "            # 라벨 표시 \n",
    "            category_id = anno_json['category_id']\n",
    "            label_number = label_dict[category_id]\n",
    "            \n",
    "            #xywh - > center_x, center_y, w,h 변경하기\n",
    "            center_x = ((2*x + w) / (2*img_width))\n",
    "            center_y = ((2*y + h) / (2*img_height))\n",
    "            yolo_w = w/img_width\n",
    "            yolo_h = h/img_height\n",
    "            \n",
    "            print(\"yolo 좌표 변경 값 >> \", label_number, center_x,center_y, yolo_w, yolo_h)\n",
    "            # 이미지 명과 라벨 파일 명이 동일해야합니다.\n",
    "            # 위에 file_name 경우에 01.jpg 우리가 필요한 것은 01 이라는 이름입니다.\n",
    "            # file_name_temp = 0s.path.splitext(file_name)[0]\n",
    "            file_name_temp = file_name.replace(\".jpg\", \"\")\n",
    "            print(file_name_temp)\n",
    "            \n",
    "            # 텍스트 파일 쓰기\n",
    "        with open(f\"{file_name_temp}.txt\", \"a\") as f:\n",
    "            f.write(f\"{label_number} {center_x} {center_y} {yolo_w} {yolo_h} \\n\")"
   ]
  },
  {
   "cell_type": "code",
   "execution_count": null,
   "id": "6de87e81",
   "metadata": {},
   "outputs": [],
   "source": []
  }
 ],
 "metadata": {
  "kernelspec": {
   "display_name": "AI",
   "language": "python",
   "name": "ai"
  },
  "language_info": {
   "codemirror_mode": {
    "name": "ipython",
    "version": 3
   },
   "file_extension": ".py",
   "mimetype": "text/x-python",
   "name": "python",
   "nbconvert_exporter": "python",
   "pygments_lexer": "ipython3",
   "version": "3.8.16"
  }
 },
 "nbformat": 4,
 "nbformat_minor": 5
}
