{
 "cells": [
  {
   "cell_type": "markdown",
   "id": "3daf66d8",
   "metadata": {},
   "source": [
    "### 라벨링 데이터를 기록하는 양식의 종류 및 활용 XML 어노테이션 값 yolo format으로 변경하기"
   ]
  },
  {
   "cell_type": "code",
   "execution_count": 1,
   "id": "67e33d76",
   "metadata": {},
   "outputs": [],
   "source": [
    "import os\n",
    "import cv2\n",
    "import matplotlib.pyplot as plt\n",
    "from xml.etree.ElementTree import parse"
   ]
  },
  {
   "cell_type": "code",
   "execution_count": 7,
   "id": "2f4c6ce0",
   "metadata": {},
   "outputs": [
    {
     "name": "stdout",
     "output_type": "stream",
     "text": [
      "Pascal_xyxy to YOLO >>  1 0.865625 0.45 0.26875 0.5166666666666667\n",
      "Pascal_xyxy to YOLO >>  0 0.16171875 0.6041666666666666 0.3140625 0.44583333333333336\n"
     ]
    }
   ],
   "source": [
    "label_number_dict ={'cat':0, 'dog':1}\n",
    "\n",
    "def xml_read(xml_path) :\n",
    "    \n",
    "    root = parse(xml_path).getroot()\n",
    "    \n",
    "    image_info = root.findall(\"image\")\n",
    "    \n",
    "    for image in image_info :\n",
    "        bbox = image.findall('box')\n",
    "        # <image id =\"0\" name=\"01.jpg\" width =\"640\" height = \"480\"\n",
    "        \n",
    "        # image width height\n",
    "        image_width = image.attrib['width']\n",
    "        image_height = image.attrib['height']\n",
    "        \n",
    "        # image name and path \n",
    "        image_name = image.attrib['name']\n",
    "        image_name_temp = image_name\n",
    "        image_name = os.path.join(\"./xml_image/\", image_name)\n",
    "        \n",
    "        # image read\n",
    "        image = cv2.imread(image_name)\n",
    "        # image BGR -> RGB\n",
    "        image = cv2.cvtColor(image, cv2.COLOR_BGR2RGB)\n",
    "        \n",
    "        for box_info in bbox :\n",
    "            label = box_info.attrib['label']\n",
    "            \n",
    "            # 값 -> string 타입\n",
    "            xtl = box_info.attrib['xtl']\n",
    "            ytl = box_info.attrib['ytl']\n",
    "            xbr = box_info.attrib['xbr']\n",
    "            ybr = box_info.attrib['ybr']\n",
    "            \n",
    "            # 소수점이 포함이라 바로 int 값 변환 불가 하여 float 변환\n",
    "            xtl_f = float(xtl)\n",
    "            ytl_f = float(ytl)\n",
    "            xbr_f = float(xbr)\n",
    "            ybr_f = float(ybr)\n",
    "            \n",
    "            # float -> int 변환\n",
    "            xl_i = int(xtl_f)\n",
    "            yl_i = int(ytl_f)\n",
    "            x2_i = int(xbr_f)\n",
    "            y2_i = int(ybr_f)\n",
    "            \n",
    "            # 이미지 사이즈가 필요 위에 있는 image_width, image_height 경우는 string  타입 형변환 필요 int\n",
    "            img_width_i = int(image_width)\n",
    "            img_height_i = int(image_height)\n",
    "            \n",
    "            # Pascal_xyxy to YOLO center_x center_y yolo_w yolo_h\n",
    "            \n",
    "            center_x = ((x2_i + xl_i) / (2*img_width_i))\n",
    "            center_y = ((y2_i + yl_i) / (2*img_height_i))\n",
    "            yolo_w = ((x2_i - xl_i) / (img_width_i))\n",
    "            yolo_h = ((y2_i - yl_i) / (img_height_i))\n",
    "            \n",
    "            # file_name\n",
    "            image_name_temp = image_name_temp.replace('.jpg', '')\n",
    "\n",
    "            \n",
    "            # label cat, dog -> 0, 1 로 변경하기\n",
    "            label_number = label_number_dict[label]\n",
    "            \n",
    "            print(\"Pascal_xyxy to YOLO >> \", label_number, center_x, center_y, yolo_w, yolo_h)\n",
    "            \n",
    "            # 텍스트로 저장하기\n",
    "            with open(f\"{image_name_temp}.txt\",\"a\") as f:\n",
    "                f.write(f\"{label_number} {center_x} {center_y} {yolo_w} {yolo_h} \\n\")\n",
    "             \n",
    "xml_read(\"./xml_annotation/annotations.xml\")\n",
    "            \n",
    "# 이렇게 함수 실행을 하는 것을 추천            \n",
    "# if __name__ == \"__main__\":    \n",
    "#     xml_read(\"./xml_annotation/annotations.xml\")"
   ]
  },
  {
   "cell_type": "code",
   "execution_count": null,
   "id": "248bde33",
   "metadata": {},
   "outputs": [],
   "source": []
  }
 ],
 "metadata": {
  "kernelspec": {
   "display_name": "AI",
   "language": "python",
   "name": "ai"
  },
  "language_info": {
   "codemirror_mode": {
    "name": "ipython",
    "version": 3
   },
   "file_extension": ".py",
   "mimetype": "text/x-python",
   "name": "python",
   "nbconvert_exporter": "python",
   "pygments_lexer": "ipython3",
   "version": "3.8.16"
  }
 },
 "nbformat": 4,
 "nbformat_minor": 5
}
