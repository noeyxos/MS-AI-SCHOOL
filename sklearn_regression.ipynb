{
  "nbformat": 4,
  "nbformat_minor": 0,
  "metadata": {
    "colab": {
      "provenance": [],
      "authorship_tag": "ABX9TyP+9PA1PVUQW44i7z6MWwrZ",
      "include_colab_link": true
    },
    "kernelspec": {
      "name": "python3",
      "display_name": "Python 3"
    },
    "language_info": {
      "name": "python"
    }
  },
  "cells": [
    {
      "cell_type": "markdown",
      "metadata": {
        "id": "view-in-github",
        "colab_type": "text"
      },
      "source": [
        "<a href=\"https://colab.research.google.com/github/noeyxos/MS-AI-SCHOOL/blob/main/sklearn_regression.ipynb\" target=\"_parent\"><img src=\"https://colab.research.google.com/assets/colab-badge.svg\" alt=\"Open In Colab\"/></a>"
      ]
    },
    {
      "cell_type": "code",
      "execution_count": 1,
      "metadata": {
        "id": "MyYX2c9teAO2"
      },
      "outputs": [],
      "source": [
        "import numpy as np\n",
        "import pandas as pd\n",
        "import sklearn\n",
        "import matplotlib.pyplot as plt"
      ]
    },
    {
      "cell_type": "code",
      "source": [
        "from sklearn.datasets import load_diabetes          #당뇨 관련 데이터 가져오기 \n",
        "diabetes = load_diabetes()"
      ],
      "metadata": {
        "id": "iyyf9djLfZ8r"
      },
      "execution_count": 2,
      "outputs": []
    },
    {
      "cell_type": "code",
      "source": [
        "print(diabetes.DESCR)         #DESCR : description 상세정보"
      ],
      "metadata": {
        "colab": {
          "base_uri": "https://localhost:8080/"
        },
        "id": "G_3aAx71i8K1",
        "outputId": "2993c8a7-6df1-44d5-b7bf-c9c1ff8340d1"
      },
      "execution_count": 3,
      "outputs": [
        {
          "output_type": "stream",
          "name": "stdout",
          "text": [
            ".. _diabetes_dataset:\n",
            "\n",
            "Diabetes dataset\n",
            "----------------\n",
            "\n",
            "Ten baseline variables, age, sex, body mass index, average blood\n",
            "pressure, and six blood serum measurements were obtained for each of n =\n",
            "442 diabetes patients, as well as the response of interest, a\n",
            "quantitative measure of disease progression one year after baseline.\n",
            "\n",
            "**Data Set Characteristics:**\n",
            "\n",
            "  :Number of Instances: 442\n",
            "\n",
            "  :Number of Attributes: First 10 columns are numeric predictive values\n",
            "\n",
            "  :Target: Column 11 is a quantitative measure of disease progression one year after baseline\n",
            "\n",
            "  :Attribute Information:\n",
            "      - age     age in years\n",
            "      - sex\n",
            "      - bmi     body mass index\n",
            "      - bp      average blood pressure\n",
            "      - s1      tc, total serum cholesterol\n",
            "      - s2      ldl, low-density lipoproteins\n",
            "      - s3      hdl, high-density lipoproteins\n",
            "      - s4      tch, total cholesterol / HDL\n",
            "      - s5      ltg, possibly log of serum triglycerides level\n",
            "      - s6      glu, blood sugar level\n",
            "\n",
            "Note: Each of these 10 feature variables have been mean centered and scaled by the standard deviation times the square root of `n_samples` (i.e. the sum of squares of each column totals 1).\n",
            "\n",
            "Source URL:\n",
            "https://www4.stat.ncsu.edu/~boos/var.select/diabetes.html\n",
            "\n",
            "For more information see:\n",
            "Bradley Efron, Trevor Hastie, Iain Johnstone and Robert Tibshirani (2004) \"Least Angle Regression,\" Annals of Statistics (with discussion), 407-499.\n",
            "(https://web.stanford.edu/~hastie/Papers/LARS/LeastAngle_2002.pdf)\n",
            "\n"
          ]
        }
      ]
    },
    {
      "cell_type": "code",
      "source": [
        "data = diabetes.data\n",
        "label = diabetes.target\n",
        "columns = diabetes.feature_names"
      ],
      "metadata": {
        "id": "QQNsyjvefqBD"
      },
      "execution_count": 4,
      "outputs": []
    },
    {
      "cell_type": "code",
      "source": [
        "data = pd.DataFrame(data, columns = columns)\n",
        "data.head()"
      ],
      "metadata": {
        "colab": {
          "base_uri": "https://localhost:8080/",
          "height": 206
        },
        "id": "oe77HGVjjC8t",
        "outputId": "37a50873-931a-40bd-819a-fbfc4fb16153"
      },
      "execution_count": 5,
      "outputs": [
        {
          "output_type": "execute_result",
          "data": {
            "text/plain": [
              "        age       sex       bmi        bp        s1        s2        s3  \\\n",
              "0  0.038076  0.050680  0.061696  0.021872 -0.044223 -0.034821 -0.043401   \n",
              "1 -0.001882 -0.044642 -0.051474 -0.026328 -0.008449 -0.019163  0.074412   \n",
              "2  0.085299  0.050680  0.044451 -0.005670 -0.045599 -0.034194 -0.032356   \n",
              "3 -0.089063 -0.044642 -0.011595 -0.036656  0.012191  0.024991 -0.036038   \n",
              "4  0.005383 -0.044642 -0.036385  0.021872  0.003935  0.015596  0.008142   \n",
              "\n",
              "         s4        s5        s6  \n",
              "0 -0.002592  0.019907 -0.017646  \n",
              "1 -0.039493 -0.068332 -0.092204  \n",
              "2 -0.002592  0.002861 -0.025930  \n",
              "3  0.034309  0.022688 -0.009362  \n",
              "4 -0.002592 -0.031988 -0.046641  "
            ],
            "text/html": [
              "\n",
              "  <div id=\"df-64c7133d-3063-46ab-97ae-aea62387a4ea\">\n",
              "    <div class=\"colab-df-container\">\n",
              "      <div>\n",
              "<style scoped>\n",
              "    .dataframe tbody tr th:only-of-type {\n",
              "        vertical-align: middle;\n",
              "    }\n",
              "\n",
              "    .dataframe tbody tr th {\n",
              "        vertical-align: top;\n",
              "    }\n",
              "\n",
              "    .dataframe thead th {\n",
              "        text-align: right;\n",
              "    }\n",
              "</style>\n",
              "<table border=\"1\" class=\"dataframe\">\n",
              "  <thead>\n",
              "    <tr style=\"text-align: right;\">\n",
              "      <th></th>\n",
              "      <th>age</th>\n",
              "      <th>sex</th>\n",
              "      <th>bmi</th>\n",
              "      <th>bp</th>\n",
              "      <th>s1</th>\n",
              "      <th>s2</th>\n",
              "      <th>s3</th>\n",
              "      <th>s4</th>\n",
              "      <th>s5</th>\n",
              "      <th>s6</th>\n",
              "    </tr>\n",
              "  </thead>\n",
              "  <tbody>\n",
              "    <tr>\n",
              "      <th>0</th>\n",
              "      <td>0.038076</td>\n",
              "      <td>0.050680</td>\n",
              "      <td>0.061696</td>\n",
              "      <td>0.021872</td>\n",
              "      <td>-0.044223</td>\n",
              "      <td>-0.034821</td>\n",
              "      <td>-0.043401</td>\n",
              "      <td>-0.002592</td>\n",
              "      <td>0.019907</td>\n",
              "      <td>-0.017646</td>\n",
              "    </tr>\n",
              "    <tr>\n",
              "      <th>1</th>\n",
              "      <td>-0.001882</td>\n",
              "      <td>-0.044642</td>\n",
              "      <td>-0.051474</td>\n",
              "      <td>-0.026328</td>\n",
              "      <td>-0.008449</td>\n",
              "      <td>-0.019163</td>\n",
              "      <td>0.074412</td>\n",
              "      <td>-0.039493</td>\n",
              "      <td>-0.068332</td>\n",
              "      <td>-0.092204</td>\n",
              "    </tr>\n",
              "    <tr>\n",
              "      <th>2</th>\n",
              "      <td>0.085299</td>\n",
              "      <td>0.050680</td>\n",
              "      <td>0.044451</td>\n",
              "      <td>-0.005670</td>\n",
              "      <td>-0.045599</td>\n",
              "      <td>-0.034194</td>\n",
              "      <td>-0.032356</td>\n",
              "      <td>-0.002592</td>\n",
              "      <td>0.002861</td>\n",
              "      <td>-0.025930</td>\n",
              "    </tr>\n",
              "    <tr>\n",
              "      <th>3</th>\n",
              "      <td>-0.089063</td>\n",
              "      <td>-0.044642</td>\n",
              "      <td>-0.011595</td>\n",
              "      <td>-0.036656</td>\n",
              "      <td>0.012191</td>\n",
              "      <td>0.024991</td>\n",
              "      <td>-0.036038</td>\n",
              "      <td>0.034309</td>\n",
              "      <td>0.022688</td>\n",
              "      <td>-0.009362</td>\n",
              "    </tr>\n",
              "    <tr>\n",
              "      <th>4</th>\n",
              "      <td>0.005383</td>\n",
              "      <td>-0.044642</td>\n",
              "      <td>-0.036385</td>\n",
              "      <td>0.021872</td>\n",
              "      <td>0.003935</td>\n",
              "      <td>0.015596</td>\n",
              "      <td>0.008142</td>\n",
              "      <td>-0.002592</td>\n",
              "      <td>-0.031988</td>\n",
              "      <td>-0.046641</td>\n",
              "    </tr>\n",
              "  </tbody>\n",
              "</table>\n",
              "</div>\n",
              "      <button class=\"colab-df-convert\" onclick=\"convertToInteractive('df-64c7133d-3063-46ab-97ae-aea62387a4ea')\"\n",
              "              title=\"Convert this dataframe to an interactive table.\"\n",
              "              style=\"display:none;\">\n",
              "        \n",
              "  <svg xmlns=\"http://www.w3.org/2000/svg\" height=\"24px\"viewBox=\"0 0 24 24\"\n",
              "       width=\"24px\">\n",
              "    <path d=\"M0 0h24v24H0V0z\" fill=\"none\"/>\n",
              "    <path d=\"M18.56 5.44l.94 2.06.94-2.06 2.06-.94-2.06-.94-.94-2.06-.94 2.06-2.06.94zm-11 1L8.5 8.5l.94-2.06 2.06-.94-2.06-.94L8.5 2.5l-.94 2.06-2.06.94zm10 10l.94 2.06.94-2.06 2.06-.94-2.06-.94-.94-2.06-.94 2.06-2.06.94z\"/><path d=\"M17.41 7.96l-1.37-1.37c-.4-.4-.92-.59-1.43-.59-.52 0-1.04.2-1.43.59L10.3 9.45l-7.72 7.72c-.78.78-.78 2.05 0 2.83L4 21.41c.39.39.9.59 1.41.59.51 0 1.02-.2 1.41-.59l7.78-7.78 2.81-2.81c.8-.78.8-2.07 0-2.86zM5.41 20L4 18.59l7.72-7.72 1.47 1.35L5.41 20z\"/>\n",
              "  </svg>\n",
              "      </button>\n",
              "      \n",
              "  <style>\n",
              "    .colab-df-container {\n",
              "      display:flex;\n",
              "      flex-wrap:wrap;\n",
              "      gap: 12px;\n",
              "    }\n",
              "\n",
              "    .colab-df-convert {\n",
              "      background-color: #E8F0FE;\n",
              "      border: none;\n",
              "      border-radius: 50%;\n",
              "      cursor: pointer;\n",
              "      display: none;\n",
              "      fill: #1967D2;\n",
              "      height: 32px;\n",
              "      padding: 0 0 0 0;\n",
              "      width: 32px;\n",
              "    }\n",
              "\n",
              "    .colab-df-convert:hover {\n",
              "      background-color: #E2EBFA;\n",
              "      box-shadow: 0px 1px 2px rgba(60, 64, 67, 0.3), 0px 1px 3px 1px rgba(60, 64, 67, 0.15);\n",
              "      fill: #174EA6;\n",
              "    }\n",
              "\n",
              "    [theme=dark] .colab-df-convert {\n",
              "      background-color: #3B4455;\n",
              "      fill: #D2E3FC;\n",
              "    }\n",
              "\n",
              "    [theme=dark] .colab-df-convert:hover {\n",
              "      background-color: #434B5C;\n",
              "      box-shadow: 0px 1px 3px 1px rgba(0, 0, 0, 0.15);\n",
              "      filter: drop-shadow(0px 1px 2px rgba(0, 0, 0, 0.3));\n",
              "      fill: #FFFFFF;\n",
              "    }\n",
              "  </style>\n",
              "\n",
              "      <script>\n",
              "        const buttonEl =\n",
              "          document.querySelector('#df-64c7133d-3063-46ab-97ae-aea62387a4ea button.colab-df-convert');\n",
              "        buttonEl.style.display =\n",
              "          google.colab.kernel.accessAllowed ? 'block' : 'none';\n",
              "\n",
              "        async function convertToInteractive(key) {\n",
              "          const element = document.querySelector('#df-64c7133d-3063-46ab-97ae-aea62387a4ea');\n",
              "          const dataTable =\n",
              "            await google.colab.kernel.invokeFunction('convertToInteractive',\n",
              "                                                     [key], {});\n",
              "          if (!dataTable) return;\n",
              "\n",
              "          const docLinkHtml = 'Like what you see? Visit the ' +\n",
              "            '<a target=\"_blank\" href=https://colab.research.google.com/notebooks/data_table.ipynb>data table notebook</a>'\n",
              "            + ' to learn more about interactive tables.';\n",
              "          element.innerHTML = '';\n",
              "          dataTable['output_type'] = 'display_data';\n",
              "          await google.colab.output.renderOutput(dataTable, element);\n",
              "          const docLink = document.createElement('div');\n",
              "          docLink.innerHTML = docLinkHtml;\n",
              "          element.appendChild(docLink);\n",
              "        }\n",
              "      </script>\n",
              "    </div>\n",
              "  </div>\n",
              "  "
            ]
          },
          "metadata": {},
          "execution_count": 5
        }
      ]
    },
    {
      "cell_type": "markdown",
      "source": [
        "![MicrosoftTeams-image (1).png](data:image/png;base64,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)"
      ],
      "metadata": {
        "id": "yK-edDu1az38"
      }
    },
    {
      "cell_type": "code",
      "source": [
        "data.shape"
      ],
      "metadata": {
        "colab": {
          "base_uri": "https://localhost:8080/"
        },
        "id": "Kg4-MAsZjb2S",
        "outputId": "1b3eee34-a0c4-4ca9-f070-d15bda35cb12"
      },
      "execution_count": 6,
      "outputs": [
        {
          "output_type": "execute_result",
          "data": {
            "text/plain": [
              "(442, 10)"
            ]
          },
          "metadata": {},
          "execution_count": 6
        }
      ]
    },
    {
      "cell_type": "code",
      "source": [
        "from sklearn.linear_model import LinearRegression         # LinearRegression 해보자 \n",
        "sim_lr = LinearRegression()                                               # sim_lr : simple_linearregression"
      ],
      "metadata": {
        "id": "ML7hWfcAjg9a"
      },
      "execution_count": 7,
      "outputs": []
    },
    {
      "cell_type": "code",
      "source": [
        "from sklearn.model_selection import train_test_split\n",
        "X_train, X_test, y_train, y_test = train_test_split(data, label, test_size = 0.2, random_state=2023)"
      ],
      "metadata": {
        "id": "ZfCjxed3ku0h"
      },
      "execution_count": 8,
      "outputs": []
    },
    {
      "cell_type": "code",
      "source": [
        "# 혈당 수치를 기반으로 분석 시작 ! \n",
        "sim_lr.fit(X_train['s6'].values.reshape((-1,1)),y_train)        #reshape((-1,1)) : 행 개수는 모르겠고, 열은 하나만 넣은 넘파이 배열로 만들어줘! "
      ],
      "metadata": {
        "colab": {
          "base_uri": "https://localhost:8080/",
          "height": 75
        },
        "id": "wK3Vaa-glBmy",
        "outputId": "dc7f65e4-e3b2-4932-c3ff-ac465e468e0a"
      },
      "execution_count": 9,
      "outputs": [
        {
          "output_type": "execute_result",
          "data": {
            "text/plain": [
              "LinearRegression()"
            ],
            "text/html": [
              "<style>#sk-container-id-1 {color: black;background-color: white;}#sk-container-id-1 pre{padding: 0;}#sk-container-id-1 div.sk-toggleable {background-color: white;}#sk-container-id-1 label.sk-toggleable__label {cursor: pointer;display: block;width: 100%;margin-bottom: 0;padding: 0.3em;box-sizing: border-box;text-align: center;}#sk-container-id-1 label.sk-toggleable__label-arrow:before {content: \"▸\";float: left;margin-right: 0.25em;color: #696969;}#sk-container-id-1 label.sk-toggleable__label-arrow:hover:before {color: black;}#sk-container-id-1 div.sk-estimator:hover label.sk-toggleable__label-arrow:before {color: black;}#sk-container-id-1 div.sk-toggleable__content {max-height: 0;max-width: 0;overflow: hidden;text-align: left;background-color: #f0f8ff;}#sk-container-id-1 div.sk-toggleable__content pre {margin: 0.2em;color: black;border-radius: 0.25em;background-color: #f0f8ff;}#sk-container-id-1 input.sk-toggleable__control:checked~div.sk-toggleable__content {max-height: 200px;max-width: 100%;overflow: auto;}#sk-container-id-1 input.sk-toggleable__control:checked~label.sk-toggleable__label-arrow:before {content: \"▾\";}#sk-container-id-1 div.sk-estimator input.sk-toggleable__control:checked~label.sk-toggleable__label {background-color: #d4ebff;}#sk-container-id-1 div.sk-label input.sk-toggleable__control:checked~label.sk-toggleable__label {background-color: #d4ebff;}#sk-container-id-1 input.sk-hidden--visually {border: 0;clip: rect(1px 1px 1px 1px);clip: rect(1px, 1px, 1px, 1px);height: 1px;margin: -1px;overflow: hidden;padding: 0;position: absolute;width: 1px;}#sk-container-id-1 div.sk-estimator {font-family: monospace;background-color: #f0f8ff;border: 1px dotted black;border-radius: 0.25em;box-sizing: border-box;margin-bottom: 0.5em;}#sk-container-id-1 div.sk-estimator:hover {background-color: #d4ebff;}#sk-container-id-1 div.sk-parallel-item::after {content: \"\";width: 100%;border-bottom: 1px solid gray;flex-grow: 1;}#sk-container-id-1 div.sk-label:hover label.sk-toggleable__label {background-color: #d4ebff;}#sk-container-id-1 div.sk-serial::before {content: \"\";position: absolute;border-left: 1px solid gray;box-sizing: border-box;top: 0;bottom: 0;left: 50%;z-index: 0;}#sk-container-id-1 div.sk-serial {display: flex;flex-direction: column;align-items: center;background-color: white;padding-right: 0.2em;padding-left: 0.2em;position: relative;}#sk-container-id-1 div.sk-item {position: relative;z-index: 1;}#sk-container-id-1 div.sk-parallel {display: flex;align-items: stretch;justify-content: center;background-color: white;position: relative;}#sk-container-id-1 div.sk-item::before, #sk-container-id-1 div.sk-parallel-item::before {content: \"\";position: absolute;border-left: 1px solid gray;box-sizing: border-box;top: 0;bottom: 0;left: 50%;z-index: -1;}#sk-container-id-1 div.sk-parallel-item {display: flex;flex-direction: column;z-index: 1;position: relative;background-color: white;}#sk-container-id-1 div.sk-parallel-item:first-child::after {align-self: flex-end;width: 50%;}#sk-container-id-1 div.sk-parallel-item:last-child::after {align-self: flex-start;width: 50%;}#sk-container-id-1 div.sk-parallel-item:only-child::after {width: 0;}#sk-container-id-1 div.sk-dashed-wrapped {border: 1px dashed gray;margin: 0 0.4em 0.5em 0.4em;box-sizing: border-box;padding-bottom: 0.4em;background-color: white;}#sk-container-id-1 div.sk-label label {font-family: monospace;font-weight: bold;display: inline-block;line-height: 1.2em;}#sk-container-id-1 div.sk-label-container {text-align: center;}#sk-container-id-1 div.sk-container {/* jupyter's `normalize.less` sets `[hidden] { display: none; }` but bootstrap.min.css set `[hidden] { display: none !important; }` so we also need the `!important` here to be able to override the default hidden behavior on the sphinx rendered scikit-learn.org. See: https://github.com/scikit-learn/scikit-learn/issues/21755 */display: inline-block !important;position: relative;}#sk-container-id-1 div.sk-text-repr-fallback {display: none;}</style><div id=\"sk-container-id-1\" class=\"sk-top-container\"><div class=\"sk-text-repr-fallback\"><pre>LinearRegression()</pre><b>In a Jupyter environment, please rerun this cell to show the HTML representation or trust the notebook. <br />On GitHub, the HTML representation is unable to render, please try loading this page with nbviewer.org.</b></div><div class=\"sk-container\" hidden><div class=\"sk-item\"><div class=\"sk-estimator sk-toggleable\"><input class=\"sk-toggleable__control sk-hidden--visually\" id=\"sk-estimator-id-1\" type=\"checkbox\" checked><label for=\"sk-estimator-id-1\" class=\"sk-toggleable__label sk-toggleable__label-arrow\">LinearRegression</label><div class=\"sk-toggleable__content\"><pre>LinearRegression()</pre></div></div></div></div></div>"
            ]
          },
          "metadata": {},
          "execution_count": 9
        }
      ]
    },
    {
      "cell_type": "code",
      "source": [
        "y_pred = sim_lr.predict(X_test['s6'].values.reshape((-1,1)))          # 하나짜리 배열로 만들어서 넘겨줘야 하는 부분 ( train 이랑 같은 모양으로 만들어야되니까 )"
      ],
      "metadata": {
        "id": "WalDG-2rlSYA"
      },
      "execution_count": 10,
      "outputs": []
    },
    {
      "cell_type": "code",
      "source": [
        "from sklearn.metrics import r2_score                                         # 평가를 위한 방법 \n",
        "print('단순 선형 회귀, R2:{:.2f}'.format(r2_score(y_test, y_pred)))\n",
        "print('단순 선형 회귀 계수(w) : {:.2f}, 절편(b): {:.2f}'.format(sim_lr.coef_[0],sim_lr.intercept_))       #coef_[0]: 계수 , intercept_ : 절편"
      ],
      "metadata": {
        "colab": {
          "base_uri": "https://localhost:8080/"
        },
        "id": "jLOzS_7Dnxur",
        "outputId": "822af995-5066-46ba-f7cf-502c75ef6b77"
      },
      "execution_count": 11,
      "outputs": [
        {
          "output_type": "stream",
          "name": "stdout",
          "text": [
            "단순 선형 회귀, R2:0.16\n",
            "단순 선형 회귀 계수(w) : 586.70, 절편(b): 152.60\n"
          ]
        }
      ]
    },
    {
      "cell_type": "code",
      "source": [
        "# linear line의 생성\n",
        "line_x = np.linspace(np.min(X_test['s6']),np.max(X_test['s6']),10)                                              #.linspace(최소, 최대, 갯수) 최솟값과 최댓값 사이에 개수만큼 점을 정해서 선으로 연결\n",
        "line_y = sim_lr.predict(line_x.reshape((-1,1)))                                                                            # line_x 값을 구성한 것을 토대로 차원을 맞춰 line_y 값 구성\n",
        "\n",
        "print(line_x)\n",
        "print(line_y)\n",
        "\n",
        "#Test data를 표현\n",
        "plt.scatter(X_test['s6'],y_test, s=10, c='black')              #s : size, c: color\n",
        "plt.plot(line_x, line_y, c='red')\n",
        "plt.legend(['Test data sample','Regression line'])        #주석달아주는 기능"
      ],
      "metadata": {
        "colab": {
          "base_uri": "https://localhost:8080/",
          "height": 523
        },
        "id": "3z1E-2bDoKFA",
        "outputId": "bebb06ee-f594-42f1-a8aa-17b2a8145ff1"
      },
      "execution_count": 12,
      "outputs": [
        {
          "output_type": "stream",
          "name": "stdout",
          "text": [
            "[-0.12948301 -0.10002803 -0.07057305 -0.04111806 -0.01166308  0.0177919\n",
            "  0.04724688  0.07670187  0.10615685  0.13561183]\n",
            "[ 76.63014404  93.91143293 111.19272182 128.4740107  145.75529959\n",
            " 163.03658848 180.31787736 197.59916625 214.88045514 232.16174402]\n"
          ]
        },
        {
          "output_type": "execute_result",
          "data": {
            "text/plain": [
              "<matplotlib.legend.Legend at 0x7fbd12ebcc70>"
            ]
          },
          "metadata": {},
          "execution_count": 12
        },
        {
          "output_type": "display_data",
          "data": {
            "text/plain": [
              "<Figure size 640x480 with 1 Axes>"
            ],
            "image/png": "[encoded data removed]"
          },
          "metadata": {}
        }
      ]
    },
    {
      "cell_type": "code",
      "source": [
        "# multiple Linear Regression        # 다중 선형 회귀\n",
        "mul_lr = LinearRegression()\n",
        "mul_lr.fit(X_train, y_train)\n",
        "y_pred = mul_lr.predict(X_test)"
      ],
      "metadata": {
        "id": "GHmw2xIksfwq"
      },
      "execution_count": 13,
      "outputs": []
    },
    {
      "cell_type": "code",
      "source": [
        "print('다중 선형 회귀, R2:{:.2f}'.format(r2_score(y_test,y_pred)))   # feature를 다중으로 할 때의 정확도가 훨씬 높아지는 것을 볼 수 있다. ( 하지만 단지 많다고 정확도가 높아지는 것x)"
      ],
      "metadata": {
        "colab": {
          "base_uri": "https://localhost:8080/"
        },
        "id": "A9irg1ejxpRk",
        "outputId": "249c0a00-ecc8-45ac-eb64-51a88aca4768"
      },
      "execution_count": 14,
      "outputs": [
        {
          "output_type": "stream",
          "name": "stdout",
          "text": [
            "다중 선형 회귀, R2:0.50\n"
          ]
        }
      ]
    },
    {
      "cell_type": "code",
      "source": [
        "# Decision Tree Regressor                                             # 결정 트리 모델 \n",
        "from sklearn.tree import DecisionTreeRegressor\n",
        "dt_regr = DecisionTreeRegressor(max_depth=5)          #max_depth=5 를 지정해주면 데이터의 특성을 따라 끝까지 tracking 하지 않는다. "
      ],
      "metadata": {
        "id": "hdWT6zqex10D"
      },
      "execution_count": 27,
      "outputs": []
    },
    {
      "cell_type": "code",
      "source": [
        "dt_regr.fit(X_train['s6'].values.reshape((-1,1)), y_train)    # 우선 한개의 컬럼만 가지고 학습해보기"
      ],
      "metadata": {
        "colab": {
          "base_uri": "https://localhost:8080/",
          "height": 75
        },
        "id": "gL6BPvKh0Hhi",
        "outputId": "a47b9645-9d2e-4250-eae4-0a9e43e082ec"
      },
      "execution_count": 28,
      "outputs": [
        {
          "output_type": "execute_result",
          "data": {
            "text/plain": [
              "DecisionTreeRegressor(max_depth=5)"
            ],
            "text/html": [
              "<style>#sk-container-id-4 {color: black;background-color: white;}#sk-container-id-4 pre{padding: 0;}#sk-container-id-4 div.sk-toggleable {background-color: white;}#sk-container-id-4 label.sk-toggleable__label {cursor: pointer;display: block;width: 100%;margin-bottom: 0;padding: 0.3em;box-sizing: border-box;text-align: center;}#sk-container-id-4 label.sk-toggleable__label-arrow:before {content: \"▸\";float: left;margin-right: 0.25em;color: #696969;}#sk-container-id-4 label.sk-toggleable__label-arrow:hover:before {color: black;}#sk-container-id-4 div.sk-estimator:hover label.sk-toggleable__label-arrow:before {color: black;}#sk-container-id-4 div.sk-toggleable__content {max-height: 0;max-width: 0;overflow: hidden;text-align: left;background-color: #f0f8ff;}#sk-container-id-4 div.sk-toggleable__content pre {margin: 0.2em;color: black;border-radius: 0.25em;background-color: #f0f8ff;}#sk-container-id-4 input.sk-toggleable__control:checked~div.sk-toggleable__content {max-height: 200px;max-width: 100%;overflow: auto;}#sk-container-id-4 input.sk-toggleable__control:checked~label.sk-toggleable__label-arrow:before {content: \"▾\";}#sk-container-id-4 div.sk-estimator input.sk-toggleable__control:checked~label.sk-toggleable__label {background-color: #d4ebff;}#sk-container-id-4 div.sk-label input.sk-toggleable__control:checked~label.sk-toggleable__label {background-color: #d4ebff;}#sk-container-id-4 input.sk-hidden--visually {border: 0;clip: rect(1px 1px 1px 1px);clip: rect(1px, 1px, 1px, 1px);height: 1px;margin: -1px;overflow: hidden;padding: 0;position: absolute;width: 1px;}#sk-container-id-4 div.sk-estimator {font-family: monospace;background-color: #f0f8ff;border: 1px dotted black;border-radius: 0.25em;box-sizing: border-box;margin-bottom: 0.5em;}#sk-container-id-4 div.sk-estimator:hover {background-color: #d4ebff;}#sk-container-id-4 div.sk-parallel-item::after {content: \"\";width: 100%;border-bottom: 1px solid gray;flex-grow: 1;}#sk-container-id-4 div.sk-label:hover label.sk-toggleable__label {background-color: #d4ebff;}#sk-container-id-4 div.sk-serial::before {content: \"\";position: absolute;border-left: 1px solid gray;box-sizing: border-box;top: 0;bottom: 0;left: 50%;z-index: 0;}#sk-container-id-4 div.sk-serial {display: flex;flex-direction: column;align-items: center;background-color: white;padding-right: 0.2em;padding-left: 0.2em;position: relative;}#sk-container-id-4 div.sk-item {position: relative;z-index: 1;}#sk-container-id-4 div.sk-parallel {display: flex;align-items: stretch;justify-content: center;background-color: white;position: relative;}#sk-container-id-4 div.sk-item::before, #sk-container-id-4 div.sk-parallel-item::before {content: \"\";position: absolute;border-left: 1px solid gray;box-sizing: border-box;top: 0;bottom: 0;left: 50%;z-index: -1;}#sk-container-id-4 div.sk-parallel-item {display: flex;flex-direction: column;z-index: 1;position: relative;background-color: white;}#sk-container-id-4 div.sk-parallel-item:first-child::after {align-self: flex-end;width: 50%;}#sk-container-id-4 div.sk-parallel-item:last-child::after {align-self: flex-start;width: 50%;}#sk-container-id-4 div.sk-parallel-item:only-child::after {width: 0;}#sk-container-id-4 div.sk-dashed-wrapped {border: 1px dashed gray;margin: 0 0.4em 0.5em 0.4em;box-sizing: border-box;padding-bottom: 0.4em;background-color: white;}#sk-container-id-4 div.sk-label label {font-family: monospace;font-weight: bold;display: inline-block;line-height: 1.2em;}#sk-container-id-4 div.sk-label-container {text-align: center;}#sk-container-id-4 div.sk-container {/* jupyter's `normalize.less` sets `[hidden] { display: none; }` but bootstrap.min.css set `[hidden] { display: none !important; }` so we also need the `!important` here to be able to override the default hidden behavior on the sphinx rendered scikit-learn.org. See: https://github.com/scikit-learn/scikit-learn/issues/21755 */display: inline-block !important;position: relative;}#sk-container-id-4 div.sk-text-repr-fallback {display: none;}</style><div id=\"sk-container-id-4\" class=\"sk-top-container\"><div class=\"sk-text-repr-fallback\"><pre>DecisionTreeRegressor(max_depth=5)</pre><b>In a Jupyter environment, please rerun this cell to show the HTML representation or trust the notebook. <br />On GitHub, the HTML representation is unable to render, please try loading this page with nbviewer.org.</b></div><div class=\"sk-container\" hidden><div class=\"sk-item\"><div class=\"sk-estimator sk-toggleable\"><input class=\"sk-toggleable__control sk-hidden--visually\" id=\"sk-estimator-id-4\" type=\"checkbox\" checked><label for=\"sk-estimator-id-4\" class=\"sk-toggleable__label sk-toggleable__label-arrow\">DecisionTreeRegressor</label><div class=\"sk-toggleable__content\"><pre>DecisionTreeRegressor(max_depth=5)</pre></div></div></div></div></div>"
            ]
          },
          "metadata": {},
          "execution_count": 28
        }
      ]
    },
    {
      "cell_type": "code",
      "source": [
        "y_pred = dt_regr.predict(X_test['s6'].values.reshape((-1,1)))     # 예측 치 만들기 "
      ],
      "metadata": {
        "id": "a30ydQEh0XHo"
      },
      "execution_count": 29,
      "outputs": []
    },
    {
      "cell_type": "code",
      "source": [
        "print('단순 결정 트리 회귀 R2: {:.2f}'.format(r2_score(y_test, y_pred)))"
      ],
      "metadata": {
        "colab": {
          "base_uri": "https://localhost:8080/"
        },
        "id": "IHZELxsD0onE",
        "outputId": "56b9c20b-2d87-41ee-cd18-8785ed7bdd19"
      },
      "execution_count": 30,
      "outputs": [
        {
          "output_type": "stream",
          "name": "stdout",
          "text": [
            "단순 결정 트리 회귀 R2: 0.14\n"
          ]
        }
      ]
    },
    {
      "cell_type": "code",
      "source": [
        "# linear line의 생성\n",
        "line_x = np.linspace(np.min(X_test['s6']),np.max(X_test['s6']),10)\n",
        "line_y = dt_regr.predict(line_x.reshape((-1,1)))\n",
        "\n",
        "print(line_x)\n",
        "print(line_y)\n",
        "\n",
        "#Test data를 표현\n",
        "plt.scatter(X_test['s6'],y_test, s=10, c='black')\n",
        "plt.plot(line_x, line_y, c='red')\n",
        "plt.legend(['Test data sample','Regression line']) "
      ],
      "metadata": {
        "colab": {
          "base_uri": "https://localhost:8080/",
          "height": 523
        },
        "id": "ygJy8tru05Oy",
        "outputId": "0dda6009-7a7e-4843-d0ab-9049a46f4897"
      },
      "execution_count": 31,
      "outputs": [
        {
          "output_type": "stream",
          "name": "stdout",
          "text": [
            "[-0.12948301 -0.10002803 -0.07057305 -0.04111806 -0.01166308  0.0177919\n",
            "  0.04724688  0.07670187  0.10615685  0.13561183]\n",
            "[118.41176471 118.41176471 118.41176471 125.75       118.63636364\n",
            " 150.42857143 197.57692308 202.66666667 202.66666667 263.        ]\n"
          ]
        },
        {
          "output_type": "execute_result",
          "data": {
            "text/plain": [
              "<matplotlib.legend.Legend at 0x7fbd0e2a7580>"
            ]
          },
          "metadata": {},
          "execution_count": 31
        },
        {
          "output_type": "display_data",
          "data": {
            "text/plain": [
              "<Figure size 640x480 with 1 Axes>"
            ],
            "image/png": "[encoded data removed]"
          },
          "metadata": {}
        }
      ]
    },
    {
      "cell_type": "markdown",
      "source": [
        "[과제 !]\n",
        "전체 컬럼을 참조하는 decision tree regression 만들기 ! \n"
      ],
      "metadata": {
        "id": "qQR20et05tVe"
      }
    },
    {
      "cell_type": "code",
      "source": [
        "# Decision Tree Regressor\n",
        "from sklearn.tree import DecisionTreeRegressor\n",
        "mt_regr = DecisionTreeRegressor(max_depth=5)  \n",
        "mt_regr.fit(X_train, y_train)\n",
        "y_pred = mt_regr.predict(X_test)"
      ],
      "metadata": {
        "id": "1810E-kx1QJv"
      },
      "execution_count": 34,
      "outputs": []
    },
    {
      "cell_type": "code",
      "source": [
        "print('다중 결정 트리 회귀 R2: {:.2f}'.format(r2_score(y_test, y_pred)))"
      ],
      "metadata": {
        "colab": {
          "base_uri": "https://localhost:8080/"
        },
        "id": "uLG7DSue5T3X",
        "outputId": "03dd92b6-3a9f-4aea-8fcc-e007bbc9e4b9"
      },
      "execution_count": 35,
      "outputs": [
        {
          "output_type": "stream",
          "name": "stdout",
          "text": [
            "다중 결정 트리 회귀 R2: 0.31\n"
          ]
        }
      ]
    },
    {
      "cell_type": "code",
      "source": [
        "mt_regre = DecisionTreeRegressor(max_depth = 3)                       # for문을 돌려서 가장 결과가 좋은 max값을 찾아보도록 하자.\n",
        "mt_regre.fit(X_train, y_train)\n",
        "y_pred = mt_regre.predict(X_test)\n",
        "print('다중 결정 트리 회귀, r2: {:.2f}'.format(r2_score(y_test, y_pred)))"
      ],
      "metadata": {
        "colab": {
          "base_uri": "https://localhost:8080/"
        },
        "id": "sR4Ckd8J5rYJ",
        "outputId": "53bdeb56-48f2-4baa-bd30-9a238a37c5df"
      },
      "execution_count": 39,
      "outputs": [
        {
          "output_type": "stream",
          "name": "stdout",
          "text": [
            "다중 결정 트리 회귀, r2: 0.35\n"
          ]
        }
      ]
    },
    {
      "cell_type": "code",
      "source": [
        "# Support Vector Machine Regressor     # 또다른 Regression 모델 서포트 벡터 머신\n",
        "from sklearn.svm import SVR                 # Regression 모델에 쓰이는 SVR / classification 에서는 SVC \n",
        "svm_regre = SVR()\n",
        "svm_regre.fit(X_train['s6'].values.reshape((-1,1)), y_train)\n",
        "y_pred = svm_regre.predict(X_test['s6'].values.reshape((-1,1)))\n",
        "print('단순 서포트 벡터 머신 회귀, R2: {:.2f}'.format(r2_score(y_test, y_pred)))"
      ],
      "metadata": {
        "colab": {
          "base_uri": "https://localhost:8080/"
        },
        "id": "QMViiSS76y0x",
        "outputId": "b3f755c5-f113-4cdb-c991-805a3fb3e985"
      },
      "execution_count": 40,
      "outputs": [
        {
          "output_type": "stream",
          "name": "stdout",
          "text": [
            "단순 서포트 벡터 머신 회귀, R2: 0.06\n"
          ]
        }
      ]
    },
    {
      "cell_type": "code",
      "source": [
        "for i in [1,2,3,4,5,6,7,8,9,10,11,12,13,14,15,16,17,18,19,20]:\n",
        "  svm_regr = SVR(C=i)                           # C 값에 따라 결과가 바뀐다\n",
        "  svm_regr.fit(X_train, y_train)\n",
        "  y_pred = svm_regr.predict(X_test)\n",
        "  print('다중 서포트 벡터 머신 회귀,i = {} R2: {:.2f}'.format(i, r2_score(y_test, y_pred)))"
      ],
      "metadata": {
        "colab": {
          "base_uri": "https://localhost:8080/"
        },
        "id": "XK9e1cmu8kso",
        "outputId": "78490510-8204-489c-de44-22233a69c6ca"
      },
      "execution_count": 41,
      "outputs": [
        {
          "output_type": "stream",
          "name": "stdout",
          "text": [
            "다중 서포트 벡터 머신 회귀,i = 1 R2: 0.17\n",
            "다중 서포트 벡터 머신 회귀,i = 2 R2: 0.29\n",
            "다중 서포트 벡터 머신 회귀,i = 3 R2: 0.35\n",
            "다중 서포트 벡터 머신 회귀,i = 4 R2: 0.39\n",
            "다중 서포트 벡터 머신 회귀,i = 5 R2: 0.42\n",
            "다중 서포트 벡터 머신 회귀,i = 6 R2: 0.44\n",
            "다중 서포트 벡터 머신 회귀,i = 7 R2: 0.46\n",
            "다중 서포트 벡터 머신 회귀,i = 8 R2: 0.47\n",
            "다중 서포트 벡터 머신 회귀,i = 9 R2: 0.48\n",
            "다중 서포트 벡터 머신 회귀,i = 10 R2: 0.49\n",
            "다중 서포트 벡터 머신 회귀,i = 11 R2: 0.49\n",
            "다중 서포트 벡터 머신 회귀,i = 12 R2: 0.50\n",
            "다중 서포트 벡터 머신 회귀,i = 13 R2: 0.50\n",
            "다중 서포트 벡터 머신 회귀,i = 14 R2: 0.50\n",
            "다중 서포트 벡터 머신 회귀,i = 15 R2: 0.50\n",
            "다중 서포트 벡터 머신 회귀,i = 16 R2: 0.50\n",
            "다중 서포트 벡터 머신 회귀,i = 17 R2: 0.50\n",
            "다중 서포트 벡터 머신 회귀,i = 18 R2: 0.50\n",
            "다중 서포트 벡터 머신 회귀,i = 19 R2: 0.50\n",
            "다중 서포트 벡터 머신 회귀,i = 20 R2: 0.50\n"
          ]
        }
      ]
    },
    {
      "cell_type": "code",
      "source": [
        "# Multi Layer Perceptron Regressor           # 또 다른  Regression 모델 MLP\n",
        "from sklearn.neural_network import MLPRegressor\n",
        "mlp_regr = MLPRegressor()\n",
        "mlp_regr.fit(X_train, y_train)\n",
        "y_pred = mlp_regr.predict(X_test)\n",
        "print('다중 MLP 회귀 R2 : {:.2f}'.format(r2_score(y_test, y_pred)))"
      ],
      "metadata": {
        "colab": {
          "base_uri": "https://localhost:8080/"
        },
        "id": "aovkeDoy9YYI",
        "outputId": "6b527073-ac9f-4fde-f2db-6a76516c19a2"
      },
      "execution_count": 43,
      "outputs": [
        {
          "output_type": "stream",
          "name": "stdout",
          "text": [
            "다중 MLP 회귀 R2 : -2.41\n"
          ]
        },
        {
          "output_type": "stream",
          "name": "stderr",
          "text": [
            "/usr/local/lib/python3.10/dist-packages/sklearn/neural_network/_multilayer_perceptron.py:686: ConvergenceWarning: Stochastic Optimizer: Maximum iterations (200) reached and the optimization hasn't converged yet.\n",
            "  warnings.warn(\n"
          ]
        }
      ]
    }
  ]
}